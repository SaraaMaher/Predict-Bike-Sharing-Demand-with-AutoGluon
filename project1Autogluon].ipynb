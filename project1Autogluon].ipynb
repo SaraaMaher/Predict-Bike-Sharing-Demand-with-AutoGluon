{
  "cells": [
    {
      "cell_type": "markdown",
      "metadata": {
        "id": "view-in-github",
        "colab_type": "text"
      },
      "source": [
        "<a href=\"https://colab.research.google.com/github/SaraaMaher/Predict-Bike-Sharing-Demand-with-AutoGluon/blob/main/project1Autogluon%5D.ipynb\" target=\"_parent\"><img src=\"https://colab.research.google.com/assets/colab-badge.svg\" alt=\"Open In Colab\"/></a>"
      ]
    },
    {
      "cell_type": "markdown",
      "metadata": {
        "id": "kfmaiV2TsZLf"
      },
      "source": [
        "# Predict Bike Sharing Demand with AutoGluon Template"
      ]
    },
    {
      "cell_type": "markdown",
      "metadata": {
        "id": "uDgAwKZLsZLl"
      },
      "source": [
        "## Project: Predict Bike Sharing Demand with AutoGluon\n",
        "This notebook is a template with each step that you need to complete for the project.\n",
        "\n",
        "Please fill in your code where there are explicit `?` markers in the notebook. You are welcome to add more cells and code as you see fit.\n",
        "\n",
        "Once you have completed all the code implementations, please export your notebook as a HTML file so the reviews can view your code. Make sure you have all outputs correctly outputted.\n",
        "\n",
        "`File-> Export Notebook As... -> Export Notebook as HTML`\n",
        "\n",
        "There is a writeup to complete as well after all code implememtation is done. Please answer all questions and attach the necessary tables and charts. You can complete the writeup in either markdown or PDF.\n",
        "\n",
        "Completing the code template and writeup template will cover all of the rubric points for this project.\n",
        "\n",
        "The rubric contains \"Stand Out Suggestions\" for enhancing the project beyond the minimum requirements. The stand out suggestions are optional. If you decide to pursue the \"stand out suggestions\", you can include the code in this notebook and also discuss the results in the writeup file."
      ]
    },
    {
      "cell_type": "markdown",
      "metadata": {
        "id": "c7f6f4BxsZLm"
      },
      "source": [
        "## Step 1: Create an account with Kaggle"
      ]
    },
    {
      "cell_type": "markdown",
      "metadata": {
        "id": "MCtKz83MsZLn"
      },
      "source": [
        "### Create Kaggle Account and download API key\n",
        "Below is example of steps to get the API username and key. Each student will have their own username and key."
      ]
    },
    {
      "cell_type": "markdown",
      "metadata": {
        "id": "gz6HhqtgsZLo"
      },
      "source": [
        "## Step 2: Download the Kaggle dataset using the kaggle python library"
      ]
    },
    {
      "cell_type": "markdown",
      "metadata": {
        "id": "pabX1nqSsZLp"
      },
      "source": [
        "### Open up Sagemaker Studio and use starter template"
      ]
    },
    {
      "cell_type": "markdown",
      "metadata": {
        "id": "ftKACalmsZLq"
      },
      "source": [
        "1. Notebook should be using a `ml.t3.medium` instance (2 vCPU + 4 GiB)\n",
        "2. Notebook should be using kernal: `Python 3 (MXNet 1.8 Python 3.7 CPU Optimized)`"
      ]
    },
    {
      "cell_type": "markdown",
      "metadata": {
        "id": "Zh9Q8LqvsZLr"
      },
      "source": [
        "### Install packages"
      ]
    },
    {
      "cell_type": "code",
      "execution_count": 1,
      "metadata": {
        "id": "R7MCk10EsZLs",
        "outputId": "0ac435b1-16bf-4149-a86f-5fc3f39983d3",
        "colab": {
          "base_uri": "https://localhost:8080/"
        }
      },
      "outputs": [
        {
          "output_type": "stream",
          "name": "stdout",
          "text": [
            "Looking in indexes: https://pypi.org/simple, https://us-python.pkg.dev/colab-wheels/public/simple/\n",
            "Requirement already satisfied: pip in /usr/local/lib/python3.7/dist-packages (21.1.3)\n",
            "Collecting pip\n",
            "  Downloading pip-22.2.2-py3-none-any.whl (2.0 MB)\n",
            "\u001b[K     |████████████████████████████████| 2.0 MB 28.9 MB/s \n",
            "\u001b[?25hInstalling collected packages: pip\n",
            "  Attempting uninstall: pip\n",
            "    Found existing installation: pip 21.1.3\n",
            "    Uninstalling pip-21.1.3:\n",
            "      Successfully uninstalled pip-21.1.3\n",
            "Successfully installed pip-22.2.2\n",
            "Looking in indexes: https://pypi.org/simple, https://us-python.pkg.dev/colab-wheels/public/simple/\n",
            "Requirement already satisfied: setuptools in /usr/local/lib/python3.7/dist-packages (57.4.0)\n",
            "Collecting setuptools\n",
            "  Downloading setuptools-65.2.0-py3-none-any.whl (1.2 MB)\n",
            "\u001b[2K     \u001b[90m━━━━━━━━━━━━━━━━━━━━━━━━━━━━━━━━━━━━━━━━\u001b[0m \u001b[32m1.2/1.2 MB\u001b[0m \u001b[31m14.6 MB/s\u001b[0m eta \u001b[36m0:00:00\u001b[0m\n",
            "\u001b[?25hRequirement already satisfied: wheel in /usr/local/lib/python3.7/dist-packages (0.37.1)\n",
            "Installing collected packages: setuptools\n",
            "  Attempting uninstall: setuptools\n",
            "    Found existing installation: setuptools 57.4.0\n",
            "    Uninstalling setuptools-57.4.0:\n",
            "      Successfully uninstalled setuptools-57.4.0\n",
            "\u001b[31mERROR: pip's dependency resolver does not currently take into account all the packages that are installed. This behaviour is the source of the following dependency conflicts.\n",
            "ipython 7.9.0 requires jedi>=0.10, which is not installed.\u001b[0m\u001b[31m\n",
            "\u001b[0mSuccessfully installed setuptools-65.2.0\n",
            "\u001b[33mWARNING: Running pip as the 'root' user can result in broken permissions and conflicting behaviour with the system package manager. It is recommended to use a virtual environment instead: https://pip.pypa.io/warnings/venv\u001b[0m\u001b[33m\n",
            "\u001b[0mLooking in indexes: https://pypi.org/simple, https://us-python.pkg.dev/colab-wheels/public/simple/\n",
            "Collecting mxnet<2.0.0\n",
            "  Downloading mxnet-1.9.1-py3-none-manylinux2014_x86_64.whl (49.1 MB)\n",
            "\u001b[2K     \u001b[90m━━━━━━━━━━━━━━━━━━━━━━━━━━━━━━━━━━━━━━━━\u001b[0m \u001b[32m49.1/49.1 MB\u001b[0m \u001b[31m12.4 MB/s\u001b[0m eta \u001b[36m0:00:00\u001b[0m\n",
            "\u001b[?25hCollecting bokeh==2.0.1\n",
            "  Downloading bokeh-2.0.1.tar.gz (8.6 MB)\n",
            "\u001b[2K     \u001b[90m━━━━━━━━━━━━━━━━━━━━━━━━━━━━━━━━━━━━━━━━\u001b[0m \u001b[32m8.6/8.6 MB\u001b[0m \u001b[31m75.0 MB/s\u001b[0m eta \u001b[36m0:00:00\u001b[0m\n",
            "\u001b[?25h  Preparing metadata (setup.py) ... \u001b[?25l\u001b[?25hdone\n",
            "Requirement already satisfied: PyYAML>=3.10 in /usr/local/lib/python3.7/dist-packages (from bokeh==2.0.1) (6.0)\n",
            "Requirement already satisfied: python-dateutil>=2.1 in /usr/local/lib/python3.7/dist-packages (from bokeh==2.0.1) (2.8.2)\n",
            "Requirement already satisfied: Jinja2>=2.7 in /usr/local/lib/python3.7/dist-packages (from bokeh==2.0.1) (2.11.3)\n",
            "Requirement already satisfied: numpy>=1.11.3 in /usr/local/lib/python3.7/dist-packages (from bokeh==2.0.1) (1.21.6)\n",
            "Requirement already satisfied: pillow>=4.0 in /usr/local/lib/python3.7/dist-packages (from bokeh==2.0.1) (7.1.2)\n",
            "Requirement already satisfied: packaging>=16.8 in /usr/local/lib/python3.7/dist-packages (from bokeh==2.0.1) (21.3)\n",
            "Requirement already satisfied: tornado>=5 in /usr/local/lib/python3.7/dist-packages (from bokeh==2.0.1) (5.1.1)\n",
            "Requirement already satisfied: typing_extensions>=3.7.4 in /usr/local/lib/python3.7/dist-packages (from bokeh==2.0.1) (4.1.1)\n",
            "Requirement already satisfied: requests<3,>=2.20.0 in /usr/local/lib/python3.7/dist-packages (from mxnet<2.0.0) (2.23.0)\n",
            "Collecting graphviz<0.9.0,>=0.8.1\n",
            "  Downloading graphviz-0.8.4-py2.py3-none-any.whl (16 kB)\n",
            "Requirement already satisfied: MarkupSafe>=0.23 in /usr/local/lib/python3.7/dist-packages (from Jinja2>=2.7->bokeh==2.0.1) (2.0.1)\n",
            "Requirement already satisfied: pyparsing!=3.0.5,>=2.0.2 in /usr/local/lib/python3.7/dist-packages (from packaging>=16.8->bokeh==2.0.1) (3.0.9)\n",
            "Requirement already satisfied: six>=1.5 in /usr/local/lib/python3.7/dist-packages (from python-dateutil>=2.1->bokeh==2.0.1) (1.15.0)\n",
            "Requirement already satisfied: certifi>=2017.4.17 in /usr/local/lib/python3.7/dist-packages (from requests<3,>=2.20.0->mxnet<2.0.0) (2022.6.15)\n",
            "Requirement already satisfied: urllib3!=1.25.0,!=1.25.1,<1.26,>=1.21.1 in /usr/local/lib/python3.7/dist-packages (from requests<3,>=2.20.0->mxnet<2.0.0) (1.24.3)\n",
            "Requirement already satisfied: idna<3,>=2.5 in /usr/local/lib/python3.7/dist-packages (from requests<3,>=2.20.0->mxnet<2.0.0) (2.10)\n",
            "Requirement already satisfied: chardet<4,>=3.0.2 in /usr/local/lib/python3.7/dist-packages (from requests<3,>=2.20.0->mxnet<2.0.0) (3.0.4)\n",
            "Building wheels for collected packages: bokeh\n",
            "  Building wheel for bokeh (setup.py) ... \u001b[?25l\u001b[?25hdone\n",
            "  Created wheel for bokeh: filename=bokeh-2.0.1-py3-none-any.whl size=9080019 sha256=f28fdfedee41bccbb3e1798463fb572df8edf44de78438c3536ed96f5505eff0\n",
            "  Stored in directory: /root/.cache/pip/wheels/9f/9e/ac/f24f30e119df73511fde9af8aa747217ac8824e662037ba9a8\n",
            "Successfully built bokeh\n",
            "Installing collected packages: graphviz, mxnet, bokeh\n",
            "  Attempting uninstall: graphviz\n",
            "    Found existing installation: graphviz 0.10.1\n",
            "    Uninstalling graphviz-0.10.1:\n",
            "      Successfully uninstalled graphviz-0.10.1\n",
            "  Attempting uninstall: bokeh\n",
            "    Found existing installation: bokeh 2.3.3\n",
            "    Uninstalling bokeh-2.3.3:\n",
            "      Successfully uninstalled bokeh-2.3.3\n",
            "\u001b[31mERROR: pip's dependency resolver does not currently take into account all the packages that are installed. This behaviour is the source of the following dependency conflicts.\n",
            "panel 0.12.1 requires bokeh<2.4.0,>=2.3.0, but you have bokeh 2.0.1 which is incompatible.\u001b[0m\u001b[31m\n",
            "\u001b[0mSuccessfully installed bokeh-2.0.1 graphviz-0.8.4 mxnet-1.9.1\n",
            "\u001b[33mWARNING: Running pip as the 'root' user can result in broken permissions and conflicting behaviour with the system package manager. It is recommended to use a virtual environment instead: https://pip.pypa.io/warnings/venv\u001b[0m\u001b[33m\n",
            "\u001b[0mLooking in indexes: https://pypi.org/simple, https://us-python.pkg.dev/colab-wheels/public/simple/\n",
            "Collecting autogluon\n",
            "  Downloading autogluon-0.5.2-py3-none-any.whl (9.6 kB)\n",
            "Collecting autogluon.features==0.5.2\n",
            "  Downloading autogluon.features-0.5.2-py3-none-any.whl (59 kB)\n",
            "\u001b[2K     \u001b[90m━━━━━━━━━━━━━━━━━━━━━━━━━━━━━━━━━━━━━━━\u001b[0m \u001b[32m59.4/59.4 kB\u001b[0m \u001b[31m140.8 MB/s\u001b[0m eta \u001b[36m0:00:00\u001b[0m\n",
            "\u001b[?25hCollecting autogluon.text==0.5.2\n",
            "  Downloading autogluon.text-0.5.2-py3-none-any.whl (61 kB)\n",
            "\u001b[2K     \u001b[90m━━━━━━━━━━━━━━━━━━━━━━━━━━━━━━━━━━━━━━━\u001b[0m \u001b[32m61.9/61.9 kB\u001b[0m \u001b[31m168.5 MB/s\u001b[0m eta \u001b[36m0:00:00\u001b[0m\n",
            "\u001b[?25hCollecting autogluon.multimodal==0.5.2\n",
            "  Downloading autogluon.multimodal-0.5.2-py3-none-any.whl (149 kB)\n",
            "\u001b[2K     \u001b[90m━━━━━━━━━━━━━━━━━━━━━━━━━━━━━━━━━━━━━\u001b[0m \u001b[32m149.4/149.4 kB\u001b[0m \u001b[31m190.4 MB/s\u001b[0m eta \u001b[36m0:00:00\u001b[0m\n",
            "\u001b[?25hCollecting autogluon.timeseries[all]==0.5.2\n",
            "  Downloading autogluon.timeseries-0.5.2-py3-none-any.whl (65 kB)\n",
            "\u001b[2K     \u001b[90m━━━━━━━━━━━━━━━━━━━━━━━━━━━━━━━━━━━━━━━\u001b[0m \u001b[32m65.4/65.4 kB\u001b[0m \u001b[31m171.7 MB/s\u001b[0m eta \u001b[36m0:00:00\u001b[0m\n",
            "\u001b[?25hCollecting autogluon.vision==0.5.2\n",
            "  Downloading autogluon.vision-0.5.2-py3-none-any.whl (48 kB)\n",
            "\u001b[2K     \u001b[90m━━━━━━━━━━━━━━━━━━━━━━━━━━━━━━━━━━━━━━━\u001b[0m \u001b[32m48.8/48.8 kB\u001b[0m \u001b[31m145.8 MB/s\u001b[0m eta \u001b[36m0:00:00\u001b[0m\n",
            "\u001b[?25hCollecting autogluon.tabular[all]==0.5.2\n",
            "  Downloading autogluon.tabular-0.5.2-py3-none-any.whl (274 kB)\n",
            "\u001b[2K     \u001b[90m━━━━━━━━━━━━━━━━━━━━━━━━━━━━━━━━━━━━━\u001b[0m \u001b[32m274.2/274.2 kB\u001b[0m \u001b[31m197.5 MB/s\u001b[0m eta \u001b[36m0:00:00\u001b[0m\n",
            "\u001b[?25hCollecting autogluon.core[all]==0.5.2\n",
            "  Downloading autogluon.core-0.5.2-py3-none-any.whl (210 kB)\n",
            "\u001b[2K     \u001b[90m━━━━━━━━━━━━━━━━━━━━━━━━━━━━━━━━━━━━━\u001b[0m \u001b[32m210.4/210.4 kB\u001b[0m \u001b[31m186.3 MB/s\u001b[0m eta \u001b[36m0:00:00\u001b[0m\n",
            "\u001b[?25hCollecting distributed<=2021.11.2,>=2021.09.1\n",
            "  Downloading distributed-2021.11.2-py3-none-any.whl (802 kB)\n",
            "\u001b[2K     \u001b[90m━━━━━━━━━━━━━━━━━━━━━━━━━━━━━━━━━━━━━━\u001b[0m \u001b[32m802.2/802.2 kB\u001b[0m \u001b[31m91.6 MB/s\u001b[0m eta \u001b[36m0:00:00\u001b[0m\n",
            "\u001b[?25hCollecting boto3\n",
            "  Downloading boto3-1.24.57-py3-none-any.whl (132 kB)\n",
            "\u001b[2K     \u001b[90m━━━━━━━━━━━━━━━━━━━━━━━━━━━━━━━━━━━━━\u001b[0m \u001b[32m132.5/132.5 kB\u001b[0m \u001b[31m189.1 MB/s\u001b[0m eta \u001b[36m0:00:00\u001b[0m\n",
            "\u001b[?25hRequirement already satisfied: tqdm>=4.38.0 in /usr/local/lib/python3.7/dist-packages (from autogluon.core[all]==0.5.2->autogluon) (4.64.0)\n",
            "Collecting dask<=2021.11.2,>=2021.09.1\n",
            "  Downloading dask-2021.11.2-py3-none-any.whl (1.0 MB)\n",
            "\u001b[2K     \u001b[90m━━━━━━━━━━━━━━━━━━━━━━━━━━━━━━━━━━━━━━━━\u001b[0m \u001b[32m1.0/1.0 MB\u001b[0m \u001b[31m126.2 MB/s\u001b[0m eta \u001b[36m0:00:00\u001b[0m\n",
            "\u001b[?25hRequirement already satisfied: numpy<1.23,>=1.21 in /usr/local/lib/python3.7/dist-packages (from autogluon.core[all]==0.5.2->autogluon) (1.21.6)\n",
            "Requirement already satisfied: requests in /usr/local/lib/python3.7/dist-packages (from autogluon.core[all]==0.5.2->autogluon) (2.23.0)\n",
            "Requirement already satisfied: pandas!=1.4.0,<1.5,>=1.2.5 in /usr/local/lib/python3.7/dist-packages (from autogluon.core[all]==0.5.2->autogluon) (1.3.5)\n",
            "Requirement already satisfied: scikit-learn<1.1,>=1.0.0 in /usr/local/lib/python3.7/dist-packages (from autogluon.core[all]==0.5.2->autogluon) (1.0.2)\n",
            "Requirement already satisfied: matplotlib in /usr/local/lib/python3.7/dist-packages (from autogluon.core[all]==0.5.2->autogluon) (3.2.2)\n",
            "Collecting autogluon.common==0.5.2\n",
            "  Downloading autogluon.common-0.5.2-py3-none-any.whl (37 kB)\n",
            "Requirement already satisfied: scipy<1.8.0,>=1.5.4 in /usr/local/lib/python3.7/dist-packages (from autogluon.core[all]==0.5.2->autogluon) (1.7.3)\n",
            "Collecting hyperopt<0.2.8,>=0.2.7\n",
            "  Downloading hyperopt-0.2.7-py2.py3-none-any.whl (1.6 MB)\n",
            "\u001b[2K     \u001b[90m━━━━━━━━━━━━━━━━━━━━━━━━━━━━━━━━━━━━━━━━\u001b[0m \u001b[32m1.6/1.6 MB\u001b[0m \u001b[31m156.8 MB/s\u001b[0m eta \u001b[36m0:00:00\u001b[0m\n",
            "\u001b[?25hCollecting ray[tune]<1.14,>=1.13\n",
            "  Downloading ray-1.13.0-cp37-cp37m-manylinux2014_x86_64.whl (54.5 MB)\n",
            "\u001b[2K     \u001b[90m━━━━━━━━━━━━━━━━━━━━━━━━━━━━━━━━━━━━━━━\u001b[0m \u001b[32m54.5/54.5 MB\u001b[0m \u001b[31m207.2 MB/s\u001b[0m eta \u001b[36m0:00:00\u001b[0m\n",
            "\u001b[?25hCollecting psutil<6,>=5.7.3\n",
            "  Downloading psutil-5.9.1-cp37-cp37m-manylinux_2_12_x86_64.manylinux2010_x86_64.manylinux_2_17_x86_64.manylinux2014_x86_64.whl (281 kB)\n",
            "\u001b[2K     \u001b[90m━━━━━━━━━━━━━━━━━━━━━━━━━━━━━━━━━━━━━\u001b[0m \u001b[32m281.4/281.4 kB\u001b[0m \u001b[31m225.5 MB/s\u001b[0m eta \u001b[36m0:00:00\u001b[0m\n",
            "\u001b[?25hCollecting transformers<4.21.0,>=4.18.0\n",
            "  Downloading transformers-4.20.1-py3-none-any.whl (4.4 MB)\n",
            "\u001b[2K     \u001b[90m━━━━━━━━━━━━━━━━━━━━━━━━━━━━━━━━━━━━━━━━\u001b[0m \u001b[32m4.4/4.4 MB\u001b[0m \u001b[31m221.1 MB/s\u001b[0m eta \u001b[36m0:00:00\u001b[0m\n",
            "\u001b[?25hCollecting scikit-image<0.20.0,>=0.19.1\n",
            "  Downloading scikit_image-0.19.3-cp37-cp37m-manylinux_2_12_x86_64.manylinux2010_x86_64.whl (13.5 MB)\n",
            "\u001b[2K     \u001b[90m━━━━━━━━━━━━━━━━━━━━━━━━━━━━━━━━━━━━━━━\u001b[0m \u001b[32m13.5/13.5 MB\u001b[0m \u001b[31m206.8 MB/s\u001b[0m eta \u001b[36m0:00:00\u001b[0m\n",
            "\u001b[?25hCollecting pytorch-lightning<1.7.0,>=1.6.0\n",
            "  Downloading pytorch_lightning-1.6.5-py3-none-any.whl (585 kB)\n",
            "\u001b[2K     \u001b[90m━━━━━━━━━━━━━━━━━━━━━━━━━━━━━━━━━━━━━\u001b[0m \u001b[32m585.9/585.9 kB\u001b[0m \u001b[31m222.2 MB/s\u001b[0m eta \u001b[36m0:00:00\u001b[0m\n",
            "\u001b[?25hCollecting nptyping<1.5.0,>=1.4.4\n",
            "  Downloading nptyping-1.4.4-py3-none-any.whl (31 kB)\n",
            "Collecting torchmetrics<0.8.0,>=0.7.2\n",
            "  Downloading torchmetrics-0.7.3-py3-none-any.whl (398 kB)\n",
            "\u001b[2K     \u001b[90m━━━━━━━━━━━━━━━━━━━━━━━━━━━━━━━━━━━━━\u001b[0m \u001b[32m398.2/398.2 kB\u001b[0m \u001b[31m232.3 MB/s\u001b[0m eta \u001b[36m0:00:00\u001b[0m\n",
            "\u001b[?25hCollecting nlpaug<=1.1.10,>=1.1.10\n",
            "  Downloading nlpaug-1.1.10-py3-none-any.whl (410 kB)\n",
            "\u001b[2K     \u001b[90m━━━━━━━━━━━━━━━━━━━━━━━━━━━━━━━━━━━━━\u001b[0m \u001b[32m410.8/410.8 kB\u001b[0m \u001b[31m221.3 MB/s\u001b[0m eta \u001b[36m0:00:00\u001b[0m\n",
            "\u001b[?25hCollecting fairscale<=0.4.6,>=0.4.5\n",
            "  Downloading fairscale-0.4.6.tar.gz (248 kB)\n",
            "\u001b[2K     \u001b[90m━━━━━━━━━━━━━━━━━━━━━━━━━━━━━━━━━━━━━\u001b[0m \u001b[32m248.2/248.2 kB\u001b[0m \u001b[31m225.5 MB/s\u001b[0m eta \u001b[36m0:00:00\u001b[0m\n",
            "\u001b[?25h  Installing build dependencies ... \u001b[?25l\u001b[?25hdone\n",
            "  Getting requirements to build wheel ... \u001b[?25l\u001b[?25hdone\n",
            "  Installing backend dependencies ... \u001b[?25l\u001b[?25hdone\n",
            "  Preparing metadata (pyproject.toml) ... \u001b[?25l\u001b[?25hdone\n",
            "Requirement already satisfied: protobuf<=3.18.1 in /usr/local/lib/python3.7/dist-packages (from autogluon.multimodal==0.5.2->autogluon) (3.17.3)\n",
            "Requirement already satisfied: torch<1.13,>=1.9 in /usr/local/lib/python3.7/dist-packages (from autogluon.multimodal==0.5.2->autogluon) (1.12.1+cu113)\n",
            "Collecting omegaconf<2.2.0,>=2.1.1\n",
            "  Downloading omegaconf-2.1.2-py3-none-any.whl (74 kB)\n",
            "\u001b[2K     \u001b[90m━━━━━━━━━━━━━━━━━━━━━━━━━━━━━━━━━━━━━━━\u001b[0m \u001b[32m74.7/74.7 kB\u001b[0m \u001b[31m169.3 MB/s\u001b[0m eta \u001b[36m0:00:00\u001b[0m\n",
            "\u001b[?25hCollecting Pillow<9.1.0,>=9.0.1\n",
            "  Downloading Pillow-9.0.1-cp37-cp37m-manylinux_2_17_x86_64.manylinux2014_x86_64.whl (4.3 MB)\n",
            "\u001b[2K     \u001b[90m━━━━━━━━━━━━━━━━━━━━━━━━━━━━━━━━━━━━━━━━\u001b[0m \u001b[32m4.3/4.3 MB\u001b[0m \u001b[31m231.6 MB/s\u001b[0m eta \u001b[36m0:00:00\u001b[0m\n",
            "\u001b[?25hRequirement already satisfied: torchvision<0.14.0 in /usr/local/lib/python3.7/dist-packages (from autogluon.multimodal==0.5.2->autogluon) (0.13.1+cu113)\n",
            "Requirement already satisfied: torchtext<0.14.0 in /usr/local/lib/python3.7/dist-packages (from autogluon.multimodal==0.5.2->autogluon) (0.13.1)\n",
            "Collecting timm<0.6.0\n",
            "  Downloading timm-0.5.4-py3-none-any.whl (431 kB)\n",
            "\u001b[2K     \u001b[90m━━━━━━━━━━━━━━━━━━━━━━━━━━━━━━━━━━━━━\u001b[0m \u001b[32m431.5/431.5 kB\u001b[0m \u001b[31m239.8 MB/s\u001b[0m eta \u001b[36m0:00:00\u001b[0m\n",
            "\u001b[?25hRequirement already satisfied: smart-open<5.3.0,>=5.2.1 in /usr/local/lib/python3.7/dist-packages (from autogluon.multimodal==0.5.2->autogluon) (5.2.1)\n",
            "Collecting sentencepiece<0.2.0,>=0.1.95\n",
            "  Downloading sentencepiece-0.1.97-cp37-cp37m-manylinux_2_17_x86_64.manylinux2014_x86_64.whl (1.3 MB)\n",
            "\u001b[2K     \u001b[90m━━━━━━━━━━━━━━━━━━━━━━━━━━━━━━━━━━━━━━━━\u001b[0m \u001b[32m1.3/1.3 MB\u001b[0m \u001b[31m241.7 MB/s\u001b[0m eta \u001b[36m0:00:00\u001b[0m\n",
            "\u001b[?25hCollecting pytorch-metric-learning<1.4.0,>=1.3.0\n",
            "  Downloading pytorch_metric_learning-1.3.2-py3-none-any.whl (109 kB)\n",
            "\u001b[2K     \u001b[90m━━━━━━━━━━━━━━━━━━━━━━━━━━━━━━━━━━━━━\u001b[0m \u001b[32m109.4/109.4 kB\u001b[0m \u001b[31m197.0 MB/s\u001b[0m eta \u001b[36m0:00:00\u001b[0m\n",
            "\u001b[?25hRequirement already satisfied: nltk<4.0.0,>=3.4.5 in /usr/local/lib/python3.7/dist-packages (from autogluon.multimodal==0.5.2->autogluon) (3.7)\n",
            "Requirement already satisfied: networkx<3.0,>=2.3 in /usr/local/lib/python3.7/dist-packages (from autogluon.tabular[all]==0.5.2->autogluon) (2.6.3)\n",
            "Collecting catboost<1.1,>=1.0\n",
            "  Downloading catboost-1.0.6-cp37-none-manylinux1_x86_64.whl (76.6 MB)\n",
            "\u001b[2K     \u001b[90m━━━━━━━━━━━━━━━━━━━━━━━━━━━━━━━━━━━━━━━\u001b[0m \u001b[32m76.6/76.6 MB\u001b[0m \u001b[31m204.4 MB/s\u001b[0m eta \u001b[36m0:00:00\u001b[0m\n",
            "\u001b[?25hCollecting xgboost<1.5,>=1.4\n",
            "  Downloading xgboost-1.4.2-py3-none-manylinux2010_x86_64.whl (166.7 MB)\n",
            "\u001b[2K     \u001b[90m━━━━━━━━━━━━━━━━━━━━━━━━━━━━━━━━━━━━━\u001b[0m \u001b[32m166.7/166.7 MB\u001b[0m \u001b[31m159.6 MB/s\u001b[0m eta \u001b[36m0:00:00\u001b[0m\n",
            "\u001b[?25hRequirement already satisfied: fastai<2.8,>=2.3.1 in /usr/local/lib/python3.7/dist-packages (from autogluon.tabular[all]==0.5.2->autogluon) (2.7.9)\n",
            "Collecting lightgbm<3.4,>=3.3\n",
            "  Downloading lightgbm-3.3.2-py3-none-manylinux1_x86_64.whl (2.0 MB)\n",
            "\u001b[2K     \u001b[90m━━━━━━━━━━━━━━━━━━━━━━━━━━━━━━━━━━━━━━━━\u001b[0m \u001b[32m2.0/2.0 MB\u001b[0m \u001b[31m237.7 MB/s\u001b[0m eta \u001b[36m0:00:00\u001b[0m\n",
            "\u001b[?25hCollecting autogluon-contrib-nlp==0.0.1b20220208\n",
            "  Downloading autogluon_contrib_nlp-0.0.1b20220208-py3-none-any.whl (157 kB)\n",
            "\u001b[2K     \u001b[90m━━━━━━━━━━━━━━━━━━━━━━━━━━━━━━━━━━━━━\u001b[0m \u001b[32m157.3/157.3 kB\u001b[0m \u001b[31m192.4 MB/s\u001b[0m eta \u001b[36m0:00:00\u001b[0m\n",
            "\u001b[?25hCollecting gluonts<0.10.0,>=0.8.0\n",
            "  Downloading gluonts-0.9.8-py3-none-any.whl (2.8 MB)\n",
            "\u001b[2K     \u001b[90m━━━━━━━━━━━━━━━━━━━━━━━━━━━━━━━━━━━━━━━━\u001b[0m \u001b[32m2.8/2.8 MB\u001b[0m \u001b[31m205.2 MB/s\u001b[0m eta \u001b[36m0:00:00\u001b[0m\n",
            "\u001b[?25hCollecting psutil<6,>=5.7.3\n",
            "  Downloading psutil-5.8.0-cp37-cp37m-manylinux2010_x86_64.whl (296 kB)\n",
            "\u001b[2K     \u001b[90m━━━━━━━━━━━━━━━━━━━━━━━━━━━━━━━━━━━━━\u001b[0m \u001b[32m296.3/296.3 kB\u001b[0m \u001b[31m201.3 MB/s\u001b[0m eta \u001b[36m0:00:00\u001b[0m\n",
            "\u001b[?25hCollecting sktime~=0.11.4\n",
            "  Downloading sktime-0.11.4-py3-none-any.whl (6.7 MB)\n",
            "\u001b[2K     \u001b[90m━━━━━━━━━━━━━━━━━━━━━━━━━━━━━━━━━━━━━━━━\u001b[0m \u001b[32m6.7/6.7 MB\u001b[0m \u001b[31m205.5 MB/s\u001b[0m eta \u001b[36m0:00:00\u001b[0m\n",
            "\u001b[?25hCollecting pmdarima~=1.8.2\n",
            "  Downloading pmdarima-1.8.5-cp37-cp37m-manylinux_2_17_x86_64.manylinux2014_x86_64.manylinux_2_24_x86_64.whl (1.4 MB)\n",
            "\u001b[2K     \u001b[90m━━━━━━━━━━━━━━━━━━━━━━━━━━━━━━━━━━━━━━━━\u001b[0m \u001b[32m1.4/1.4 MB\u001b[0m \u001b[31m243.1 MB/s\u001b[0m eta \u001b[36m0:00:00\u001b[0m\n",
            "\u001b[?25hCollecting tbats~=1.1\n",
            "  Downloading tbats-1.1.0-py3-none-any.whl (43 kB)\n",
            "\u001b[2K     \u001b[90m━━━━━━━━━━━━━━━━━━━━━━━━━━━━━━━━━━━━━━━\u001b[0m \u001b[32m43.8/43.8 kB\u001b[0m \u001b[31m125.8 MB/s\u001b[0m eta \u001b[36m0:00:00\u001b[0m\n",
            "\u001b[?25hCollecting gluoncv<0.10.6,>=0.10.5\n",
            "  Downloading gluoncv-0.10.5.post0-py2.py3-none-any.whl (1.3 MB)\n",
            "\u001b[2K     \u001b[90m━━━━━━━━━━━━━━━━━━━━━━━━━━━━━━━━━━━━━━━━\u001b[0m \u001b[32m1.3/1.3 MB\u001b[0m \u001b[31m210.0 MB/s\u001b[0m eta \u001b[36m0:00:00\u001b[0m\n",
            "\u001b[?25hCollecting flake8\n",
            "  Downloading flake8-5.0.4-py2.py3-none-any.whl (61 kB)\n",
            "\u001b[2K     \u001b[90m━━━━━━━━━━━━━━━━━━━━━━━━━━━━━━━━━━━━━━━\u001b[0m \u001b[32m61.9/61.9 kB\u001b[0m \u001b[31m152.8 MB/s\u001b[0m eta \u001b[36m0:00:00\u001b[0m\n",
            "\u001b[?25hCollecting contextvars\n",
            "  Downloading contextvars-2.4.tar.gz (9.6 kB)\n",
            "  Preparing metadata (setup.py) ... \u001b[?25l\u001b[?25hdone\n",
            "Collecting sacremoses>=0.0.38\n",
            "  Downloading sacremoses-0.0.53.tar.gz (880 kB)\n",
            "\u001b[2K     \u001b[90m━━━━━━━━━━━━━━━━━━━━━━━━━━━━━━━━━━━━━\u001b[0m \u001b[32m880.6/880.6 kB\u001b[0m \u001b[31m230.5 MB/s\u001b[0m eta \u001b[36m0:00:00\u001b[0m\n",
            "\u001b[?25h  Preparing metadata (setup.py) ... \u001b[?25l\u001b[?25hdone\n",
            "Requirement already satisfied: regex in /usr/local/lib/python3.7/dist-packages (from autogluon-contrib-nlp==0.0.1b20220208->autogluon.text==0.5.2->autogluon) (2022.6.2)\n",
            "Collecting sacrebleu\n",
            "  Downloading sacrebleu-2.2.0-py3-none-any.whl (116 kB)\n",
            "\u001b[2K     \u001b[90m━━━━━━━━━━━━━━━━━━━━━━━━━━━━━━━━━━━━━\u001b[0m \u001b[32m116.6/116.6 kB\u001b[0m \u001b[31m196.1 MB/s\u001b[0m eta \u001b[36m0:00:00\u001b[0m\n",
            "\u001b[?25hCollecting yacs>=0.1.6\n",
            "  Downloading yacs-0.1.8-py3-none-any.whl (14 kB)\n",
            "Requirement already satisfied: pyarrow in /usr/local/lib/python3.7/dist-packages (from autogluon-contrib-nlp==0.0.1b20220208->autogluon.text==0.5.2->autogluon) (6.0.1)\n",
            "Collecting tokenizers>=0.9.4\n",
            "  Downloading tokenizers-0.12.1-cp37-cp37m-manylinux_2_12_x86_64.manylinux2010_x86_64.whl (6.6 MB)\n",
            "\u001b[2K     \u001b[90m━━━━━━━━━━━━━━━━━━━━━━━━━━━━━━━━━━━━━━━━\u001b[0m \u001b[32m6.6/6.6 MB\u001b[0m \u001b[31m201.0 MB/s\u001b[0m eta \u001b[36m0:00:00\u001b[0m\n",
            "\u001b[?25hCollecting sentencepiece<0.2.0,>=0.1.95\n",
            "  Downloading sentencepiece-0.1.95-cp37-cp37m-manylinux2014_x86_64.whl (1.2 MB)\n",
            "\u001b[2K     \u001b[90m━━━━━━━━━━━━━━━━━━━━━━━━━━━━━━━━━━━━━━━━\u001b[0m \u001b[32m1.2/1.2 MB\u001b[0m \u001b[31m247.6 MB/s\u001b[0m eta \u001b[36m0:00:00\u001b[0m\n",
            "\u001b[?25hRequirement already satisfied: plotly in /usr/local/lib/python3.7/dist-packages (from catboost<1.1,>=1.0->autogluon.tabular[all]==0.5.2->autogluon) (5.5.0)\n",
            "Requirement already satisfied: six in /usr/local/lib/python3.7/dist-packages (from catboost<1.1,>=1.0->autogluon.tabular[all]==0.5.2->autogluon) (1.15.0)\n",
            "Requirement already satisfied: graphviz in /usr/local/lib/python3.7/dist-packages (from catboost<1.1,>=1.0->autogluon.tabular[all]==0.5.2->autogluon) (0.8.4)\n",
            "Requirement already satisfied: pyyaml in /usr/local/lib/python3.7/dist-packages (from dask<=2021.11.2,>=2021.09.1->autogluon.core[all]==0.5.2->autogluon) (6.0)\n",
            "Requirement already satisfied: cloudpickle>=1.1.1 in /usr/local/lib/python3.7/dist-packages (from dask<=2021.11.2,>=2021.09.1->autogluon.core[all]==0.5.2->autogluon) (1.5.0)\n",
            "Requirement already satisfied: toolz>=0.8.2 in /usr/local/lib/python3.7/dist-packages (from dask<=2021.11.2,>=2021.09.1->autogluon.core[all]==0.5.2->autogluon) (0.12.0)\n",
            "Requirement already satisfied: fsspec>=0.6.0 in /usr/local/lib/python3.7/dist-packages (from dask<=2021.11.2,>=2021.09.1->autogluon.core[all]==0.5.2->autogluon) (2022.7.1)\n",
            "Requirement already satisfied: packaging>=20.0 in /usr/local/lib/python3.7/dist-packages (from dask<=2021.11.2,>=2021.09.1->autogluon.core[all]==0.5.2->autogluon) (21.3)\n",
            "Requirement already satisfied: partd>=0.3.10 in /usr/local/lib/python3.7/dist-packages (from dask<=2021.11.2,>=2021.09.1->autogluon.core[all]==0.5.2->autogluon) (1.3.0)\n",
            "Requirement already satisfied: click>=6.6 in /usr/local/lib/python3.7/dist-packages (from distributed<=2021.11.2,>=2021.09.1->autogluon.core[all]==0.5.2->autogluon) (7.1.2)\n",
            "Requirement already satisfied: tblib>=1.6.0 in /usr/local/lib/python3.7/dist-packages (from distributed<=2021.11.2,>=2021.09.1->autogluon.core[all]==0.5.2->autogluon) (1.7.0)\n",
            "Requirement already satisfied: msgpack>=0.6.0 in /usr/local/lib/python3.7/dist-packages (from distributed<=2021.11.2,>=2021.09.1->autogluon.core[all]==0.5.2->autogluon) (1.0.4)\n",
            "Requirement already satisfied: jinja2 in /usr/local/lib/python3.7/dist-packages (from distributed<=2021.11.2,>=2021.09.1->autogluon.core[all]==0.5.2->autogluon) (2.11.3)\n",
            "Requirement already satisfied: tornado>=5 in /usr/local/lib/python3.7/dist-packages (from distributed<=2021.11.2,>=2021.09.1->autogluon.core[all]==0.5.2->autogluon) (5.1.1)\n",
            "Requirement already satisfied: setuptools in /usr/local/lib/python3.7/dist-packages (from distributed<=2021.11.2,>=2021.09.1->autogluon.core[all]==0.5.2->autogluon) (65.2.0)\n",
            "Requirement already satisfied: zict>=0.1.3 in /usr/local/lib/python3.7/dist-packages (from distributed<=2021.11.2,>=2021.09.1->autogluon.core[all]==0.5.2->autogluon) (2.2.0)\n",
            "Requirement already satisfied: sortedcontainers!=2.0.0,!=2.0.1 in /usr/local/lib/python3.7/dist-packages (from distributed<=2021.11.2,>=2021.09.1->autogluon.core[all]==0.5.2->autogluon) (2.4.0)\n",
            "Requirement already satisfied: fastprogress>=0.2.4 in /usr/local/lib/python3.7/dist-packages (from fastai<2.8,>=2.3.1->autogluon.tabular[all]==0.5.2->autogluon) (1.0.3)\n",
            "Requirement already satisfied: fastcore<1.6,>=1.4.5 in /usr/local/lib/python3.7/dist-packages (from fastai<2.8,>=2.3.1->autogluon.tabular[all]==0.5.2->autogluon) (1.5.21)\n",
            "Requirement already satisfied: pip in /usr/local/lib/python3.7/dist-packages (from fastai<2.8,>=2.3.1->autogluon.tabular[all]==0.5.2->autogluon) (22.2.2)\n",
            "Requirement already satisfied: spacy<4 in /usr/local/lib/python3.7/dist-packages (from fastai<2.8,>=2.3.1->autogluon.tabular[all]==0.5.2->autogluon) (3.4.1)\n",
            "Requirement already satisfied: fastdownload<2,>=0.0.5 in /usr/local/lib/python3.7/dist-packages (from fastai<2.8,>=2.3.1->autogluon.tabular[all]==0.5.2->autogluon) (0.0.7)\n",
            "Collecting portalocker\n",
            "  Downloading portalocker-2.5.1-py2.py3-none-any.whl (15 kB)\n",
            "Requirement already satisfied: opencv-python in /usr/local/lib/python3.7/dist-packages (from gluoncv<0.10.6,>=0.10.5->autogluon.vision==0.5.2->autogluon) (4.6.0.66)\n",
            "Collecting autocfg\n",
            "  Downloading autocfg-0.0.8-py3-none-any.whl (13 kB)\n",
            "Requirement already satisfied: holidays>=0.9 in /usr/local/lib/python3.7/dist-packages (from gluonts<0.10.0,>=0.8.0->autogluon.timeseries[all]==0.5.2->autogluon) (0.14.2)\n",
            "Requirement already satisfied: typing-extensions~=4.0 in /usr/local/lib/python3.7/dist-packages (from gluonts<0.10.0,>=0.8.0->autogluon.timeseries[all]==0.5.2->autogluon) (4.1.1)\n",
            "Requirement already satisfied: pydantic~=1.1 in /usr/local/lib/python3.7/dist-packages (from gluonts<0.10.0,>=0.8.0->autogluon.timeseries[all]==0.5.2->autogluon) (1.9.2)\n",
            "Requirement already satisfied: future in /usr/local/lib/python3.7/dist-packages (from hyperopt<0.2.8,>=0.2.7->autogluon.core[all]==0.5.2->autogluon) (0.16.0)\n",
            "Collecting py4j\n",
            "  Downloading py4j-0.10.9.7-py2.py3-none-any.whl (200 kB)\n",
            "\u001b[2K     \u001b[90m━━━━━━━━━━━━━━━━━━━━━━━━━━━━━━━━━━━━━\u001b[0m \u001b[32m200.5/200.5 kB\u001b[0m \u001b[31m228.7 MB/s\u001b[0m eta \u001b[36m0:00:00\u001b[0m\n",
            "\u001b[?25hRequirement already satisfied: wheel in /usr/local/lib/python3.7/dist-packages (from lightgbm<3.4,>=3.3->autogluon.tabular[all]==0.5.2->autogluon) (0.37.1)\n",
            "Requirement already satisfied: cycler>=0.10 in /usr/local/lib/python3.7/dist-packages (from matplotlib->autogluon.core[all]==0.5.2->autogluon) (0.11.0)\n",
            "Requirement already satisfied: kiwisolver>=1.0.1 in /usr/local/lib/python3.7/dist-packages (from matplotlib->autogluon.core[all]==0.5.2->autogluon) (1.4.4)\n",
            "Requirement already satisfied: python-dateutil>=2.1 in /usr/local/lib/python3.7/dist-packages (from matplotlib->autogluon.core[all]==0.5.2->autogluon) (2.8.2)\n",
            "Requirement already satisfied: pyparsing!=2.0.4,!=2.1.2,!=2.1.6,>=2.0.1 in /usr/local/lib/python3.7/dist-packages (from matplotlib->autogluon.core[all]==0.5.2->autogluon) (3.0.9)\n",
            "Requirement already satisfied: joblib in /usr/local/lib/python3.7/dist-packages (from nltk<4.0.0,>=3.4.5->autogluon.multimodal==0.5.2->autogluon) (1.1.0)\n",
            "Collecting typish>=1.7.0\n",
            "  Downloading typish-1.9.3-py3-none-any.whl (45 kB)\n",
            "\u001b[2K     \u001b[90m━━━━━━━━━━━━━━━━━━━━━━━━━━━━━━━━━━━━━━━\u001b[0m \u001b[32m45.1/45.1 kB\u001b[0m \u001b[31m117.0 MB/s\u001b[0m eta \u001b[36m0:00:00\u001b[0m\n",
            "\u001b[?25hCollecting antlr4-python3-runtime==4.8\n",
            "  Downloading antlr4-python3-runtime-4.8.tar.gz (112 kB)\n",
            "\u001b[2K     \u001b[90m━━━━━━━━━━━━━━━━━━━━━━━━━━━━━━━━━━━━━\u001b[0m \u001b[32m112.4/112.4 kB\u001b[0m \u001b[31m175.7 MB/s\u001b[0m eta \u001b[36m0:00:00\u001b[0m\n",
            "\u001b[?25h  Preparing metadata (setup.py) ... \u001b[?25l\u001b[?25hdone\n",
            "Requirement already satisfied: pytz>=2017.3 in /usr/local/lib/python3.7/dist-packages (from pandas!=1.4.0,<1.5,>=1.2.5->autogluon.core[all]==0.5.2->autogluon) (2022.2.1)\n",
            "Requirement already satisfied: urllib3 in /usr/local/lib/python3.7/dist-packages (from pmdarima~=1.8.2->autogluon.timeseries[all]==0.5.2->autogluon) (1.24.3)\n",
            "Requirement already satisfied: Cython!=0.29.18,>=0.29 in /usr/local/lib/python3.7/dist-packages (from pmdarima~=1.8.2->autogluon.timeseries[all]==0.5.2->autogluon) (0.29.32)\n",
            "Requirement already satisfied: statsmodels!=0.12.0,>=0.11 in /usr/local/lib/python3.7/dist-packages (from pmdarima~=1.8.2->autogluon.timeseries[all]==0.5.2->autogluon) (0.12.2)\n",
            "Requirement already satisfied: tensorboard>=2.2.0 in /usr/local/lib/python3.7/dist-packages (from pytorch-lightning<1.7.0,>=1.6.0->autogluon.multimodal==0.5.2->autogluon) (2.8.0)\n",
            "Collecting pyDeprecate>=0.3.1\n",
            "  Downloading pyDeprecate-0.3.2-py3-none-any.whl (10 kB)\n",
            "Collecting grpcio<=1.43.0,>=1.28.1\n",
            "  Downloading grpcio-1.43.0-cp37-cp37m-manylinux_2_17_x86_64.manylinux2014_x86_64.whl (4.1 MB)\n",
            "\u001b[2K     \u001b[90m━━━━━━━━━━━━━━━━━━━━━━━━━━━━━━━━━━━━━━━━\u001b[0m \u001b[32m4.1/4.1 MB\u001b[0m \u001b[31m216.0 MB/s\u001b[0m eta \u001b[36m0:00:00\u001b[0m\n",
            "\u001b[?25hRequirement already satisfied: attrs in /usr/local/lib/python3.7/dist-packages (from ray[tune]<1.14,>=1.13->autogluon.core[all]==0.5.2->autogluon) (22.1.0)\n",
            "Requirement already satisfied: aiosignal in /usr/local/lib/python3.7/dist-packages (from ray[tune]<1.14,>=1.13->autogluon.core[all]==0.5.2->autogluon) (1.2.0)\n",
            "Requirement already satisfied: jsonschema in /usr/local/lib/python3.7/dist-packages (from ray[tune]<1.14,>=1.13->autogluon.core[all]==0.5.2->autogluon) (4.3.3)\n",
            "Collecting virtualenv\n",
            "  Downloading virtualenv-20.16.3-py2.py3-none-any.whl (8.8 MB)\n",
            "\u001b[2K     \u001b[90m━━━━━━━━━━━━━━━━━━━━━━━━━━━━━━━━━━━━━━━━\u001b[0m \u001b[32m8.8/8.8 MB\u001b[0m \u001b[31m173.2 MB/s\u001b[0m eta \u001b[36m0:00:00\u001b[0m\n",
            "\u001b[?25hRequirement already satisfied: filelock in /usr/local/lib/python3.7/dist-packages (from ray[tune]<1.14,>=1.13->autogluon.core[all]==0.5.2->autogluon) (3.8.0)\n",
            "Requirement already satisfied: frozenlist in /usr/local/lib/python3.7/dist-packages (from ray[tune]<1.14,>=1.13->autogluon.core[all]==0.5.2->autogluon) (1.3.1)\n",
            "Requirement already satisfied: tabulate in /usr/local/lib/python3.7/dist-packages (from ray[tune]<1.14,>=1.13->autogluon.core[all]==0.5.2->autogluon) (0.8.10)\n",
            "Collecting tensorboardX>=1.9\n",
            "  Downloading tensorboardX-2.5.1-py2.py3-none-any.whl (125 kB)\n",
            "\u001b[2K     \u001b[90m━━━━━━━━━━━━━━━━━━━━━━━━━━━━━━━━━━━━━\u001b[0m \u001b[32m125.4/125.4 kB\u001b[0m \u001b[31m115.1 MB/s\u001b[0m eta \u001b[36m0:00:00\u001b[0m\n",
            "\u001b[?25hRequirement already satisfied: chardet<4,>=3.0.2 in /usr/local/lib/python3.7/dist-packages (from requests->autogluon.core[all]==0.5.2->autogluon) (3.0.4)\n",
            "Requirement already satisfied: certifi>=2017.4.17 in /usr/local/lib/python3.7/dist-packages (from requests->autogluon.core[all]==0.5.2->autogluon) (2022.6.15)\n",
            "Requirement already satisfied: idna<3,>=2.5 in /usr/local/lib/python3.7/dist-packages (from requests->autogluon.core[all]==0.5.2->autogluon) (2.10)\n",
            "Requirement already satisfied: imageio>=2.4.1 in /usr/local/lib/python3.7/dist-packages (from scikit-image<0.20.0,>=0.19.1->autogluon.multimodal==0.5.2->autogluon) (2.9.0)\n",
            "Requirement already satisfied: tifffile>=2019.7.26 in /usr/local/lib/python3.7/dist-packages (from scikit-image<0.20.0,>=0.19.1->autogluon.multimodal==0.5.2->autogluon) (2021.11.2)\n",
            "Requirement already satisfied: PyWavelets>=1.1.1 in /usr/local/lib/python3.7/dist-packages (from scikit-image<0.20.0,>=0.19.1->autogluon.multimodal==0.5.2->autogluon) (1.3.0)\n",
            "Requirement already satisfied: threadpoolctl>=2.0.0 in /usr/local/lib/python3.7/dist-packages (from scikit-learn<1.1,>=1.0.0->autogluon.core[all]==0.5.2->autogluon) (3.1.0)\n",
            "Requirement already satisfied: numba>=0.53 in /usr/local/lib/python3.7/dist-packages (from sktime~=0.11.4->autogluon.timeseries[all]==0.5.2->autogluon) (0.56.0)\n",
            "Collecting deprecated>=1.2.13\n",
            "  Downloading Deprecated-1.2.13-py2.py3-none-any.whl (9.6 kB)\n",
            "Collecting huggingface-hub<1.0,>=0.1.0\n",
            "  Downloading huggingface_hub-0.8.1-py3-none-any.whl (101 kB)\n",
            "\u001b[2K     \u001b[90m━━━━━━━━━━━━━━━━━━━━━━━━━━━━━━━━━━━━━\u001b[0m \u001b[32m101.5/101.5 kB\u001b[0m \u001b[31m205.4 MB/s\u001b[0m eta \u001b[36m0:00:00\u001b[0m\n",
            "\u001b[?25hRequirement already satisfied: importlib-metadata in /usr/local/lib/python3.7/dist-packages (from transformers<4.21.0,>=4.18.0->autogluon.multimodal==0.5.2->autogluon) (4.12.0)\n",
            "Collecting jmespath<2.0.0,>=0.7.1\n",
            "  Downloading jmespath-1.0.1-py3-none-any.whl (20 kB)\n",
            "Collecting botocore<1.28.0,>=1.27.57\n",
            "  Downloading botocore-1.27.57-py3-none-any.whl (9.1 MB)\n",
            "\u001b[2K     \u001b[90m━━━━━━━━━━━━━━━━━━━━━━━━━━━━━━━━━━━━━━━━\u001b[0m \u001b[32m9.1/9.1 MB\u001b[0m \u001b[31m198.4 MB/s\u001b[0m eta \u001b[36m0:00:00\u001b[0m\n",
            "\u001b[?25hCollecting s3transfer<0.7.0,>=0.6.0\n",
            "  Downloading s3transfer-0.6.0-py3-none-any.whl (79 kB)\n",
            "\u001b[2K     \u001b[90m━━━━━━━━━━━━━━━━━━━━━━━━━━━━━━━━━━━━━━━\u001b[0m \u001b[32m79.6/79.6 kB\u001b[0m \u001b[31m167.2 MB/s\u001b[0m eta \u001b[36m0:00:00\u001b[0m\n",
            "\u001b[?25hCollecting urllib3\n",
            "  Downloading urllib3-1.25.11-py2.py3-none-any.whl (127 kB)\n",
            "\u001b[2K     \u001b[90m━━━━━━━━━━━━━━━━━━━━━━━━━━━━━━━━━━━━━\u001b[0m \u001b[32m128.0/128.0 kB\u001b[0m \u001b[31m190.0 MB/s\u001b[0m eta \u001b[36m0:00:00\u001b[0m\n",
            "\u001b[?25hRequirement already satisfied: wrapt<2,>=1.10 in /usr/local/lib/python3.7/dist-packages (from deprecated>=1.2.13->sktime~=0.11.4->autogluon.timeseries[all]==0.5.2->autogluon) (1.14.1)\n",
            "Requirement already satisfied: aiohttp in /usr/local/lib/python3.7/dist-packages (from fsspec>=0.6.0->dask<=2021.11.2,>=2021.09.1->autogluon.core[all]==0.5.2->autogluon) (3.8.1)\n",
            "Requirement already satisfied: convertdate>=2.3.0 in /usr/local/lib/python3.7/dist-packages (from holidays>=0.9->gluonts<0.10.0,>=0.8.0->autogluon.timeseries[all]==0.5.2->autogluon) (2.4.0)\n",
            "Requirement already satisfied: korean-lunar-calendar in /usr/local/lib/python3.7/dist-packages (from holidays>=0.9->gluonts<0.10.0,>=0.8.0->autogluon.timeseries[all]==0.5.2->autogluon) (0.2.1)\n",
            "Requirement already satisfied: hijri-converter in /usr/local/lib/python3.7/dist-packages (from holidays>=0.9->gluonts<0.10.0,>=0.8.0->autogluon.timeseries[all]==0.5.2->autogluon) (2.2.4)\n",
            "Requirement already satisfied: llvmlite<0.40,>=0.39.0dev0 in /usr/local/lib/python3.7/dist-packages (from numba>=0.53->sktime~=0.11.4->autogluon.timeseries[all]==0.5.2->autogluon) (0.39.0)\n",
            "Requirement already satisfied: locket in /usr/local/lib/python3.7/dist-packages (from partd>=0.3.10->dask<=2021.11.2,>=2021.09.1->autogluon.core[all]==0.5.2->autogluon) (1.0.0)\n",
            "Requirement already satisfied: thinc<8.2.0,>=8.1.0 in /usr/local/lib/python3.7/dist-packages (from spacy<4->fastai<2.8,>=2.3.1->autogluon.tabular[all]==0.5.2->autogluon) (8.1.0)\n",
            "Requirement already satisfied: wasabi<1.1.0,>=0.9.1 in /usr/local/lib/python3.7/dist-packages (from spacy<4->fastai<2.8,>=2.3.1->autogluon.tabular[all]==0.5.2->autogluon) (0.10.1)\n",
            "Requirement already satisfied: langcodes<4.0.0,>=3.2.0 in /usr/local/lib/python3.7/dist-packages (from spacy<4->fastai<2.8,>=2.3.1->autogluon.tabular[all]==0.5.2->autogluon) (3.3.0)\n",
            "Requirement already satisfied: typer<0.5.0,>=0.3.0 in /usr/local/lib/python3.7/dist-packages (from spacy<4->fastai<2.8,>=2.3.1->autogluon.tabular[all]==0.5.2->autogluon) (0.4.2)\n",
            "Requirement already satisfied: srsly<3.0.0,>=2.4.3 in /usr/local/lib/python3.7/dist-packages (from spacy<4->fastai<2.8,>=2.3.1->autogluon.tabular[all]==0.5.2->autogluon) (2.4.4)\n",
            "Requirement already satisfied: spacy-loggers<2.0.0,>=1.0.0 in /usr/local/lib/python3.7/dist-packages (from spacy<4->fastai<2.8,>=2.3.1->autogluon.tabular[all]==0.5.2->autogluon) (1.0.3)\n",
            "Requirement already satisfied: spacy-legacy<3.1.0,>=3.0.9 in /usr/local/lib/python3.7/dist-packages (from spacy<4->fastai<2.8,>=2.3.1->autogluon.tabular[all]==0.5.2->autogluon) (3.0.10)\n",
            "Requirement already satisfied: preshed<3.1.0,>=3.0.2 in /usr/local/lib/python3.7/dist-packages (from spacy<4->fastai<2.8,>=2.3.1->autogluon.tabular[all]==0.5.2->autogluon) (3.0.7)\n",
            "Requirement already satisfied: cymem<2.1.0,>=2.0.2 in /usr/local/lib/python3.7/dist-packages (from spacy<4->fastai<2.8,>=2.3.1->autogluon.tabular[all]==0.5.2->autogluon) (2.0.6)\n",
            "Requirement already satisfied: pathy>=0.3.5 in /usr/local/lib/python3.7/dist-packages (from spacy<4->fastai<2.8,>=2.3.1->autogluon.tabular[all]==0.5.2->autogluon) (0.6.2)\n",
            "Requirement already satisfied: catalogue<2.1.0,>=2.0.6 in /usr/local/lib/python3.7/dist-packages (from spacy<4->fastai<2.8,>=2.3.1->autogluon.tabular[all]==0.5.2->autogluon) (2.0.8)\n",
            "Requirement already satisfied: murmurhash<1.1.0,>=0.28.0 in /usr/local/lib/python3.7/dist-packages (from spacy<4->fastai<2.8,>=2.3.1->autogluon.tabular[all]==0.5.2->autogluon) (1.0.8)\n",
            "Requirement already satisfied: patsy>=0.5 in /usr/local/lib/python3.7/dist-packages (from statsmodels!=0.12.0,>=0.11->pmdarima~=1.8.2->autogluon.timeseries[all]==0.5.2->autogluon) (0.5.2)\n",
            "Requirement already satisfied: google-auth<3,>=1.6.3 in /usr/local/lib/python3.7/dist-packages (from tensorboard>=2.2.0->pytorch-lightning<1.7.0,>=1.6.0->autogluon.multimodal==0.5.2->autogluon) (1.35.0)\n",
            "Requirement already satisfied: werkzeug>=0.11.15 in /usr/local/lib/python3.7/dist-packages (from tensorboard>=2.2.0->pytorch-lightning<1.7.0,>=1.6.0->autogluon.multimodal==0.5.2->autogluon) (1.0.1)\n",
            "Requirement already satisfied: tensorboard-data-server<0.7.0,>=0.6.0 in /usr/local/lib/python3.7/dist-packages (from tensorboard>=2.2.0->pytorch-lightning<1.7.0,>=1.6.0->autogluon.multimodal==0.5.2->autogluon) (0.6.1)\n",
            "Requirement already satisfied: markdown>=2.6.8 in /usr/local/lib/python3.7/dist-packages (from tensorboard>=2.2.0->pytorch-lightning<1.7.0,>=1.6.0->autogluon.multimodal==0.5.2->autogluon) (3.4.1)\n",
            "Requirement already satisfied: absl-py>=0.4 in /usr/local/lib/python3.7/dist-packages (from tensorboard>=2.2.0->pytorch-lightning<1.7.0,>=1.6.0->autogluon.multimodal==0.5.2->autogluon) (1.2.0)\n",
            "Requirement already satisfied: google-auth-oauthlib<0.5,>=0.4.1 in /usr/local/lib/python3.7/dist-packages (from tensorboard>=2.2.0->pytorch-lightning<1.7.0,>=1.6.0->autogluon.multimodal==0.5.2->autogluon) (0.4.6)\n",
            "Requirement already satisfied: tensorboard-plugin-wit>=1.6.0 in /usr/local/lib/python3.7/dist-packages (from tensorboard>=2.2.0->pytorch-lightning<1.7.0,>=1.6.0->autogluon.multimodal==0.5.2->autogluon) (1.8.1)\n",
            "Requirement already satisfied: heapdict in /usr/local/lib/python3.7/dist-packages (from zict>=0.1.3->distributed<=2021.11.2,>=2021.09.1->autogluon.core[all]==0.5.2->autogluon) (1.0.1)\n",
            "Collecting immutables>=0.9\n",
            "  Downloading immutables-0.18-cp37-cp37m-manylinux_2_5_x86_64.manylinux1_x86_64.manylinux_2_17_x86_64.manylinux2014_x86_64.whl (116 kB)\n",
            "\u001b[2K     \u001b[90m━━━━━━━━━━━━━━━━━━━━━━━━━━━━━━━━━━━━━\u001b[0m \u001b[32m116.5/116.5 kB\u001b[0m \u001b[31m200.2 MB/s\u001b[0m eta \u001b[36m0:00:00\u001b[0m\n",
            "\u001b[?25hCollecting pycodestyle<2.10.0,>=2.9.0\n",
            "  Downloading pycodestyle-2.9.1-py2.py3-none-any.whl (41 kB)\n",
            "\u001b[2K     \u001b[90m━━━━━━━━━━━━━━━━━━━━━━━━━━━━━━━━━━━━━━━\u001b[0m \u001b[32m41.5/41.5 kB\u001b[0m \u001b[31m130.8 MB/s\u001b[0m eta \u001b[36m0:00:00\u001b[0m\n",
            "\u001b[?25hCollecting importlib-metadata\n",
            "  Downloading importlib_metadata-4.2.0-py3-none-any.whl (16 kB)\n",
            "Collecting pyflakes<2.6.0,>=2.5.0\n",
            "  Downloading pyflakes-2.5.0-py2.py3-none-any.whl (66 kB)\n",
            "\u001b[2K     \u001b[90m━━━━━━━━━━━━━━━━━━━━━━━━━━━━━━━━━━━━━━━\u001b[0m \u001b[32m66.1/66.1 kB\u001b[0m \u001b[31m158.2 MB/s\u001b[0m eta \u001b[36m0:00:00\u001b[0m\n",
            "\u001b[?25hCollecting mccabe<0.8.0,>=0.7.0\n",
            "  Downloading mccabe-0.7.0-py2.py3-none-any.whl (7.3 kB)\n",
            "Requirement already satisfied: zipp>=0.5 in /usr/local/lib/python3.7/dist-packages (from importlib-metadata->transformers<4.21.0,>=4.18.0->autogluon.multimodal==0.5.2->autogluon) (3.8.1)\n",
            "Requirement already satisfied: MarkupSafe>=0.23 in /usr/local/lib/python3.7/dist-packages (from jinja2->distributed<=2021.11.2,>=2021.09.1->autogluon.core[all]==0.5.2->autogluon) (2.0.1)\n",
            "Requirement already satisfied: pyrsistent!=0.17.0,!=0.17.1,!=0.17.2,>=0.14.0 in /usr/local/lib/python3.7/dist-packages (from jsonschema->ray[tune]<1.14,>=1.13->autogluon.core[all]==0.5.2->autogluon) (0.18.1)\n",
            "Requirement already satisfied: importlib-resources>=1.4.0 in /usr/local/lib/python3.7/dist-packages (from jsonschema->ray[tune]<1.14,>=1.13->autogluon.core[all]==0.5.2->autogluon) (5.9.0)\n",
            "Requirement already satisfied: tenacity>=6.2.0 in /usr/local/lib/python3.7/dist-packages (from plotly->catboost<1.1,>=1.0->autogluon.tabular[all]==0.5.2->autogluon) (8.0.1)\n",
            "Collecting colorama\n",
            "  Downloading colorama-0.4.5-py2.py3-none-any.whl (16 kB)\n",
            "Requirement already satisfied: lxml in /usr/local/lib/python3.7/dist-packages (from sacrebleu->autogluon-contrib-nlp==0.0.1b20220208->autogluon.text==0.5.2->autogluon) (4.9.1)\n",
            "Collecting virtualenv\n",
            "  Downloading virtualenv-20.16.2-py2.py3-none-any.whl (8.8 MB)\n",
            "\u001b[2K     \u001b[90m━━━━━━━━━━━━━━━━━━━━━━━━━━━━━━━━━━━━━━━━\u001b[0m \u001b[32m8.8/8.8 MB\u001b[0m \u001b[31m213.6 MB/s\u001b[0m eta \u001b[36m0:00:00\u001b[0m\n",
            "\u001b[?25hCollecting platformdirs<3,>=2\n",
            "  Downloading platformdirs-2.5.2-py3-none-any.whl (14 kB)\n",
            "Collecting distlib<1,>=0.3.1\n",
            "  Downloading distlib-0.3.5-py2.py3-none-any.whl (466 kB)\n",
            "\u001b[2K     \u001b[90m━━━━━━━━━━━━━━━━━━━━━━━━━━━━━━━━━━━━━\u001b[0m \u001b[32m467.0/467.0 kB\u001b[0m \u001b[31m220.2 MB/s\u001b[0m eta \u001b[36m0:00:00\u001b[0m\n",
            "\u001b[?25hRequirement already satisfied: pymeeus<=1,>=0.3.13 in /usr/local/lib/python3.7/dist-packages (from convertdate>=2.3.0->holidays>=0.9->gluonts<0.10.0,>=0.8.0->autogluon.timeseries[all]==0.5.2->autogluon) (0.5.11)\n",
            "Requirement already satisfied: rsa<5,>=3.1.4 in /usr/local/lib/python3.7/dist-packages (from google-auth<3,>=1.6.3->tensorboard>=2.2.0->pytorch-lightning<1.7.0,>=1.6.0->autogluon.multimodal==0.5.2->autogluon) (4.9)\n",
            "Requirement already satisfied: cachetools<5.0,>=2.0.0 in /usr/local/lib/python3.7/dist-packages (from google-auth<3,>=1.6.3->tensorboard>=2.2.0->pytorch-lightning<1.7.0,>=1.6.0->autogluon.multimodal==0.5.2->autogluon) (4.2.4)\n",
            "Requirement already satisfied: pyasn1-modules>=0.2.1 in /usr/local/lib/python3.7/dist-packages (from google-auth<3,>=1.6.3->tensorboard>=2.2.0->pytorch-lightning<1.7.0,>=1.6.0->autogluon.multimodal==0.5.2->autogluon) (0.2.8)\n",
            "Requirement already satisfied: requests-oauthlib>=0.7.0 in /usr/local/lib/python3.7/dist-packages (from google-auth-oauthlib<0.5,>=0.4.1->tensorboard>=2.2.0->pytorch-lightning<1.7.0,>=1.6.0->autogluon.multimodal==0.5.2->autogluon) (1.3.1)\n",
            "Collecting markdown>=2.6.8\n",
            "  Downloading Markdown-3.4-py3-none-any.whl (93 kB)\n",
            "\u001b[2K     \u001b[90m━━━━━━━━━━━━━━━━━━━━━━━━━━━━━━━━━━━━━━━\u001b[0m \u001b[32m93.3/93.3 kB\u001b[0m \u001b[31m178.2 MB/s\u001b[0m eta \u001b[36m0:00:00\u001b[0m\n",
            "\u001b[?25h  Downloading Markdown-3.3.7-py3-none-any.whl (97 kB)\n",
            "\u001b[2K     \u001b[90m━━━━━━━━━━━━━━━━━━━━━━━━━━━━━━━━━━━━━━━\u001b[0m \u001b[32m97.8/97.8 kB\u001b[0m \u001b[31m180.3 MB/s\u001b[0m eta \u001b[36m0:00:00\u001b[0m\n",
            "\u001b[?25h  Downloading Markdown-3.3.6-py3-none-any.whl (97 kB)\n",
            "\u001b[2K     \u001b[90m━━━━━━━━━━━━━━━━━━━━━━━━━━━━━━━━━━━━━━━\u001b[0m \u001b[32m97.8/97.8 kB\u001b[0m \u001b[31m188.2 MB/s\u001b[0m eta \u001b[36m0:00:00\u001b[0m\n",
            "\u001b[?25h  Downloading Markdown-3.3.4-py3-none-any.whl (97 kB)\n",
            "\u001b[2K     \u001b[90m━━━━━━━━━━━━━━━━━━━━━━━━━━━━━━━━━━━━━━━\u001b[0m \u001b[32m97.6/97.6 kB\u001b[0m \u001b[31m176.2 MB/s\u001b[0m eta \u001b[36m0:00:00\u001b[0m\n",
            "\u001b[?25hRequirement already satisfied: blis<0.8.0,>=0.7.8 in /usr/local/lib/python3.7/dist-packages (from thinc<8.2.0,>=8.1.0->spacy<4->fastai<2.8,>=2.3.1->autogluon.tabular[all]==0.5.2->autogluon) (0.7.8)\n",
            "Requirement already satisfied: charset-normalizer<3.0,>=2.0 in /usr/local/lib/python3.7/dist-packages (from aiohttp->fsspec>=0.6.0->dask<=2021.11.2,>=2021.09.1->autogluon.core[all]==0.5.2->autogluon) (2.1.0)\n",
            "Requirement already satisfied: asynctest==0.13.0 in /usr/local/lib/python3.7/dist-packages (from aiohttp->fsspec>=0.6.0->dask<=2021.11.2,>=2021.09.1->autogluon.core[all]==0.5.2->autogluon) (0.13.0)\n",
            "Requirement already satisfied: multidict<7.0,>=4.5 in /usr/local/lib/python3.7/dist-packages (from aiohttp->fsspec>=0.6.0->dask<=2021.11.2,>=2021.09.1->autogluon.core[all]==0.5.2->autogluon) (6.0.2)\n",
            "Requirement already satisfied: async-timeout<5.0,>=4.0.0a3 in /usr/local/lib/python3.7/dist-packages (from aiohttp->fsspec>=0.6.0->dask<=2021.11.2,>=2021.09.1->autogluon.core[all]==0.5.2->autogluon) (4.0.2)\n",
            "Requirement already satisfied: yarl<2.0,>=1.0 in /usr/local/lib/python3.7/dist-packages (from aiohttp->fsspec>=0.6.0->dask<=2021.11.2,>=2021.09.1->autogluon.core[all]==0.5.2->autogluon) (1.8.1)\n",
            "Requirement already satisfied: pyasn1<0.5.0,>=0.4.6 in /usr/local/lib/python3.7/dist-packages (from pyasn1-modules>=0.2.1->google-auth<3,>=1.6.3->tensorboard>=2.2.0->pytorch-lightning<1.7.0,>=1.6.0->autogluon.multimodal==0.5.2->autogluon) (0.4.8)\n",
            "Requirement already satisfied: oauthlib>=3.0.0 in /usr/local/lib/python3.7/dist-packages (from requests-oauthlib>=0.7.0->google-auth-oauthlib<0.5,>=0.4.1->tensorboard>=2.2.0->pytorch-lightning<1.7.0,>=1.6.0->autogluon.multimodal==0.5.2->autogluon) (3.2.0)\n",
            "Building wheels for collected packages: fairscale, antlr4-python3-runtime, sacremoses, contextvars\n",
            "  Building wheel for fairscale (pyproject.toml) ... \u001b[?25l\u001b[?25hdone\n",
            "  Created wheel for fairscale: filename=fairscale-0.4.6-py3-none-any.whl size=307225 sha256=19e784fee0b4179b1f0051bce5bb753620b4550a1a41d5566622dcec506c1493\n",
            "  Stored in directory: /tmp/pip-ephem-wheel-cache-_urr6nlc/wheels/4e/4f/0b/94c29ea06dfad93260cb0377855f87b7b863312317a7f69fe7\n",
            "  Building wheel for antlr4-python3-runtime (setup.py) ... \u001b[?25l\u001b[?25hdone\n",
            "  Created wheel for antlr4-python3-runtime: filename=antlr4_python3_runtime-4.8-py3-none-any.whl size=141210 sha256=4410366c390143ef7ef35779806f6f2adb8e3967b808d6f97a989e56614e8f35\n",
            "  Stored in directory: /tmp/pip-ephem-wheel-cache-_urr6nlc/wheels/ca/33/b7/336836125fc9bb4ceaa4376d8abca10ca8bc84ddc824baea6c\n",
            "  Building wheel for sacremoses (setup.py) ... \u001b[?25l\u001b[?25hdone\n",
            "  Created wheel for sacremoses: filename=sacremoses-0.0.53-py3-none-any.whl size=895241 sha256=411195b89a47587dbc5e5fd17f805a4d20a05ed3215aae86b4dffb329fcc92b7\n",
            "  Stored in directory: /tmp/pip-ephem-wheel-cache-_urr6nlc/wheels/87/39/dd/a83eeef36d0bf98e7a4d1933a4ad2d660295a40613079bafc9\n",
            "  Building wheel for contextvars (setup.py) ... \u001b[?25l\u001b[?25hdone\n",
            "  Created wheel for contextvars: filename=contextvars-2.4-py3-none-any.whl size=7664 sha256=0a8e3ec454d71f9e4aaaf76f6d843798743e0bfd94e7e168bfda907ecdccb7a7\n",
            "  Stored in directory: /tmp/pip-ephem-wheel-cache-_urr6nlc/wheels/0a/11/79/e70e668095c0bb1f94718af672ef2d35ee7a023fee56ef54d9\n",
            "Successfully built fairscale antlr4-python3-runtime sacremoses contextvars\n",
            "Installing collected packages: typish, tokenizers, sentencepiece, py4j, distlib, antlr4-python3-runtime, yacs, urllib3, sacremoses, pyflakes, pyDeprecate, pycodestyle, psutil, portalocker, platformdirs, Pillow, omegaconf, nptyping, mccabe, jmespath, importlib-metadata, immutables, grpcio, deprecated, colorama, autocfg, xgboost, virtualenv, torchmetrics, tensorboardX, sacrebleu, markdown, hyperopt, flake8, fairscale, dask, contextvars, botocore, scikit-image, s3transfer, ray, nlpaug, lightgbm, huggingface-hub, gluonts, gluoncv, distributed, catboost, autogluon-contrib-nlp, transformers, timm, sktime, pytorch-metric-learning, pmdarima, boto3, tbats, autogluon.common, pytorch-lightning, autogluon.features, autogluon.core, autogluon.vision, autogluon.timeseries, autogluon.tabular, autogluon.multimodal, autogluon.text, autogluon\n",
            "  Attempting uninstall: urllib3\n",
            "    Found existing installation: urllib3 1.24.3\n",
            "    Uninstalling urllib3-1.24.3:\n",
            "      Successfully uninstalled urllib3-1.24.3\n",
            "  Attempting uninstall: psutil\n",
            "    Found existing installation: psutil 5.4.8\n",
            "    Uninstalling psutil-5.4.8:\n",
            "      Successfully uninstalled psutil-5.4.8\n",
            "  Attempting uninstall: Pillow\n",
            "    Found existing installation: Pillow 7.1.2\n",
            "    Uninstalling Pillow-7.1.2:\n",
            "      Successfully uninstalled Pillow-7.1.2\n",
            "  Attempting uninstall: importlib-metadata\n",
            "    Found existing installation: importlib-metadata 4.12.0\n",
            "    Uninstalling importlib-metadata-4.12.0:\n",
            "      Successfully uninstalled importlib-metadata-4.12.0\n",
            "  Attempting uninstall: grpcio\n",
            "    Found existing installation: grpcio 1.47.0\n",
            "    Uninstalling grpcio-1.47.0:\n",
            "      Successfully uninstalled grpcio-1.47.0\n",
            "  Attempting uninstall: xgboost\n",
            "    Found existing installation: xgboost 0.90\n",
            "    Uninstalling xgboost-0.90:\n",
            "      Successfully uninstalled xgboost-0.90\n",
            "  Attempting uninstall: markdown\n",
            "    Found existing installation: Markdown 3.4.1\n",
            "    Uninstalling Markdown-3.4.1:\n",
            "      Successfully uninstalled Markdown-3.4.1\n",
            "  Attempting uninstall: hyperopt\n",
            "    Found existing installation: hyperopt 0.1.2\n",
            "    Uninstalling hyperopt-0.1.2:\n",
            "      Successfully uninstalled hyperopt-0.1.2\n",
            "  Attempting uninstall: dask\n",
            "    Found existing installation: dask 2022.2.0\n",
            "    Uninstalling dask-2022.2.0:\n",
            "      Successfully uninstalled dask-2022.2.0\n",
            "  Attempting uninstall: scikit-image\n",
            "    Found existing installation: scikit-image 0.18.3\n",
            "    Uninstalling scikit-image-0.18.3:\n",
            "      Successfully uninstalled scikit-image-0.18.3\n",
            "  Attempting uninstall: lightgbm\n",
            "    Found existing installation: lightgbm 2.2.3\n",
            "    Uninstalling lightgbm-2.2.3:\n",
            "      Successfully uninstalled lightgbm-2.2.3\n",
            "  Attempting uninstall: distributed\n",
            "    Found existing installation: distributed 2022.2.0\n",
            "    Uninstalling distributed-2022.2.0:\n",
            "      Successfully uninstalled distributed-2022.2.0\n",
            "\u001b[31mERROR: pip's dependency resolver does not currently take into account all the packages that are installed. This behaviour is the source of the following dependency conflicts.\n",
            "panel 0.12.1 requires bokeh<2.4.0,>=2.3.0, but you have bokeh 2.0.1 which is incompatible.\n",
            "gym 0.25.1 requires importlib-metadata>=4.8.0; python_version < \"3.10\", but you have importlib-metadata 4.2.0 which is incompatible.\u001b[0m\u001b[31m\n",
            "\u001b[0mSuccessfully installed Pillow-9.0.1 antlr4-python3-runtime-4.8 autocfg-0.0.8 autogluon-0.5.2 autogluon-contrib-nlp-0.0.1b20220208 autogluon.common-0.5.2 autogluon.core-0.5.2 autogluon.features-0.5.2 autogluon.multimodal-0.5.2 autogluon.tabular-0.5.2 autogluon.text-0.5.2 autogluon.timeseries-0.5.2 autogluon.vision-0.5.2 boto3-1.24.57 botocore-1.27.57 catboost-1.0.6 colorama-0.4.5 contextvars-2.4 dask-2021.11.2 deprecated-1.2.13 distlib-0.3.5 distributed-2021.11.2 fairscale-0.4.6 flake8-5.0.4 gluoncv-0.10.5.post0 gluonts-0.9.8 grpcio-1.43.0 huggingface-hub-0.8.1 hyperopt-0.2.7 immutables-0.18 importlib-metadata-4.2.0 jmespath-1.0.1 lightgbm-3.3.2 markdown-3.3.4 mccabe-0.7.0 nlpaug-1.1.10 nptyping-1.4.4 omegaconf-2.1.2 platformdirs-2.5.2 pmdarima-1.8.5 portalocker-2.5.1 psutil-5.8.0 py4j-0.10.9.7 pyDeprecate-0.3.2 pycodestyle-2.9.1 pyflakes-2.5.0 pytorch-lightning-1.6.5 pytorch-metric-learning-1.3.2 ray-1.13.0 s3transfer-0.6.0 sacrebleu-2.2.0 sacremoses-0.0.53 scikit-image-0.19.3 sentencepiece-0.1.95 sktime-0.11.4 tbats-1.1.0 tensorboardX-2.5.1 timm-0.5.4 tokenizers-0.12.1 torchmetrics-0.7.3 transformers-4.20.1 typish-1.9.3 urllib3-1.25.11 virtualenv-20.16.2 xgboost-1.4.2 yacs-0.1.8\n",
            "\u001b[33mWARNING: Running pip as the 'root' user can result in broken permissions and conflicting behaviour with the system package manager. It is recommended to use a virtual environment instead: https://pip.pypa.io/warnings/venv\u001b[0m\u001b[33m\n",
            "\u001b[0m"
          ]
        }
      ],
      "source": [
        "!pip install -U pip\n",
        "!pip install -U setuptools wheel\n",
        "!pip install -U \"mxnet<2.0.0\" bokeh==2.0.1\n",
        "!pip install autogluon --no-cache-dir\n",
        "# Without --no-cache-dir, smaller aws instances may have trouble installing"
      ]
    },
    {
      "cell_type": "markdown",
      "metadata": {
        "id": "mfNKZjV-sZLu"
      },
      "source": [
        "### Setup Kaggle API Key"
      ]
    },
    {
      "cell_type": "code",
      "execution_count": 2,
      "metadata": {
        "id": "Et6Ei_M7sZLv"
      },
      "outputs": [],
      "source": [
        "# create the .kaggle directory and an empty kaggle.json file\n",
        "!mkdir -p /root/.kaggle\n",
        "!touch /root/.kaggle/kaggle.json\n",
        "!chmod 600 /root/.kaggle/kaggle.json"
      ]
    },
    {
      "cell_type": "code",
      "execution_count": 3,
      "metadata": {
        "id": "QUN-nk6gsZLw"
      },
      "outputs": [],
      "source": [
        "# Fill in your user name and key from creating the kaggle account and API token file\n",
        "import json\n",
        "kaggle_username = \"saraahmedmaher\"\n",
        "kaggle_key = \"fb55d976fc2ab4c8123409c48d2dd11f\"\n",
        "\n",
        "# Save API token the kaggle.json file\n",
        "with open(\"/root/.kaggle/kaggle.json\", \"w\") as f:\n",
        "    f.write(json.dumps({\"username\": kaggle_username, \"key\": kaggle_key}))"
      ]
    },
    {
      "cell_type": "markdown",
      "metadata": {
        "id": "bONPEDGtsZLx"
      },
      "source": [
        "### Download and explore dataset"
      ]
    },
    {
      "cell_type": "markdown",
      "metadata": {
        "id": "W0v9XetAsZLx"
      },
      "source": [
        "### Go to the bike sharing demand competition and agree to the terms\n",
        "![kaggle6.png](attachment:kaggle6.png)"
      ]
    },
    {
      "cell_type": "code",
      "execution_count": 4,
      "metadata": {
        "id": "r3pkCC8zsZLx",
        "outputId": "33c360b6-e7a8-4948-ca9a-c77c435bc763",
        "colab": {
          "base_uri": "https://localhost:8080/"
        }
      },
      "outputs": [
        {
          "output_type": "stream",
          "name": "stdout",
          "text": [
            "Downloading bike-sharing-demand.zip to /content\n",
            "\r  0% 0.00/189k [00:00<?, ?B/s]\n",
            "\r100% 189k/189k [00:00<00:00, 58.5MB/s]\n",
            "Archive:  bike-sharing-demand.zip\n",
            "  inflating: sampleSubmission.csv    \n",
            "  inflating: test.csv                \n",
            "  inflating: train.csv               \n"
          ]
        }
      ],
      "source": [
        "# Download the dataset, it will be in a .zip file so you'll need to unzip it as well.\n",
        "!kaggle competitions download -c bike-sharing-demand\n",
        "# If you already downloaded it you can use the -o command to overwrite the file\n",
        "!unzip -o bike-sharing-demand.zip"
      ]
    },
    {
      "cell_type": "code",
      "execution_count": 5,
      "metadata": {
        "id": "yfOFnanAsZLy"
      },
      "outputs": [],
      "source": [
        "import pandas as pd\n",
        "from autogluon.tabular import TabularPredictor"
      ]
    },
    {
      "cell_type": "code",
      "execution_count": 6,
      "metadata": {
        "id": "VIx6KcHssZLy"
      },
      "outputs": [],
      "source": [
        "# Create the train dataset in pandas by reading the csv\n",
        "# Set the parsing of the datetime column so you can use some of the `dt` features in pandas later\n",
        "train = pd.read_csv('/content/train.csv')\n",
        "train['datetime']=pd.to_datetime(train.loc[:, \"datetime\"])"
      ]
    },
    {
      "cell_type": "code",
      "source": [
        "train.head()"
      ],
      "metadata": {
        "id": "qX0qaZlFuH_2",
        "colab": {
          "base_uri": "https://localhost:8080/",
          "height": 424
        },
        "outputId": "9acbbb09-b399-4ead-8a29-c011ca062d26"
      },
      "execution_count": 7,
      "outputs": [
        {
          "output_type": "execute_result",
          "data": {
            "text/plain": [
              "             datetime  season  holiday  workingday  weather  temp   atemp  \\\n",
              "0 2011-01-01 00:00:00       1        0           0        1  9.84  14.395   \n",
              "1 2011-01-01 01:00:00       1        0           0        1  9.02  13.635   \n",
              "2 2011-01-01 02:00:00       1        0           0        1  9.02  13.635   \n",
              "3 2011-01-01 03:00:00       1        0           0        1  9.84  14.395   \n",
              "4 2011-01-01 04:00:00       1        0           0        1  9.84  14.395   \n",
              "\n",
              "   humidity  windspeed  casual  registered  count  \n",
              "0        81        0.0       3          13     16  \n",
              "1        80        0.0       8          32     40  \n",
              "2        80        0.0       5          27     32  \n",
              "3        75        0.0       3          10     13  \n",
              "4        75        0.0       0           1      1  "
            ],
            "text/html": [
              "\n",
              "  <div id=\"df-0836c1e4-8c1c-42d5-9ec8-79d7e9dca041\">\n",
              "    <div class=\"colab-df-container\">\n",
              "      <div>\n",
              "<style scoped>\n",
              "    .dataframe tbody tr th:only-of-type {\n",
              "        vertical-align: middle;\n",
              "    }\n",
              "\n",
              "    .dataframe tbody tr th {\n",
              "        vertical-align: top;\n",
              "    }\n",
              "\n",
              "    .dataframe thead th {\n",
              "        text-align: right;\n",
              "    }\n",
              "</style>\n",
              "<table border=\"1\" class=\"dataframe\">\n",
              "  <thead>\n",
              "    <tr style=\"text-align: right;\">\n",
              "      <th></th>\n",
              "      <th>datetime</th>\n",
              "      <th>season</th>\n",
              "      <th>holiday</th>\n",
              "      <th>workingday</th>\n",
              "      <th>weather</th>\n",
              "      <th>temp</th>\n",
              "      <th>atemp</th>\n",
              "      <th>humidity</th>\n",
              "      <th>windspeed</th>\n",
              "      <th>casual</th>\n",
              "      <th>registered</th>\n",
              "      <th>count</th>\n",
              "    </tr>\n",
              "  </thead>\n",
              "  <tbody>\n",
              "    <tr>\n",
              "      <th>0</th>\n",
              "      <td>2011-01-01 00:00:00</td>\n",
              "      <td>1</td>\n",
              "      <td>0</td>\n",
              "      <td>0</td>\n",
              "      <td>1</td>\n",
              "      <td>9.84</td>\n",
              "      <td>14.395</td>\n",
              "      <td>81</td>\n",
              "      <td>0.0</td>\n",
              "      <td>3</td>\n",
              "      <td>13</td>\n",
              "      <td>16</td>\n",
              "    </tr>\n",
              "    <tr>\n",
              "      <th>1</th>\n",
              "      <td>2011-01-01 01:00:00</td>\n",
              "      <td>1</td>\n",
              "      <td>0</td>\n",
              "      <td>0</td>\n",
              "      <td>1</td>\n",
              "      <td>9.02</td>\n",
              "      <td>13.635</td>\n",
              "      <td>80</td>\n",
              "      <td>0.0</td>\n",
              "      <td>8</td>\n",
              "      <td>32</td>\n",
              "      <td>40</td>\n",
              "    </tr>\n",
              "    <tr>\n",
              "      <th>2</th>\n",
              "      <td>2011-01-01 02:00:00</td>\n",
              "      <td>1</td>\n",
              "      <td>0</td>\n",
              "      <td>0</td>\n",
              "      <td>1</td>\n",
              "      <td>9.02</td>\n",
              "      <td>13.635</td>\n",
              "      <td>80</td>\n",
              "      <td>0.0</td>\n",
              "      <td>5</td>\n",
              "      <td>27</td>\n",
              "      <td>32</td>\n",
              "    </tr>\n",
              "    <tr>\n",
              "      <th>3</th>\n",
              "      <td>2011-01-01 03:00:00</td>\n",
              "      <td>1</td>\n",
              "      <td>0</td>\n",
              "      <td>0</td>\n",
              "      <td>1</td>\n",
              "      <td>9.84</td>\n",
              "      <td>14.395</td>\n",
              "      <td>75</td>\n",
              "      <td>0.0</td>\n",
              "      <td>3</td>\n",
              "      <td>10</td>\n",
              "      <td>13</td>\n",
              "    </tr>\n",
              "    <tr>\n",
              "      <th>4</th>\n",
              "      <td>2011-01-01 04:00:00</td>\n",
              "      <td>1</td>\n",
              "      <td>0</td>\n",
              "      <td>0</td>\n",
              "      <td>1</td>\n",
              "      <td>9.84</td>\n",
              "      <td>14.395</td>\n",
              "      <td>75</td>\n",
              "      <td>0.0</td>\n",
              "      <td>0</td>\n",
              "      <td>1</td>\n",
              "      <td>1</td>\n",
              "    </tr>\n",
              "  </tbody>\n",
              "</table>\n",
              "</div>\n",
              "      <button class=\"colab-df-convert\" onclick=\"convertToInteractive('df-0836c1e4-8c1c-42d5-9ec8-79d7e9dca041')\"\n",
              "              title=\"Convert this dataframe to an interactive table.\"\n",
              "              style=\"display:none;\">\n",
              "        \n",
              "  <svg xmlns=\"http://www.w3.org/2000/svg\" height=\"24px\"viewBox=\"0 0 24 24\"\n",
              "       width=\"24px\">\n",
              "    <path d=\"M0 0h24v24H0V0z\" fill=\"none\"/>\n",
              "    <path d=\"M18.56 5.44l.94 2.06.94-2.06 2.06-.94-2.06-.94-.94-2.06-.94 2.06-2.06.94zm-11 1L8.5 8.5l.94-2.06 2.06-.94-2.06-.94L8.5 2.5l-.94 2.06-2.06.94zm10 10l.94 2.06.94-2.06 2.06-.94-2.06-.94-.94-2.06-.94 2.06-2.06.94z\"/><path d=\"M17.41 7.96l-1.37-1.37c-.4-.4-.92-.59-1.43-.59-.52 0-1.04.2-1.43.59L10.3 9.45l-7.72 7.72c-.78.78-.78 2.05 0 2.83L4 21.41c.39.39.9.59 1.41.59.51 0 1.02-.2 1.41-.59l7.78-7.78 2.81-2.81c.8-.78.8-2.07 0-2.86zM5.41 20L4 18.59l7.72-7.72 1.47 1.35L5.41 20z\"/>\n",
              "  </svg>\n",
              "      </button>\n",
              "      \n",
              "  <style>\n",
              "    .colab-df-container {\n",
              "      display:flex;\n",
              "      flex-wrap:wrap;\n",
              "      gap: 12px;\n",
              "    }\n",
              "\n",
              "    .colab-df-convert {\n",
              "      background-color: #E8F0FE;\n",
              "      border: none;\n",
              "      border-radius: 50%;\n",
              "      cursor: pointer;\n",
              "      display: none;\n",
              "      fill: #1967D2;\n",
              "      height: 32px;\n",
              "      padding: 0 0 0 0;\n",
              "      width: 32px;\n",
              "    }\n",
              "\n",
              "    .colab-df-convert:hover {\n",
              "      background-color: #E2EBFA;\n",
              "      box-shadow: 0px 1px 2px rgba(60, 64, 67, 0.3), 0px 1px 3px 1px rgba(60, 64, 67, 0.15);\n",
              "      fill: #174EA6;\n",
              "    }\n",
              "\n",
              "    [theme=dark] .colab-df-convert {\n",
              "      background-color: #3B4455;\n",
              "      fill: #D2E3FC;\n",
              "    }\n",
              "\n",
              "    [theme=dark] .colab-df-convert:hover {\n",
              "      background-color: #434B5C;\n",
              "      box-shadow: 0px 1px 3px 1px rgba(0, 0, 0, 0.15);\n",
              "      filter: drop-shadow(0px 1px 2px rgba(0, 0, 0, 0.3));\n",
              "      fill: #FFFFFF;\n",
              "    }\n",
              "  </style>\n",
              "\n",
              "      <script>\n",
              "        const buttonEl =\n",
              "          document.querySelector('#df-0836c1e4-8c1c-42d5-9ec8-79d7e9dca041 button.colab-df-convert');\n",
              "        buttonEl.style.display =\n",
              "          google.colab.kernel.accessAllowed ? 'block' : 'none';\n",
              "\n",
              "        async function convertToInteractive(key) {\n",
              "          const element = document.querySelector('#df-0836c1e4-8c1c-42d5-9ec8-79d7e9dca041');\n",
              "          const dataTable =\n",
              "            await google.colab.kernel.invokeFunction('convertToInteractive',\n",
              "                                                     [key], {});\n",
              "          if (!dataTable) return;\n",
              "\n",
              "          const docLinkHtml = 'Like what you see? Visit the ' +\n",
              "            '<a target=\"_blank\" href=https://colab.research.google.com/notebooks/data_table.ipynb>data table notebook</a>'\n",
              "            + ' to learn more about interactive tables.';\n",
              "          element.innerHTML = '';\n",
              "          dataTable['output_type'] = 'display_data';\n",
              "          await google.colab.output.renderOutput(dataTable, element);\n",
              "          const docLink = document.createElement('div');\n",
              "          docLink.innerHTML = docLinkHtml;\n",
              "          element.appendChild(docLink);\n",
              "        }\n",
              "      </script>\n",
              "    </div>\n",
              "  </div>\n",
              "  "
            ]
          },
          "metadata": {},
          "execution_count": 7
        }
      ]
    },
    {
      "cell_type": "code",
      "execution_count": 8,
      "metadata": {
        "id": "9betxo-GsZLy",
        "colab": {
          "base_uri": "https://localhost:8080/",
          "height": 364
        },
        "outputId": "b06acbff-cc3b-4918-cfd6-93d64c55e6fa"
      },
      "outputs": [
        {
          "output_type": "execute_result",
          "data": {
            "text/plain": [
              "             season       holiday    workingday       weather         temp  \\\n",
              "count  10886.000000  10886.000000  10886.000000  10886.000000  10886.00000   \n",
              "mean       2.506614      0.028569      0.680875      1.418427     20.23086   \n",
              "std        1.116174      0.166599      0.466159      0.633839      7.79159   \n",
              "min        1.000000      0.000000      0.000000      1.000000      0.82000   \n",
              "25%        2.000000      0.000000      0.000000      1.000000     13.94000   \n",
              "50%        3.000000      0.000000      1.000000      1.000000     20.50000   \n",
              "75%        4.000000      0.000000      1.000000      2.000000     26.24000   \n",
              "max        4.000000      1.000000      1.000000      4.000000     41.00000   \n",
              "\n",
              "              atemp      humidity     windspeed        casual    registered  \\\n",
              "count  10886.000000  10886.000000  10886.000000  10886.000000  10886.000000   \n",
              "mean      23.655084     61.886460     12.799395     36.021955    155.552177   \n",
              "std        8.474601     19.245033      8.164537     49.960477    151.039033   \n",
              "min        0.760000      0.000000      0.000000      0.000000      0.000000   \n",
              "25%       16.665000     47.000000      7.001500      4.000000     36.000000   \n",
              "50%       24.240000     62.000000     12.998000     17.000000    118.000000   \n",
              "75%       31.060000     77.000000     16.997900     49.000000    222.000000   \n",
              "max       45.455000    100.000000     56.996900    367.000000    886.000000   \n",
              "\n",
              "              count  \n",
              "count  10886.000000  \n",
              "mean     191.574132  \n",
              "std      181.144454  \n",
              "min        1.000000  \n",
              "25%       42.000000  \n",
              "50%      145.000000  \n",
              "75%      284.000000  \n",
              "max      977.000000  "
            ],
            "text/html": [
              "\n",
              "  <div id=\"df-02e07e41-46eb-4e37-9a00-f9e430f08b6c\">\n",
              "    <div class=\"colab-df-container\">\n",
              "      <div>\n",
              "<style scoped>\n",
              "    .dataframe tbody tr th:only-of-type {\n",
              "        vertical-align: middle;\n",
              "    }\n",
              "\n",
              "    .dataframe tbody tr th {\n",
              "        vertical-align: top;\n",
              "    }\n",
              "\n",
              "    .dataframe thead th {\n",
              "        text-align: right;\n",
              "    }\n",
              "</style>\n",
              "<table border=\"1\" class=\"dataframe\">\n",
              "  <thead>\n",
              "    <tr style=\"text-align: right;\">\n",
              "      <th></th>\n",
              "      <th>season</th>\n",
              "      <th>holiday</th>\n",
              "      <th>workingday</th>\n",
              "      <th>weather</th>\n",
              "      <th>temp</th>\n",
              "      <th>atemp</th>\n",
              "      <th>humidity</th>\n",
              "      <th>windspeed</th>\n",
              "      <th>casual</th>\n",
              "      <th>registered</th>\n",
              "      <th>count</th>\n",
              "    </tr>\n",
              "  </thead>\n",
              "  <tbody>\n",
              "    <tr>\n",
              "      <th>count</th>\n",
              "      <td>10886.000000</td>\n",
              "      <td>10886.000000</td>\n",
              "      <td>10886.000000</td>\n",
              "      <td>10886.000000</td>\n",
              "      <td>10886.00000</td>\n",
              "      <td>10886.000000</td>\n",
              "      <td>10886.000000</td>\n",
              "      <td>10886.000000</td>\n",
              "      <td>10886.000000</td>\n",
              "      <td>10886.000000</td>\n",
              "      <td>10886.000000</td>\n",
              "    </tr>\n",
              "    <tr>\n",
              "      <th>mean</th>\n",
              "      <td>2.506614</td>\n",
              "      <td>0.028569</td>\n",
              "      <td>0.680875</td>\n",
              "      <td>1.418427</td>\n",
              "      <td>20.23086</td>\n",
              "      <td>23.655084</td>\n",
              "      <td>61.886460</td>\n",
              "      <td>12.799395</td>\n",
              "      <td>36.021955</td>\n",
              "      <td>155.552177</td>\n",
              "      <td>191.574132</td>\n",
              "    </tr>\n",
              "    <tr>\n",
              "      <th>std</th>\n",
              "      <td>1.116174</td>\n",
              "      <td>0.166599</td>\n",
              "      <td>0.466159</td>\n",
              "      <td>0.633839</td>\n",
              "      <td>7.79159</td>\n",
              "      <td>8.474601</td>\n",
              "      <td>19.245033</td>\n",
              "      <td>8.164537</td>\n",
              "      <td>49.960477</td>\n",
              "      <td>151.039033</td>\n",
              "      <td>181.144454</td>\n",
              "    </tr>\n",
              "    <tr>\n",
              "      <th>min</th>\n",
              "      <td>1.000000</td>\n",
              "      <td>0.000000</td>\n",
              "      <td>0.000000</td>\n",
              "      <td>1.000000</td>\n",
              "      <td>0.82000</td>\n",
              "      <td>0.760000</td>\n",
              "      <td>0.000000</td>\n",
              "      <td>0.000000</td>\n",
              "      <td>0.000000</td>\n",
              "      <td>0.000000</td>\n",
              "      <td>1.000000</td>\n",
              "    </tr>\n",
              "    <tr>\n",
              "      <th>25%</th>\n",
              "      <td>2.000000</td>\n",
              "      <td>0.000000</td>\n",
              "      <td>0.000000</td>\n",
              "      <td>1.000000</td>\n",
              "      <td>13.94000</td>\n",
              "      <td>16.665000</td>\n",
              "      <td>47.000000</td>\n",
              "      <td>7.001500</td>\n",
              "      <td>4.000000</td>\n",
              "      <td>36.000000</td>\n",
              "      <td>42.000000</td>\n",
              "    </tr>\n",
              "    <tr>\n",
              "      <th>50%</th>\n",
              "      <td>3.000000</td>\n",
              "      <td>0.000000</td>\n",
              "      <td>1.000000</td>\n",
              "      <td>1.000000</td>\n",
              "      <td>20.50000</td>\n",
              "      <td>24.240000</td>\n",
              "      <td>62.000000</td>\n",
              "      <td>12.998000</td>\n",
              "      <td>17.000000</td>\n",
              "      <td>118.000000</td>\n",
              "      <td>145.000000</td>\n",
              "    </tr>\n",
              "    <tr>\n",
              "      <th>75%</th>\n",
              "      <td>4.000000</td>\n",
              "      <td>0.000000</td>\n",
              "      <td>1.000000</td>\n",
              "      <td>2.000000</td>\n",
              "      <td>26.24000</td>\n",
              "      <td>31.060000</td>\n",
              "      <td>77.000000</td>\n",
              "      <td>16.997900</td>\n",
              "      <td>49.000000</td>\n",
              "      <td>222.000000</td>\n",
              "      <td>284.000000</td>\n",
              "    </tr>\n",
              "    <tr>\n",
              "      <th>max</th>\n",
              "      <td>4.000000</td>\n",
              "      <td>1.000000</td>\n",
              "      <td>1.000000</td>\n",
              "      <td>4.000000</td>\n",
              "      <td>41.00000</td>\n",
              "      <td>45.455000</td>\n",
              "      <td>100.000000</td>\n",
              "      <td>56.996900</td>\n",
              "      <td>367.000000</td>\n",
              "      <td>886.000000</td>\n",
              "      <td>977.000000</td>\n",
              "    </tr>\n",
              "  </tbody>\n",
              "</table>\n",
              "</div>\n",
              "      <button class=\"colab-df-convert\" onclick=\"convertToInteractive('df-02e07e41-46eb-4e37-9a00-f9e430f08b6c')\"\n",
              "              title=\"Convert this dataframe to an interactive table.\"\n",
              "              style=\"display:none;\">\n",
              "        \n",
              "  <svg xmlns=\"http://www.w3.org/2000/svg\" height=\"24px\"viewBox=\"0 0 24 24\"\n",
              "       width=\"24px\">\n",
              "    <path d=\"M0 0h24v24H0V0z\" fill=\"none\"/>\n",
              "    <path d=\"M18.56 5.44l.94 2.06.94-2.06 2.06-.94-2.06-.94-.94-2.06-.94 2.06-2.06.94zm-11 1L8.5 8.5l.94-2.06 2.06-.94-2.06-.94L8.5 2.5l-.94 2.06-2.06.94zm10 10l.94 2.06.94-2.06 2.06-.94-2.06-.94-.94-2.06-.94 2.06-2.06.94z\"/><path d=\"M17.41 7.96l-1.37-1.37c-.4-.4-.92-.59-1.43-.59-.52 0-1.04.2-1.43.59L10.3 9.45l-7.72 7.72c-.78.78-.78 2.05 0 2.83L4 21.41c.39.39.9.59 1.41.59.51 0 1.02-.2 1.41-.59l7.78-7.78 2.81-2.81c.8-.78.8-2.07 0-2.86zM5.41 20L4 18.59l7.72-7.72 1.47 1.35L5.41 20z\"/>\n",
              "  </svg>\n",
              "      </button>\n",
              "      \n",
              "  <style>\n",
              "    .colab-df-container {\n",
              "      display:flex;\n",
              "      flex-wrap:wrap;\n",
              "      gap: 12px;\n",
              "    }\n",
              "\n",
              "    .colab-df-convert {\n",
              "      background-color: #E8F0FE;\n",
              "      border: none;\n",
              "      border-radius: 50%;\n",
              "      cursor: pointer;\n",
              "      display: none;\n",
              "      fill: #1967D2;\n",
              "      height: 32px;\n",
              "      padding: 0 0 0 0;\n",
              "      width: 32px;\n",
              "    }\n",
              "\n",
              "    .colab-df-convert:hover {\n",
              "      background-color: #E2EBFA;\n",
              "      box-shadow: 0px 1px 2px rgba(60, 64, 67, 0.3), 0px 1px 3px 1px rgba(60, 64, 67, 0.15);\n",
              "      fill: #174EA6;\n",
              "    }\n",
              "\n",
              "    [theme=dark] .colab-df-convert {\n",
              "      background-color: #3B4455;\n",
              "      fill: #D2E3FC;\n",
              "    }\n",
              "\n",
              "    [theme=dark] .colab-df-convert:hover {\n",
              "      background-color: #434B5C;\n",
              "      box-shadow: 0px 1px 3px 1px rgba(0, 0, 0, 0.15);\n",
              "      filter: drop-shadow(0px 1px 2px rgba(0, 0, 0, 0.3));\n",
              "      fill: #FFFFFF;\n",
              "    }\n",
              "  </style>\n",
              "\n",
              "      <script>\n",
              "        const buttonEl =\n",
              "          document.querySelector('#df-02e07e41-46eb-4e37-9a00-f9e430f08b6c button.colab-df-convert');\n",
              "        buttonEl.style.display =\n",
              "          google.colab.kernel.accessAllowed ? 'block' : 'none';\n",
              "\n",
              "        async function convertToInteractive(key) {\n",
              "          const element = document.querySelector('#df-02e07e41-46eb-4e37-9a00-f9e430f08b6c');\n",
              "          const dataTable =\n",
              "            await google.colab.kernel.invokeFunction('convertToInteractive',\n",
              "                                                     [key], {});\n",
              "          if (!dataTable) return;\n",
              "\n",
              "          const docLinkHtml = 'Like what you see? Visit the ' +\n",
              "            '<a target=\"_blank\" href=https://colab.research.google.com/notebooks/data_table.ipynb>data table notebook</a>'\n",
              "            + ' to learn more about interactive tables.';\n",
              "          element.innerHTML = '';\n",
              "          dataTable['output_type'] = 'display_data';\n",
              "          await google.colab.output.renderOutput(dataTable, element);\n",
              "          const docLink = document.createElement('div');\n",
              "          docLink.innerHTML = docLinkHtml;\n",
              "          element.appendChild(docLink);\n",
              "        }\n",
              "      </script>\n",
              "    </div>\n",
              "  </div>\n",
              "  "
            ]
          },
          "metadata": {},
          "execution_count": 8
        }
      ],
      "source": [
        "# Simple output of the train dataset to view some of the min/max/varition of the dataset features.\n",
        "train.describe()"
      ]
    },
    {
      "cell_type": "code",
      "execution_count": 9,
      "metadata": {
        "id": "6wtBkvCJsZLz",
        "colab": {
          "base_uri": "https://localhost:8080/",
          "height": 206
        },
        "outputId": "c3e20cf6-2fb1-45bd-f9ae-089576e09120"
      },
      "outputs": [
        {
          "output_type": "execute_result",
          "data": {
            "text/plain": [
              "             datetime  season  holiday  workingday  weather   temp   atemp  \\\n",
              "0 2011-01-20 00:00:00       1        0           1        1  10.66  11.365   \n",
              "1 2011-01-20 01:00:00       1        0           1        1  10.66  13.635   \n",
              "2 2011-01-20 02:00:00       1        0           1        1  10.66  13.635   \n",
              "3 2011-01-20 03:00:00       1        0           1        1  10.66  12.880   \n",
              "4 2011-01-20 04:00:00       1        0           1        1  10.66  12.880   \n",
              "\n",
              "   humidity  windspeed  \n",
              "0        56    26.0027  \n",
              "1        56     0.0000  \n",
              "2        56     0.0000  \n",
              "3        56    11.0014  \n",
              "4        56    11.0014  "
            ],
            "text/html": [
              "\n",
              "  <div id=\"df-5425fcab-ad1d-420b-8e9a-5f46a3606af5\">\n",
              "    <div class=\"colab-df-container\">\n",
              "      <div>\n",
              "<style scoped>\n",
              "    .dataframe tbody tr th:only-of-type {\n",
              "        vertical-align: middle;\n",
              "    }\n",
              "\n",
              "    .dataframe tbody tr th {\n",
              "        vertical-align: top;\n",
              "    }\n",
              "\n",
              "    .dataframe thead th {\n",
              "        text-align: right;\n",
              "    }\n",
              "</style>\n",
              "<table border=\"1\" class=\"dataframe\">\n",
              "  <thead>\n",
              "    <tr style=\"text-align: right;\">\n",
              "      <th></th>\n",
              "      <th>datetime</th>\n",
              "      <th>season</th>\n",
              "      <th>holiday</th>\n",
              "      <th>workingday</th>\n",
              "      <th>weather</th>\n",
              "      <th>temp</th>\n",
              "      <th>atemp</th>\n",
              "      <th>humidity</th>\n",
              "      <th>windspeed</th>\n",
              "    </tr>\n",
              "  </thead>\n",
              "  <tbody>\n",
              "    <tr>\n",
              "      <th>0</th>\n",
              "      <td>2011-01-20 00:00:00</td>\n",
              "      <td>1</td>\n",
              "      <td>0</td>\n",
              "      <td>1</td>\n",
              "      <td>1</td>\n",
              "      <td>10.66</td>\n",
              "      <td>11.365</td>\n",
              "      <td>56</td>\n",
              "      <td>26.0027</td>\n",
              "    </tr>\n",
              "    <tr>\n",
              "      <th>1</th>\n",
              "      <td>2011-01-20 01:00:00</td>\n",
              "      <td>1</td>\n",
              "      <td>0</td>\n",
              "      <td>1</td>\n",
              "      <td>1</td>\n",
              "      <td>10.66</td>\n",
              "      <td>13.635</td>\n",
              "      <td>56</td>\n",
              "      <td>0.0000</td>\n",
              "    </tr>\n",
              "    <tr>\n",
              "      <th>2</th>\n",
              "      <td>2011-01-20 02:00:00</td>\n",
              "      <td>1</td>\n",
              "      <td>0</td>\n",
              "      <td>1</td>\n",
              "      <td>1</td>\n",
              "      <td>10.66</td>\n",
              "      <td>13.635</td>\n",
              "      <td>56</td>\n",
              "      <td>0.0000</td>\n",
              "    </tr>\n",
              "    <tr>\n",
              "      <th>3</th>\n",
              "      <td>2011-01-20 03:00:00</td>\n",
              "      <td>1</td>\n",
              "      <td>0</td>\n",
              "      <td>1</td>\n",
              "      <td>1</td>\n",
              "      <td>10.66</td>\n",
              "      <td>12.880</td>\n",
              "      <td>56</td>\n",
              "      <td>11.0014</td>\n",
              "    </tr>\n",
              "    <tr>\n",
              "      <th>4</th>\n",
              "      <td>2011-01-20 04:00:00</td>\n",
              "      <td>1</td>\n",
              "      <td>0</td>\n",
              "      <td>1</td>\n",
              "      <td>1</td>\n",
              "      <td>10.66</td>\n",
              "      <td>12.880</td>\n",
              "      <td>56</td>\n",
              "      <td>11.0014</td>\n",
              "    </tr>\n",
              "  </tbody>\n",
              "</table>\n",
              "</div>\n",
              "      <button class=\"colab-df-convert\" onclick=\"convertToInteractive('df-5425fcab-ad1d-420b-8e9a-5f46a3606af5')\"\n",
              "              title=\"Convert this dataframe to an interactive table.\"\n",
              "              style=\"display:none;\">\n",
              "        \n",
              "  <svg xmlns=\"http://www.w3.org/2000/svg\" height=\"24px\"viewBox=\"0 0 24 24\"\n",
              "       width=\"24px\">\n",
              "    <path d=\"M0 0h24v24H0V0z\" fill=\"none\"/>\n",
              "    <path d=\"M18.56 5.44l.94 2.06.94-2.06 2.06-.94-2.06-.94-.94-2.06-.94 2.06-2.06.94zm-11 1L8.5 8.5l.94-2.06 2.06-.94-2.06-.94L8.5 2.5l-.94 2.06-2.06.94zm10 10l.94 2.06.94-2.06 2.06-.94-2.06-.94-.94-2.06-.94 2.06-2.06.94z\"/><path d=\"M17.41 7.96l-1.37-1.37c-.4-.4-.92-.59-1.43-.59-.52 0-1.04.2-1.43.59L10.3 9.45l-7.72 7.72c-.78.78-.78 2.05 0 2.83L4 21.41c.39.39.9.59 1.41.59.51 0 1.02-.2 1.41-.59l7.78-7.78 2.81-2.81c.8-.78.8-2.07 0-2.86zM5.41 20L4 18.59l7.72-7.72 1.47 1.35L5.41 20z\"/>\n",
              "  </svg>\n",
              "      </button>\n",
              "      \n",
              "  <style>\n",
              "    .colab-df-container {\n",
              "      display:flex;\n",
              "      flex-wrap:wrap;\n",
              "      gap: 12px;\n",
              "    }\n",
              "\n",
              "    .colab-df-convert {\n",
              "      background-color: #E8F0FE;\n",
              "      border: none;\n",
              "      border-radius: 50%;\n",
              "      cursor: pointer;\n",
              "      display: none;\n",
              "      fill: #1967D2;\n",
              "      height: 32px;\n",
              "      padding: 0 0 0 0;\n",
              "      width: 32px;\n",
              "    }\n",
              "\n",
              "    .colab-df-convert:hover {\n",
              "      background-color: #E2EBFA;\n",
              "      box-shadow: 0px 1px 2px rgba(60, 64, 67, 0.3), 0px 1px 3px 1px rgba(60, 64, 67, 0.15);\n",
              "      fill: #174EA6;\n",
              "    }\n",
              "\n",
              "    [theme=dark] .colab-df-convert {\n",
              "      background-color: #3B4455;\n",
              "      fill: #D2E3FC;\n",
              "    }\n",
              "\n",
              "    [theme=dark] .colab-df-convert:hover {\n",
              "      background-color: #434B5C;\n",
              "      box-shadow: 0px 1px 3px 1px rgba(0, 0, 0, 0.15);\n",
              "      filter: drop-shadow(0px 1px 2px rgba(0, 0, 0, 0.3));\n",
              "      fill: #FFFFFF;\n",
              "    }\n",
              "  </style>\n",
              "\n",
              "      <script>\n",
              "        const buttonEl =\n",
              "          document.querySelector('#df-5425fcab-ad1d-420b-8e9a-5f46a3606af5 button.colab-df-convert');\n",
              "        buttonEl.style.display =\n",
              "          google.colab.kernel.accessAllowed ? 'block' : 'none';\n",
              "\n",
              "        async function convertToInteractive(key) {\n",
              "          const element = document.querySelector('#df-5425fcab-ad1d-420b-8e9a-5f46a3606af5');\n",
              "          const dataTable =\n",
              "            await google.colab.kernel.invokeFunction('convertToInteractive',\n",
              "                                                     [key], {});\n",
              "          if (!dataTable) return;\n",
              "\n",
              "          const docLinkHtml = 'Like what you see? Visit the ' +\n",
              "            '<a target=\"_blank\" href=https://colab.research.google.com/notebooks/data_table.ipynb>data table notebook</a>'\n",
              "            + ' to learn more about interactive tables.';\n",
              "          element.innerHTML = '';\n",
              "          dataTable['output_type'] = 'display_data';\n",
              "          await google.colab.output.renderOutput(dataTable, element);\n",
              "          const docLink = document.createElement('div');\n",
              "          docLink.innerHTML = docLinkHtml;\n",
              "          element.appendChild(docLink);\n",
              "        }\n",
              "      </script>\n",
              "    </div>\n",
              "  </div>\n",
              "  "
            ]
          },
          "metadata": {},
          "execution_count": 9
        }
      ],
      "source": [
        "# Create the test pandas dataframe in pandas by reading the csv, remember to parse the datetime!\n",
        "test = pd.read_csv('/content/test.csv')\n",
        "test['datetime']=pd.to_datetime(test.loc[:, \"datetime\"])\n",
        "test.head()"
      ]
    },
    {
      "cell_type": "code",
      "execution_count": 10,
      "metadata": {
        "id": "kpxE0kYxsZLz",
        "colab": {
          "base_uri": "https://localhost:8080/",
          "height": 206
        },
        "outputId": "57cd36cb-6f3b-4a7d-9614-6d43367f5cda"
      },
      "outputs": [
        {
          "output_type": "execute_result",
          "data": {
            "text/plain": [
              "             datetime  count\n",
              "0 2011-01-20 00:00:00      0\n",
              "1 2011-01-20 01:00:00      0\n",
              "2 2011-01-20 02:00:00      0\n",
              "3 2011-01-20 03:00:00      0\n",
              "4 2011-01-20 04:00:00      0"
            ],
            "text/html": [
              "\n",
              "  <div id=\"df-b9758cdb-1beb-406c-9044-12f569a9a336\">\n",
              "    <div class=\"colab-df-container\">\n",
              "      <div>\n",
              "<style scoped>\n",
              "    .dataframe tbody tr th:only-of-type {\n",
              "        vertical-align: middle;\n",
              "    }\n",
              "\n",
              "    .dataframe tbody tr th {\n",
              "        vertical-align: top;\n",
              "    }\n",
              "\n",
              "    .dataframe thead th {\n",
              "        text-align: right;\n",
              "    }\n",
              "</style>\n",
              "<table border=\"1\" class=\"dataframe\">\n",
              "  <thead>\n",
              "    <tr style=\"text-align: right;\">\n",
              "      <th></th>\n",
              "      <th>datetime</th>\n",
              "      <th>count</th>\n",
              "    </tr>\n",
              "  </thead>\n",
              "  <tbody>\n",
              "    <tr>\n",
              "      <th>0</th>\n",
              "      <td>2011-01-20 00:00:00</td>\n",
              "      <td>0</td>\n",
              "    </tr>\n",
              "    <tr>\n",
              "      <th>1</th>\n",
              "      <td>2011-01-20 01:00:00</td>\n",
              "      <td>0</td>\n",
              "    </tr>\n",
              "    <tr>\n",
              "      <th>2</th>\n",
              "      <td>2011-01-20 02:00:00</td>\n",
              "      <td>0</td>\n",
              "    </tr>\n",
              "    <tr>\n",
              "      <th>3</th>\n",
              "      <td>2011-01-20 03:00:00</td>\n",
              "      <td>0</td>\n",
              "    </tr>\n",
              "    <tr>\n",
              "      <th>4</th>\n",
              "      <td>2011-01-20 04:00:00</td>\n",
              "      <td>0</td>\n",
              "    </tr>\n",
              "  </tbody>\n",
              "</table>\n",
              "</div>\n",
              "      <button class=\"colab-df-convert\" onclick=\"convertToInteractive('df-b9758cdb-1beb-406c-9044-12f569a9a336')\"\n",
              "              title=\"Convert this dataframe to an interactive table.\"\n",
              "              style=\"display:none;\">\n",
              "        \n",
              "  <svg xmlns=\"http://www.w3.org/2000/svg\" height=\"24px\"viewBox=\"0 0 24 24\"\n",
              "       width=\"24px\">\n",
              "    <path d=\"M0 0h24v24H0V0z\" fill=\"none\"/>\n",
              "    <path d=\"M18.56 5.44l.94 2.06.94-2.06 2.06-.94-2.06-.94-.94-2.06-.94 2.06-2.06.94zm-11 1L8.5 8.5l.94-2.06 2.06-.94-2.06-.94L8.5 2.5l-.94 2.06-2.06.94zm10 10l.94 2.06.94-2.06 2.06-.94-2.06-.94-.94-2.06-.94 2.06-2.06.94z\"/><path d=\"M17.41 7.96l-1.37-1.37c-.4-.4-.92-.59-1.43-.59-.52 0-1.04.2-1.43.59L10.3 9.45l-7.72 7.72c-.78.78-.78 2.05 0 2.83L4 21.41c.39.39.9.59 1.41.59.51 0 1.02-.2 1.41-.59l7.78-7.78 2.81-2.81c.8-.78.8-2.07 0-2.86zM5.41 20L4 18.59l7.72-7.72 1.47 1.35L5.41 20z\"/>\n",
              "  </svg>\n",
              "      </button>\n",
              "      \n",
              "  <style>\n",
              "    .colab-df-container {\n",
              "      display:flex;\n",
              "      flex-wrap:wrap;\n",
              "      gap: 12px;\n",
              "    }\n",
              "\n",
              "    .colab-df-convert {\n",
              "      background-color: #E8F0FE;\n",
              "      border: none;\n",
              "      border-radius: 50%;\n",
              "      cursor: pointer;\n",
              "      display: none;\n",
              "      fill: #1967D2;\n",
              "      height: 32px;\n",
              "      padding: 0 0 0 0;\n",
              "      width: 32px;\n",
              "    }\n",
              "\n",
              "    .colab-df-convert:hover {\n",
              "      background-color: #E2EBFA;\n",
              "      box-shadow: 0px 1px 2px rgba(60, 64, 67, 0.3), 0px 1px 3px 1px rgba(60, 64, 67, 0.15);\n",
              "      fill: #174EA6;\n",
              "    }\n",
              "\n",
              "    [theme=dark] .colab-df-convert {\n",
              "      background-color: #3B4455;\n",
              "      fill: #D2E3FC;\n",
              "    }\n",
              "\n",
              "    [theme=dark] .colab-df-convert:hover {\n",
              "      background-color: #434B5C;\n",
              "      box-shadow: 0px 1px 3px 1px rgba(0, 0, 0, 0.15);\n",
              "      filter: drop-shadow(0px 1px 2px rgba(0, 0, 0, 0.3));\n",
              "      fill: #FFFFFF;\n",
              "    }\n",
              "  </style>\n",
              "\n",
              "      <script>\n",
              "        const buttonEl =\n",
              "          document.querySelector('#df-b9758cdb-1beb-406c-9044-12f569a9a336 button.colab-df-convert');\n",
              "        buttonEl.style.display =\n",
              "          google.colab.kernel.accessAllowed ? 'block' : 'none';\n",
              "\n",
              "        async function convertToInteractive(key) {\n",
              "          const element = document.querySelector('#df-b9758cdb-1beb-406c-9044-12f569a9a336');\n",
              "          const dataTable =\n",
              "            await google.colab.kernel.invokeFunction('convertToInteractive',\n",
              "                                                     [key], {});\n",
              "          if (!dataTable) return;\n",
              "\n",
              "          const docLinkHtml = 'Like what you see? Visit the ' +\n",
              "            '<a target=\"_blank\" href=https://colab.research.google.com/notebooks/data_table.ipynb>data table notebook</a>'\n",
              "            + ' to learn more about interactive tables.';\n",
              "          element.innerHTML = '';\n",
              "          dataTable['output_type'] = 'display_data';\n",
              "          await google.colab.output.renderOutput(dataTable, element);\n",
              "          const docLink = document.createElement('div');\n",
              "          docLink.innerHTML = docLinkHtml;\n",
              "          element.appendChild(docLink);\n",
              "        }\n",
              "      </script>\n",
              "    </div>\n",
              "  </div>\n",
              "  "
            ]
          },
          "metadata": {},
          "execution_count": 10
        }
      ],
      "source": [
        "# Same thing as train and test dataset\n",
        "submission = pd.read_csv('/content/sampleSubmission.csv')\n",
        "submission['datetime']=pd.to_datetime(submission.loc[:, \"datetime\"])\n",
        "submission.head()"
      ]
    },
    {
      "cell_type": "markdown",
      "metadata": {
        "id": "Gbt5uEvwsZL0"
      },
      "source": [
        "## Step 3: Train a model using AutoGluon’s Tabular Prediction"
      ]
    },
    {
      "cell_type": "markdown",
      "metadata": {
        "id": "lJsnEU7csZL0"
      },
      "source": [
        "Requirements:\n",
        "* We are prediting `count`, so it is the label we are setting.\n",
        "* Ignore `casual` and `registered` columns as they are also not present in the test dataset. \n",
        "* Use the `root_mean_squared_error` as the metric to use for evaluation.\n",
        "* Set a time limit of 10 minutes (600 seconds).\n",
        "* Use the preset `best_quality` to focus on creating the best model."
      ]
    },
    {
      "cell_type": "code",
      "source": [
        "train = train.drop(columns=['casual']) \n",
        "train = train.drop(columns=['registered']) "
      ],
      "metadata": {
        "id": "glzY5QoED88E"
      },
      "execution_count": 11,
      "outputs": []
    },
    {
      "cell_type": "code",
      "source": [
        "train.head()"
      ],
      "metadata": {
        "id": "KQad303MHT4Q"
      },
      "execution_count": null,
      "outputs": []
    },
    {
      "cell_type": "markdown",
      "source": [
        "**Initial RUN with tests**"
      ],
      "metadata": {
        "id": "X5MZDO1RUngS"
      }
    },
    {
      "cell_type": "code",
      "source": [
        "#testing initial with high quality \n",
        "pre_highquality = TabularPredictor(label='count', eval_metric='root_mean_squared_error').fit(\n",
        "    train, presets='high_quality', time_limit=600)"
      ],
      "metadata": {
        "id": "uf33dmuPUa2q"
      },
      "execution_count": null,
      "outputs": []
    },
    {
      "cell_type": "code",
      "source": [
        "pre_highquality.fit_summary()"
      ],
      "metadata": {
        "id": "FFa9yoz6XOzQ"
      },
      "execution_count": null,
      "outputs": []
    },
    {
      "cell_type": "code",
      "source": [
        "predict=pre_highquality.predict(test)\n",
        "predict.describe()"
      ],
      "metadata": {
        "id": "2NyyNbjNXaS_"
      },
      "execution_count": null,
      "outputs": []
    },
    {
      "cell_type": "code",
      "source": [
        "num = predict._get_numeric_data()\n",
        "\n",
        "num[num < 0] = 0"
      ],
      "metadata": {
        "id": "vfDfozeUX1Ui"
      },
      "execution_count": 97,
      "outputs": []
    },
    {
      "cell_type": "code",
      "source": [
        ""
      ],
      "metadata": {
        "id": "iWklbwRVX_7d"
      },
      "execution_count": null,
      "outputs": []
    },
    {
      "cell_type": "code",
      "execution_count": 13,
      "metadata": {
        "id": "UPbCm0O8sZL0",
        "outputId": "c0233ea2-d8b6-46a2-b327-157be3e1499c",
        "colab": {
          "base_uri": "https://localhost:8080/"
        }
      },
      "outputs": [
        {
          "output_type": "stream",
          "name": "stderr",
          "text": [
            "Level 25:autogluon.common.utils.utils:No path specified. Models will be saved in: \"AutogluonModels/ag-20220823_114330/\"\n",
            "INFO:autogluon.tabular.predictor.predictor:Presets specified: ['best_quality']\n",
            "INFO:autogluon.tabular.predictor.predictor:Stack configuration (auto_stack=True): num_stack_levels=1, num_bag_folds=8, num_bag_sets=20\n",
            "INFO:autogluon.tabular.learner.default_learner:Beginning AutoGluon training ... Time limit = 600s\n",
            "INFO:autogluon.tabular.learner.default_learner:AutoGluon will save models to \"AutogluonModels/ag-20220823_114330/\"\n",
            "INFO:autogluon.tabular.learner.default_learner:AutoGluon Version:  0.5.2\n",
            "INFO:autogluon.tabular.learner.default_learner:Python Version:     3.7.13\n",
            "INFO:autogluon.tabular.learner.default_learner:Operating System:   Linux\n",
            "INFO:autogluon.tabular.learner.default_learner:Train Data Rows:    10886\n",
            "INFO:autogluon.tabular.learner.default_learner:Train Data Columns: 9\n",
            "INFO:autogluon.tabular.learner.default_learner:Label Column: count\n",
            "INFO:autogluon.tabular.learner.default_learner:Preprocessing data ...\n",
            "Level 25:autogluon.core.utils.utils:AutoGluon infers your prediction problem is: 'regression' (because dtype of label-column == int and many unique label-values observed).\n",
            "INFO:autogluon.core.utils.utils:\tLabel info (max, min, mean, stddev): (977, 1, 191.57413, 181.14445)\n",
            "Level 25:autogluon.core.utils.utils:\tIf 'regression' is not the correct problem_type, please manually specify the problem_type parameter during predictor init (You may specify problem_type as one of: ['binary', 'multiclass', 'regression'])\n",
            "INFO:autogluon.tabular.learner.default_learner:Using Feature Generators to preprocess the data ...\n",
            "INFO:autogluon.features.generators.abstract:Fitting AutoMLPipelineFeatureGenerator...\n",
            "INFO:autogluon.features.generators.abstract:\tAvailable Memory:                    12665.26 MB\n",
            "INFO:autogluon.features.generators.abstract:\tTrain Data (Original)  Memory Usage: 0.78 MB (0.0% of available memory)\n",
            "INFO:autogluon.features.generators.abstract:\tInferring data type of each feature based on column values. Set feature_metadata_in to manually specify special dtypes of the features.\n",
            "INFO:autogluon.features.generators.abstract:\tStage 1 Generators:\n",
            "INFO:autogluon.features.generators.abstract:\t\tFitting AsTypeFeatureGenerator...\n",
            "INFO:autogluon.features.generators.abstract:\t\t\tNote: Converting 2 features to boolean dtype as they only contain 2 unique values.\n",
            "INFO:autogluon.features.generators.abstract:\tStage 2 Generators:\n",
            "INFO:autogluon.features.generators.abstract:\t\tFitting FillNaFeatureGenerator...\n",
            "INFO:autogluon.features.generators.abstract:\tStage 3 Generators:\n",
            "INFO:autogluon.features.generators.abstract:\t\tFitting IdentityFeatureGenerator...\n",
            "INFO:autogluon.features.generators.abstract:\t\tFitting DatetimeFeatureGenerator...\n",
            "INFO:autogluon.features.generators.abstract:\tStage 4 Generators:\n",
            "INFO:autogluon.features.generators.abstract:\t\tFitting DropUniqueFeatureGenerator...\n",
            "INFO:autogluon.features.generators.abstract:\tTypes of features in original data (raw dtype, special dtypes):\n",
            "INFO:autogluon.common.features.feature_metadata:\t\t('datetime', []) : 1 | ['datetime']\n",
            "INFO:autogluon.common.features.feature_metadata:\t\t('float', [])    : 3 | ['temp', 'atemp', 'windspeed']\n",
            "INFO:autogluon.common.features.feature_metadata:\t\t('int', [])      : 5 | ['season', 'holiday', 'workingday', 'weather', 'humidity']\n",
            "INFO:autogluon.features.generators.abstract:\tTypes of features in processed data (raw dtype, special dtypes):\n",
            "INFO:autogluon.common.features.feature_metadata:\t\t('float', [])                : 3 | ['temp', 'atemp', 'windspeed']\n",
            "INFO:autogluon.common.features.feature_metadata:\t\t('int', [])                  : 3 | ['season', 'weather', 'humidity']\n",
            "INFO:autogluon.common.features.feature_metadata:\t\t('int', ['bool'])            : 2 | ['holiday', 'workingday']\n",
            "INFO:autogluon.common.features.feature_metadata:\t\t('int', ['datetime_as_int']) : 5 | ['datetime', 'datetime.year', 'datetime.month', 'datetime.day', 'datetime.dayofweek']\n",
            "INFO:autogluon.features.generators.abstract:\t0.2s = Fit runtime\n",
            "INFO:autogluon.features.generators.abstract:\t9 features in original data used to generate 13 features in processed data.\n",
            "INFO:autogluon.features.generators.abstract:\tTrain Data (Processed) Memory Usage: 0.98 MB (0.0% of available memory)\n",
            "INFO:autogluon.tabular.learner.default_learner:Data preprocessing and feature engineering runtime = 0.24s ...\n",
            "Level 25:autogluon.core.trainer.abstract_trainer:AutoGluon will gauge predictive performance using evaluation metric: 'root_mean_squared_error'\n",
            "Level 25:autogluon.core.trainer.abstract_trainer:\tThis metric's sign has been flipped to adhere to being higher_is_better. The metric score can be multiplied by -1 to get the metric value.\n",
            "INFO:autogluon.core.trainer.abstract_trainer:\tTo change this, specify the eval_metric parameter of Predictor()\n",
            "INFO:autogluon.core.trainer.abstract_trainer:AutoGluon will fit 2 stack levels (L1 to L2) ...\n",
            "INFO:autogluon.core.trainer.abstract_trainer:Fitting 11 L1 models ...\n",
            "INFO:autogluon.core.trainer.abstract_trainer:Fitting model: KNeighborsUnif_BAG_L1 ... Training model for up to 399.74s of the 599.75s of remaining time.\n",
            "INFO:autogluon.core.trainer.abstract_trainer:\t-101.5462\t = Validation score   (-root_mean_squared_error)\n",
            "INFO:autogluon.core.trainer.abstract_trainer:\t0.05s\t = Training   runtime\n",
            "INFO:autogluon.core.trainer.abstract_trainer:\t0.1s\t = Validation runtime\n",
            "INFO:autogluon.core.trainer.abstract_trainer:Fitting model: KNeighborsDist_BAG_L1 ... Training model for up to 399.44s of the 599.45s of remaining time.\n",
            "INFO:autogluon.core.trainer.abstract_trainer:\t-84.1251\t = Validation score   (-root_mean_squared_error)\n",
            "INFO:autogluon.core.trainer.abstract_trainer:\t0.04s\t = Training   runtime\n",
            "INFO:autogluon.core.trainer.abstract_trainer:\t0.11s\t = Validation runtime\n",
            "INFO:autogluon.core.trainer.abstract_trainer:Fitting model: LightGBMXT_BAG_L1 ... Training model for up to 399.15s of the 599.17s of remaining time.\n",
            "INFO:autogluon.core.models.ensemble.bagged_ensemble_model:\tFitting 8 child models (S1F1 - S1F8) | Fitting with ParallelLocalFoldFittingStrategy\n",
            "INFO:autogluon.core.trainer.abstract_trainer:\t-131.4609\t = Validation score   (-root_mean_squared_error)\n",
            "INFO:autogluon.core.trainer.abstract_trainer:\t71.91s\t = Training   runtime\n",
            "INFO:autogluon.core.trainer.abstract_trainer:\t7.63s\t = Validation runtime\n",
            "INFO:autogluon.core.trainer.abstract_trainer:Fitting model: LightGBM_BAG_L1 ... Training model for up to 315.56s of the 515.57s of remaining time.\n",
            "INFO:autogluon.core.models.ensemble.bagged_ensemble_model:\tFitting 8 child models (S1F1 - S1F8) | Fitting with ParallelLocalFoldFittingStrategy\n",
            "INFO:autogluon.core.trainer.abstract_trainer:\t-131.0542\t = Validation score   (-root_mean_squared_error)\n",
            "INFO:autogluon.core.trainer.abstract_trainer:\t30.7s\t = Training   runtime\n",
            "INFO:autogluon.core.trainer.abstract_trainer:\t1.31s\t = Validation runtime\n",
            "INFO:autogluon.core.trainer.abstract_trainer:Fitting model: RandomForestMSE_BAG_L1 ... Training model for up to 281.27s of the 481.28s of remaining time.\n",
            "INFO:autogluon.core.trainer.abstract_trainer:\t-116.5443\t = Validation score   (-root_mean_squared_error)\n",
            "INFO:autogluon.core.trainer.abstract_trainer:\t12.14s\t = Training   runtime\n",
            "INFO:autogluon.core.trainer.abstract_trainer:\t0.64s\t = Validation runtime\n",
            "INFO:autogluon.core.trainer.abstract_trainer:Fitting model: CatBoost_BAG_L1 ... Training model for up to 267.46s of the 467.47s of remaining time.\n",
            "INFO:autogluon.core.models.ensemble.bagged_ensemble_model:\tFitting 8 child models (S1F1 - S1F8) | Fitting with ParallelLocalFoldFittingStrategy\n",
            "INFO:autogluon.core.trainer.abstract_trainer:\t-130.4986\t = Validation score   (-root_mean_squared_error)\n",
            "INFO:autogluon.core.trainer.abstract_trainer:\t191.2s\t = Training   runtime\n",
            "INFO:autogluon.core.trainer.abstract_trainer:\t0.14s\t = Validation runtime\n",
            "INFO:autogluon.core.trainer.abstract_trainer:Fitting model: ExtraTreesMSE_BAG_L1 ... Training model for up to 73.19s of the 273.21s of remaining time.\n",
            "INFO:autogluon.core.trainer.abstract_trainer:\t-124.5881\t = Validation score   (-root_mean_squared_error)\n",
            "INFO:autogluon.core.trainer.abstract_trainer:\t5.75s\t = Training   runtime\n",
            "INFO:autogluon.core.trainer.abstract_trainer:\t0.61s\t = Validation runtime\n",
            "INFO:autogluon.core.trainer.abstract_trainer:Fitting model: NeuralNetFastAI_BAG_L1 ... Training model for up to 66.05s of the 266.06s of remaining time.\n",
            "INFO:autogluon.core.models.ensemble.bagged_ensemble_model:\tFitting 8 child models (S1F1 - S1F8) | Fitting with ParallelLocalFoldFittingStrategy\n",
            "INFO:autogluon.core.trainer.abstract_trainer:\t-136.987\t = Validation score   (-root_mean_squared_error)\n",
            "INFO:autogluon.core.trainer.abstract_trainer:\t73.1s\t = Training   runtime\n",
            "INFO:autogluon.core.trainer.abstract_trainer:\t0.45s\t = Validation runtime\n",
            "INFO:autogluon.core.trainer.abstract_trainer:Completed 1/20 k-fold bagging repeats ...\n",
            "INFO:autogluon.core.trainer.abstract_trainer:Fitting model: WeightedEnsemble_L2 ... Training model for up to 360.0s of the 188.21s of remaining time.\n",
            "INFO:autogluon.core.trainer.abstract_trainer:\t-84.1251\t = Validation score   (-root_mean_squared_error)\n",
            "INFO:autogluon.core.trainer.abstract_trainer:\t0.44s\t = Training   runtime\n",
            "INFO:autogluon.core.trainer.abstract_trainer:\t0.0s\t = Validation runtime\n",
            "INFO:autogluon.core.trainer.abstract_trainer:Fitting 9 L2 models ...\n",
            "INFO:autogluon.core.trainer.abstract_trainer:Fitting model: LightGBMXT_BAG_L2 ... Training model for up to 187.74s of the 187.73s of remaining time.\n",
            "INFO:autogluon.core.models.ensemble.bagged_ensemble_model:\tFitting 8 child models (S1F1 - S1F8) | Fitting with ParallelLocalFoldFittingStrategy\n",
            "INFO:autogluon.core.trainer.abstract_trainer:\t-60.4852\t = Validation score   (-root_mean_squared_error)\n",
            "INFO:autogluon.core.trainer.abstract_trainer:\t51.96s\t = Training   runtime\n",
            "INFO:autogluon.core.trainer.abstract_trainer:\t3.09s\t = Validation runtime\n",
            "INFO:autogluon.core.trainer.abstract_trainer:Fitting model: LightGBM_BAG_L2 ... Training model for up to 130.93s of the 130.92s of remaining time.\n",
            "INFO:autogluon.core.models.ensemble.bagged_ensemble_model:\tFitting 8 child models (S1F1 - S1F8) | Fitting with ParallelLocalFoldFittingStrategy\n",
            "INFO:autogluon.core.trainer.abstract_trainer:\t-54.9852\t = Validation score   (-root_mean_squared_error)\n",
            "INFO:autogluon.core.trainer.abstract_trainer:\t22.55s\t = Training   runtime\n",
            "INFO:autogluon.core.trainer.abstract_trainer:\t0.23s\t = Validation runtime\n",
            "INFO:autogluon.core.trainer.abstract_trainer:Fitting model: RandomForestMSE_BAG_L2 ... Training model for up to 105.4s of the 105.38s of remaining time.\n",
            "INFO:autogluon.core.trainer.abstract_trainer:\t-53.3871\t = Validation score   (-root_mean_squared_error)\n",
            "INFO:autogluon.core.trainer.abstract_trainer:\t30.21s\t = Training   runtime\n",
            "INFO:autogluon.core.trainer.abstract_trainer:\t0.72s\t = Validation runtime\n",
            "INFO:autogluon.core.trainer.abstract_trainer:Fitting model: CatBoost_BAG_L2 ... Training model for up to 73.76s of the 73.74s of remaining time.\n",
            "INFO:autogluon.core.models.ensemble.bagged_ensemble_model:\tFitting 8 child models (S1F1 - S1F8) | Fitting with ParallelLocalFoldFittingStrategy\n",
            "INFO:autogluon.core.trainer.abstract_trainer:\t-55.6598\t = Validation score   (-root_mean_squared_error)\n",
            "INFO:autogluon.core.trainer.abstract_trainer:\t64.02s\t = Training   runtime\n",
            "INFO:autogluon.core.trainer.abstract_trainer:\t0.07s\t = Validation runtime\n",
            "INFO:autogluon.core.trainer.abstract_trainer:Fitting model: ExtraTreesMSE_BAG_L2 ... Training model for up to 6.7s of the 6.68s of remaining time.\n",
            "INFO:autogluon.core.trainer.abstract_trainer:\t-53.9228\t = Validation score   (-root_mean_squared_error)\n",
            "INFO:autogluon.core.trainer.abstract_trainer:\t11.64s\t = Training   runtime\n",
            "INFO:autogluon.core.trainer.abstract_trainer:\t0.7s\t = Validation runtime\n",
            "INFO:autogluon.core.trainer.abstract_trainer:Completed 1/20 k-fold bagging repeats ...\n",
            "INFO:autogluon.core.trainer.abstract_trainer:Fitting model: WeightedEnsemble_L3 ... Training model for up to 360.0s of the -7.11s of remaining time.\n",
            "INFO:autogluon.core.trainer.abstract_trainer:\t-52.8377\t = Validation score   (-root_mean_squared_error)\n",
            "INFO:autogluon.core.trainer.abstract_trainer:\t0.3s\t = Training   runtime\n",
            "INFO:autogluon.core.trainer.abstract_trainer:\t0.0s\t = Validation runtime\n",
            "INFO:autogluon.tabular.learner.default_learner:AutoGluon training complete, total runtime = 607.45s ... Best model: \"WeightedEnsemble_L3\"\n",
            "INFO:autogluon.tabular.predictor.predictor:TabularPredictor saved. To load, use: predictor = TabularPredictor.load(\"AutogluonModels/ag-20220823_114330/\")\n"
          ]
        }
      ],
      "source": [
        "pre = TabularPredictor(label='count', eval_metric='root_mean_squared_error').fit(\n",
        "    train, presets='best_quality', time_limit=600)"
      ]
    },
    {
      "cell_type": "markdown",
      "metadata": {
        "id": "w2VfJbDWsZL1"
      },
      "source": [
        "### Review AutoGluon's training run with ranking of models that did the best."
      ]
    },
    {
      "cell_type": "code",
      "execution_count": 14,
      "metadata": {
        "id": "PGW1UgAGsZL1",
        "outputId": "0705da82-1782-4b3c-9d51-0158a0576a7d",
        "colab": {
          "base_uri": "https://localhost:8080/"
        }
      },
      "outputs": [
        {
          "output_type": "stream",
          "name": "stdout",
          "text": [
            "*** Summary of fit() ***\n",
            "Estimated performance of each model:\n",
            "                     model   score_val  pred_time_val    fit_time  pred_time_val_marginal  fit_time_marginal  stack_level  can_infer  fit_order\n",
            "0      WeightedEnsemble_L3  -52.837731      12.644489  449.593372                0.001071           0.295026            3       True         15\n",
            "1   RandomForestMSE_BAG_L2  -53.387063      11.710557  415.104146                0.720888          30.210819            2       True         12\n",
            "2     ExtraTreesMSE_BAG_L2  -53.922818      11.689698  396.533025                0.700030          11.639698            2       True         14\n",
            "3          LightGBM_BAG_L2  -54.985214      11.222500  407.447829                0.232831          22.554502            2       True         11\n",
            "4          CatBoost_BAG_L2  -55.659814      11.063505  448.912934                0.073837          64.019607            2       True         13\n",
            "5        LightGBMXT_BAG_L2  -60.485222      14.077018  436.856872                3.087350          51.963545            2       True         10\n",
            "6    KNeighborsDist_BAG_L1  -84.125061       0.109832    0.038094                0.109832           0.038094            1       True          2\n",
            "7      WeightedEnsemble_L2  -84.125061       0.110558    0.479765                0.000726           0.441672            2       True          9\n",
            "8    KNeighborsUnif_BAG_L1 -101.546199       0.104156    0.046271                0.104156           0.046271            1       True          1\n",
            "9   RandomForestMSE_BAG_L1 -116.544294       0.635592   12.144099                0.635592          12.144099            1       True          5\n",
            "10    ExtraTreesMSE_BAG_L1 -124.588053       0.605644    5.754841                0.605644           5.754841            1       True          7\n",
            "11         CatBoost_BAG_L1 -130.498580       0.141835  191.203535                0.141835         191.203535            1       True          6\n",
            "12         LightGBM_BAG_L1 -131.054162       1.312093   30.696074                1.312093          30.696074            1       True          4\n",
            "13       LightGBMXT_BAG_L1 -131.460909       7.626704   71.908271                7.626704          71.908271            1       True          3\n",
            "14  NeuralNetFastAI_BAG_L1 -136.986969       0.453814   73.102144                0.453814          73.102144            1       True          8\n",
            "Number of models trained: 15\n",
            "Types of models trained:\n",
            "{'WeightedEnsembleModel', 'StackerEnsembleModel_RF', 'StackerEnsembleModel_XT', 'StackerEnsembleModel_CatBoost', 'StackerEnsembleModel_KNN', 'StackerEnsembleModel_NNFastAiTabular', 'StackerEnsembleModel_LGB'}\n",
            "Bagging used: True  (with 8 folds)\n",
            "Multi-layer stack-ensembling used: True  (with 3 levels)\n",
            "Feature Metadata (Processed):\n",
            "(raw dtype, special dtypes):\n",
            "('float', [])                : 3 | ['temp', 'atemp', 'windspeed']\n",
            "('int', [])                  : 3 | ['season', 'weather', 'humidity']\n",
            "('int', ['bool'])            : 2 | ['holiday', 'workingday']\n",
            "('int', ['datetime_as_int']) : 5 | ['datetime', 'datetime.year', 'datetime.month', 'datetime.day', 'datetime.dayofweek']\n",
            "Plot summary of models saved to file: AutogluonModels/ag-20220823_114330/SummaryOfModels.html\n",
            "*** End of fit() summary ***\n"
          ]
        },
        {
          "output_type": "execute_result",
          "data": {
            "text/plain": [
              "{'model_types': {'KNeighborsUnif_BAG_L1': 'StackerEnsembleModel_KNN',\n",
              "  'KNeighborsDist_BAG_L1': 'StackerEnsembleModel_KNN',\n",
              "  'LightGBMXT_BAG_L1': 'StackerEnsembleModel_LGB',\n",
              "  'LightGBM_BAG_L1': 'StackerEnsembleModel_LGB',\n",
              "  'RandomForestMSE_BAG_L1': 'StackerEnsembleModel_RF',\n",
              "  'CatBoost_BAG_L1': 'StackerEnsembleModel_CatBoost',\n",
              "  'ExtraTreesMSE_BAG_L1': 'StackerEnsembleModel_XT',\n",
              "  'NeuralNetFastAI_BAG_L1': 'StackerEnsembleModel_NNFastAiTabular',\n",
              "  'WeightedEnsemble_L2': 'WeightedEnsembleModel',\n",
              "  'LightGBMXT_BAG_L2': 'StackerEnsembleModel_LGB',\n",
              "  'LightGBM_BAG_L2': 'StackerEnsembleModel_LGB',\n",
              "  'RandomForestMSE_BAG_L2': 'StackerEnsembleModel_RF',\n",
              "  'CatBoost_BAG_L2': 'StackerEnsembleModel_CatBoost',\n",
              "  'ExtraTreesMSE_BAG_L2': 'StackerEnsembleModel_XT',\n",
              "  'WeightedEnsemble_L3': 'WeightedEnsembleModel'},\n",
              " 'model_performance': {'KNeighborsUnif_BAG_L1': -101.54619908446061,\n",
              "  'KNeighborsDist_BAG_L1': -84.12506123181602,\n",
              "  'LightGBMXT_BAG_L1': -131.46090891834504,\n",
              "  'LightGBM_BAG_L1': -131.054161598899,\n",
              "  'RandomForestMSE_BAG_L1': -116.54429428704391,\n",
              "  'CatBoost_BAG_L1': -130.49858036848312,\n",
              "  'ExtraTreesMSE_BAG_L1': -124.58805258915959,\n",
              "  'NeuralNetFastAI_BAG_L1': -136.98696917031606,\n",
              "  'WeightedEnsemble_L2': -84.12506123181602,\n",
              "  'LightGBMXT_BAG_L2': -60.4852217147559,\n",
              "  'LightGBM_BAG_L2': -54.985213521259354,\n",
              "  'RandomForestMSE_BAG_L2': -53.38706331007527,\n",
              "  'CatBoost_BAG_L2': -55.65981373468545,\n",
              "  'ExtraTreesMSE_BAG_L2': -53.922817533850086,\n",
              "  'WeightedEnsemble_L3': -52.83773127626372},\n",
              " 'model_best': 'WeightedEnsemble_L3',\n",
              " 'model_paths': {'KNeighborsUnif_BAG_L1': 'AutogluonModels/ag-20220823_114330/models/KNeighborsUnif_BAG_L1/',\n",
              "  'KNeighborsDist_BAG_L1': 'AutogluonModels/ag-20220823_114330/models/KNeighborsDist_BAG_L1/',\n",
              "  'LightGBMXT_BAG_L1': 'AutogluonModels/ag-20220823_114330/models/LightGBMXT_BAG_L1/',\n",
              "  'LightGBM_BAG_L1': 'AutogluonModels/ag-20220823_114330/models/LightGBM_BAG_L1/',\n",
              "  'RandomForestMSE_BAG_L1': 'AutogluonModels/ag-20220823_114330/models/RandomForestMSE_BAG_L1/',\n",
              "  'CatBoost_BAG_L1': 'AutogluonModels/ag-20220823_114330/models/CatBoost_BAG_L1/',\n",
              "  'ExtraTreesMSE_BAG_L1': 'AutogluonModels/ag-20220823_114330/models/ExtraTreesMSE_BAG_L1/',\n",
              "  'NeuralNetFastAI_BAG_L1': 'AutogluonModels/ag-20220823_114330/models/NeuralNetFastAI_BAG_L1/',\n",
              "  'WeightedEnsemble_L2': 'AutogluonModels/ag-20220823_114330/models/WeightedEnsemble_L2/',\n",
              "  'LightGBMXT_BAG_L2': 'AutogluonModels/ag-20220823_114330/models/LightGBMXT_BAG_L2/',\n",
              "  'LightGBM_BAG_L2': 'AutogluonModels/ag-20220823_114330/models/LightGBM_BAG_L2/',\n",
              "  'RandomForestMSE_BAG_L2': 'AutogluonModels/ag-20220823_114330/models/RandomForestMSE_BAG_L2/',\n",
              "  'CatBoost_BAG_L2': 'AutogluonModels/ag-20220823_114330/models/CatBoost_BAG_L2/',\n",
              "  'ExtraTreesMSE_BAG_L2': 'AutogluonModels/ag-20220823_114330/models/ExtraTreesMSE_BAG_L2/',\n",
              "  'WeightedEnsemble_L3': 'AutogluonModels/ag-20220823_114330/models/WeightedEnsemble_L3/'},\n",
              " 'model_fit_times': {'KNeighborsUnif_BAG_L1': 0.04627108573913574,\n",
              "  'KNeighborsDist_BAG_L1': 0.03809356689453125,\n",
              "  'LightGBMXT_BAG_L1': 71.90827059745789,\n",
              "  'LightGBM_BAG_L1': 30.69607377052307,\n",
              "  'RandomForestMSE_BAG_L1': 12.144098997116089,\n",
              "  'CatBoost_BAG_L1': 191.20353484153748,\n",
              "  'ExtraTreesMSE_BAG_L1': 5.754840612411499,\n",
              "  'NeuralNetFastAI_BAG_L1': 73.10214376449585,\n",
              "  'WeightedEnsemble_L2': 0.44167184829711914,\n",
              "  'LightGBMXT_BAG_L2': 51.963545083999634,\n",
              "  'LightGBM_BAG_L2': 22.55450201034546,\n",
              "  'RandomForestMSE_BAG_L2': 30.21081852912903,\n",
              "  'CatBoost_BAG_L2': 64.019606590271,\n",
              "  'ExtraTreesMSE_BAG_L2': 11.639697551727295,\n",
              "  'WeightedEnsemble_L3': 0.2950263023376465},\n",
              " 'model_pred_times': {'KNeighborsUnif_BAG_L1': 0.104156494140625,\n",
              "  'KNeighborsDist_BAG_L1': 0.10983157157897949,\n",
              "  'LightGBMXT_BAG_L1': 7.62670373916626,\n",
              "  'LightGBM_BAG_L1': 1.3120927810668945,\n",
              "  'RandomForestMSE_BAG_L1': 0.6355917453765869,\n",
              "  'CatBoost_BAG_L1': 0.14183473587036133,\n",
              "  'ExtraTreesMSE_BAG_L1': 0.6056435108184814,\n",
              "  'NeuralNetFastAI_BAG_L1': 0.4538137912750244,\n",
              "  'WeightedEnsemble_L2': 0.0007264614105224609,\n",
              "  'LightGBMXT_BAG_L2': 3.0873498916625977,\n",
              "  'LightGBM_BAG_L2': 0.23283147811889648,\n",
              "  'RandomForestMSE_BAG_L2': 0.7208883762359619,\n",
              "  'CatBoost_BAG_L2': 0.0738365650177002,\n",
              "  'ExtraTreesMSE_BAG_L2': 0.7000298500061035,\n",
              "  'WeightedEnsemble_L3': 0.0010709762573242188},\n",
              " 'num_bag_folds': 8,\n",
              " 'max_stack_level': 3,\n",
              " 'model_hyperparams': {'KNeighborsUnif_BAG_L1': {'use_orig_features': True,\n",
              "   'max_base_models': 25,\n",
              "   'max_base_models_per_type': 5,\n",
              "   'save_bag_folds': True,\n",
              "   'use_child_oof': True},\n",
              "  'KNeighborsDist_BAG_L1': {'use_orig_features': True,\n",
              "   'max_base_models': 25,\n",
              "   'max_base_models_per_type': 5,\n",
              "   'save_bag_folds': True,\n",
              "   'use_child_oof': True},\n",
              "  'LightGBMXT_BAG_L1': {'use_orig_features': True,\n",
              "   'max_base_models': 25,\n",
              "   'max_base_models_per_type': 5,\n",
              "   'save_bag_folds': True},\n",
              "  'LightGBM_BAG_L1': {'use_orig_features': True,\n",
              "   'max_base_models': 25,\n",
              "   'max_base_models_per_type': 5,\n",
              "   'save_bag_folds': True},\n",
              "  'RandomForestMSE_BAG_L1': {'use_orig_features': True,\n",
              "   'max_base_models': 25,\n",
              "   'max_base_models_per_type': 5,\n",
              "   'save_bag_folds': True,\n",
              "   'use_child_oof': True},\n",
              "  'CatBoost_BAG_L1': {'use_orig_features': True,\n",
              "   'max_base_models': 25,\n",
              "   'max_base_models_per_type': 5,\n",
              "   'save_bag_folds': True},\n",
              "  'ExtraTreesMSE_BAG_L1': {'use_orig_features': True,\n",
              "   'max_base_models': 25,\n",
              "   'max_base_models_per_type': 5,\n",
              "   'save_bag_folds': True,\n",
              "   'use_child_oof': True},\n",
              "  'NeuralNetFastAI_BAG_L1': {'use_orig_features': True,\n",
              "   'max_base_models': 25,\n",
              "   'max_base_models_per_type': 5,\n",
              "   'save_bag_folds': True},\n",
              "  'WeightedEnsemble_L2': {'use_orig_features': False,\n",
              "   'max_base_models': 25,\n",
              "   'max_base_models_per_type': 5,\n",
              "   'save_bag_folds': True},\n",
              "  'LightGBMXT_BAG_L2': {'use_orig_features': True,\n",
              "   'max_base_models': 25,\n",
              "   'max_base_models_per_type': 5,\n",
              "   'save_bag_folds': True},\n",
              "  'LightGBM_BAG_L2': {'use_orig_features': True,\n",
              "   'max_base_models': 25,\n",
              "   'max_base_models_per_type': 5,\n",
              "   'save_bag_folds': True},\n",
              "  'RandomForestMSE_BAG_L2': {'use_orig_features': True,\n",
              "   'max_base_models': 25,\n",
              "   'max_base_models_per_type': 5,\n",
              "   'save_bag_folds': True,\n",
              "   'use_child_oof': True},\n",
              "  'CatBoost_BAG_L2': {'use_orig_features': True,\n",
              "   'max_base_models': 25,\n",
              "   'max_base_models_per_type': 5,\n",
              "   'save_bag_folds': True},\n",
              "  'ExtraTreesMSE_BAG_L2': {'use_orig_features': True,\n",
              "   'max_base_models': 25,\n",
              "   'max_base_models_per_type': 5,\n",
              "   'save_bag_folds': True,\n",
              "   'use_child_oof': True},\n",
              "  'WeightedEnsemble_L3': {'use_orig_features': False,\n",
              "   'max_base_models': 25,\n",
              "   'max_base_models_per_type': 5,\n",
              "   'save_bag_folds': True}},\n",
              " 'leaderboard':                      model   score_val  pred_time_val    fit_time  \\\n",
              " 0      WeightedEnsemble_L3  -52.837731      12.644489  449.593372   \n",
              " 1   RandomForestMSE_BAG_L2  -53.387063      11.710557  415.104146   \n",
              " 2     ExtraTreesMSE_BAG_L2  -53.922818      11.689698  396.533025   \n",
              " 3          LightGBM_BAG_L2  -54.985214      11.222500  407.447829   \n",
              " 4          CatBoost_BAG_L2  -55.659814      11.063505  448.912934   \n",
              " 5        LightGBMXT_BAG_L2  -60.485222      14.077018  436.856872   \n",
              " 6    KNeighborsDist_BAG_L1  -84.125061       0.109832    0.038094   \n",
              " 7      WeightedEnsemble_L2  -84.125061       0.110558    0.479765   \n",
              " 8    KNeighborsUnif_BAG_L1 -101.546199       0.104156    0.046271   \n",
              " 9   RandomForestMSE_BAG_L1 -116.544294       0.635592   12.144099   \n",
              " 10    ExtraTreesMSE_BAG_L1 -124.588053       0.605644    5.754841   \n",
              " 11         CatBoost_BAG_L1 -130.498580       0.141835  191.203535   \n",
              " 12         LightGBM_BAG_L1 -131.054162       1.312093   30.696074   \n",
              " 13       LightGBMXT_BAG_L1 -131.460909       7.626704   71.908271   \n",
              " 14  NeuralNetFastAI_BAG_L1 -136.986969       0.453814   73.102144   \n",
              " \n",
              "     pred_time_val_marginal  fit_time_marginal  stack_level  can_infer  \\\n",
              " 0                 0.001071           0.295026            3       True   \n",
              " 1                 0.720888          30.210819            2       True   \n",
              " 2                 0.700030          11.639698            2       True   \n",
              " 3                 0.232831          22.554502            2       True   \n",
              " 4                 0.073837          64.019607            2       True   \n",
              " 5                 3.087350          51.963545            2       True   \n",
              " 6                 0.109832           0.038094            1       True   \n",
              " 7                 0.000726           0.441672            2       True   \n",
              " 8                 0.104156           0.046271            1       True   \n",
              " 9                 0.635592          12.144099            1       True   \n",
              " 10                0.605644           5.754841            1       True   \n",
              " 11                0.141835         191.203535            1       True   \n",
              " 12                1.312093          30.696074            1       True   \n",
              " 13                7.626704          71.908271            1       True   \n",
              " 14                0.453814          73.102144            1       True   \n",
              " \n",
              "     fit_order  \n",
              " 0          15  \n",
              " 1          12  \n",
              " 2          14  \n",
              " 3          11  \n",
              " 4          13  \n",
              " 5          10  \n",
              " 6           2  \n",
              " 7           9  \n",
              " 8           1  \n",
              " 9           5  \n",
              " 10          7  \n",
              " 11          6  \n",
              " 12          4  \n",
              " 13          3  \n",
              " 14          8  }"
            ]
          },
          "metadata": {},
          "execution_count": 14
        }
      ],
      "source": [
        "pre.fit_summary()"
      ]
    },
    {
      "cell_type": "markdown",
      "metadata": {
        "id": "ipekDzVlsZL1"
      },
      "source": [
        "### Create predictions from test dataset"
      ]
    },
    {
      "cell_type": "code",
      "execution_count": 16,
      "metadata": {
        "id": "TCudadVrsZL1",
        "outputId": "b736daa1-6f95-44d8-d53e-d6e3587d5c53",
        "colab": {
          "base_uri": "https://localhost:8080/"
        }
      },
      "outputs": [
        {
          "output_type": "execute_result",
          "data": {
            "text/plain": [
              "0    22.765511\n",
              "1    41.299957\n",
              "2    45.259937\n",
              "3    48.917870\n",
              "4    51.704922\n",
              "Name: count, dtype: float32"
            ]
          },
          "metadata": {},
          "execution_count": 16
        }
      ],
      "source": [
        "predictions = pre.predict(test)\n",
        "predictions.head()"
      ]
    },
    {
      "cell_type": "markdown",
      "metadata": {
        "id": "MGnqSpMysZL1"
      },
      "source": [
        "#### NOTE: Kaggle will reject the submission if we don't set everything to be > 0."
      ]
    },
    {
      "cell_type": "code",
      "execution_count": 47,
      "metadata": {
        "id": "JcBc_hlosZL2",
        "colab": {
          "base_uri": "https://localhost:8080/"
        },
        "outputId": "fb342206-9d87-4737-fb0b-b07b3ba552e3"
      },
      "outputs": [
        {
          "output_type": "execute_result",
          "data": {
            "text/plain": [
              "count    6493.000000\n",
              "mean      100.729111\n",
              "std        90.219749\n",
              "min         3.133119\n",
              "25%        20.410442\n",
              "50%        62.568832\n",
              "75%       170.445862\n",
              "max       364.899109\n",
              "Name: count, dtype: float64"
            ]
          },
          "metadata": {},
          "execution_count": 47
        }
      ],
      "source": [
        "# Describe the `predictions` series to see if there are any negative values\n",
        "predictions.describe()"
      ]
    },
    {
      "cell_type": "code",
      "execution_count": 48,
      "metadata": {
        "id": "tvoU3t23sZL2"
      },
      "outputs": [],
      "source": [
        "# How many negative values do we have?\n",
        "?"
      ]
    },
    {
      "cell_type": "code",
      "execution_count": 49,
      "metadata": {
        "id": "fctSP_5nsZL2"
      },
      "outputs": [],
      "source": [
        "# Set them to zero\n",
        "?"
      ]
    },
    {
      "cell_type": "markdown",
      "metadata": {
        "id": "jmnwzMjKsZL2"
      },
      "source": [
        "### Set predictions to submission dataframe, save, and submit"
      ]
    },
    {
      "cell_type": "code",
      "source": [
        "predictions.head()"
      ],
      "metadata": {
        "id": "t4AQJkRuUZ_b",
        "outputId": "ffec025f-0c96-4009-83e4-f07a185e8c23",
        "colab": {
          "base_uri": "https://localhost:8080/"
        }
      },
      "execution_count": 20,
      "outputs": [
        {
          "output_type": "execute_result",
          "data": {
            "text/plain": [
              "0    22.765511\n",
              "1    41.299957\n",
              "2    45.259937\n",
              "3    48.917870\n",
              "4    51.704922\n",
              "Name: count, dtype: float32"
            ]
          },
          "metadata": {},
          "execution_count": 20
        }
      ]
    },
    {
      "cell_type": "code",
      "execution_count": 98,
      "metadata": {
        "id": "rKFKR4Z3sZL2"
      },
      "outputs": [],
      "source": [
        "submission[\"count\"] = predict\n",
        "submission.to_csv(\"submission.csv\", index=False)"
      ]
    },
    {
      "cell_type": "code",
      "execution_count": 99,
      "metadata": {
        "id": "z9ZtAa0lsZL3",
        "outputId": "f6375b3a-6e60-4874-8ab5-9653942d7957",
        "colab": {
          "base_uri": "https://localhost:8080/"
        }
      },
      "outputs": [
        {
          "output_type": "stream",
          "name": "stdout",
          "text": [
            "100% 188k/188k [00:00<00:00, 408kB/s]\n",
            "Successfully submitted to Bike Sharing Demand"
          ]
        }
      ],
      "source": [
        "!kaggle competitions submit -c bike-sharing-demand -f submission.csv -m \"submission highquality\""
      ]
    },
    {
      "cell_type": "markdown",
      "metadata": {
        "id": "15WNqojCsZL3"
      },
      "source": [
        "#### View submission via the command line or in the web browser under the competition's page - `My Submissions`"
      ]
    },
    {
      "cell_type": "code",
      "execution_count": 23,
      "metadata": {
        "id": "UPQ9g-dhsZL3",
        "outputId": "7f09066d-1e35-4ff8-99c2-e7d17f833094",
        "colab": {
          "base_uri": "https://localhost:8080/"
        }
      },
      "outputs": [
        {
          "output_type": "stream",
          "name": "stdout",
          "text": [
            "fileName        date                 description           status    publicScore  privateScore  \n",
            "--------------  -------------------  --------------------  --------  -----------  ------------  \n",
            "submission.csv  2022-08-23 11:54:43  first raw submission  complete  1.80394      1.80394       \n",
            "submission.csv  2022-08-22 16:11:25  first raw submission  complete  1.77783      1.77783       \n"
          ]
        }
      ],
      "source": [
        "!kaggle competitions submissions -c bike-sharing-demand | tail -n +1 | head -n 6"
      ]
    },
    {
      "cell_type": "markdown",
      "metadata": {
        "id": "PjER-eF0sZL4"
      },
      "source": [
        "#### Initial score of `?`"
      ]
    },
    {
      "cell_type": "markdown",
      "metadata": {
        "id": "jm2VEB8YsZL4"
      },
      "source": [
        "## Step 4: Exploratory Data Analysis and Creating an additional feature\n",
        "* Any additional feature will do, but a great suggestion would be to separate out the datetime into hour, day, or month parts."
      ]
    },
    {
      "cell_type": "code",
      "execution_count": 25,
      "metadata": {
        "id": "jTBVdAifsZL4",
        "colab": {
          "base_uri": "https://localhost:8080/",
          "height": 507
        },
        "outputId": "515b10e9-8b74-4125-ae40-b19c8b4c8669"
      },
      "outputs": [
        {
          "output_type": "execute_result",
          "data": {
            "text/plain": [
              "array([[<matplotlib.axes._subplots.AxesSubplot object at 0x7fe1ef6601d0>,\n",
              "        <matplotlib.axes._subplots.AxesSubplot object at 0x7fe1ef62e510>,\n",
              "        <matplotlib.axes._subplots.AxesSubplot object at 0x7fe1ef58af90>],\n",
              "       [<matplotlib.axes._subplots.AxesSubplot object at 0x7fe1ef53e590>,\n",
              "        <matplotlib.axes._subplots.AxesSubplot object at 0x7fe1ef4efbd0>,\n",
              "        <matplotlib.axes._subplots.AxesSubplot object at 0x7fe1ef4ac210>],\n",
              "       [<matplotlib.axes._subplots.AxesSubplot object at 0x7fe1ef4e0890>,\n",
              "        <matplotlib.axes._subplots.AxesSubplot object at 0x7fe1ef493dd0>,\n",
              "        <matplotlib.axes._subplots.AxesSubplot object at 0x7fe1ef493e10>],\n",
              "       [<matplotlib.axes._subplots.AxesSubplot object at 0x7fe1ef44f550>,\n",
              "        <matplotlib.axes._subplots.AxesSubplot object at 0x7fe1ef3bcfd0>,\n",
              "        <matplotlib.axes._subplots.AxesSubplot object at 0x7fe1ef37c610>]],\n",
              "      dtype=object)"
            ]
          },
          "metadata": {},
          "execution_count": 25
        },
        {
          "output_type": "display_data",
          "data": {
            "text/plain": [
              "<Figure size 432x288 with 12 Axes>"
            ],
            "image/png": "[encoded data removed]"
          },
          "metadata": {
            "needs_background": "light"
          }
        }
      ],
      "source": [
        "# Create a histogram of all features to show the distribution of each one relative to the data. This is part of the exploritory data analysis\n",
        "train.hist()"
      ]
    },
    {
      "cell_type": "code",
      "source": [
        "train.info()"
      ],
      "metadata": {
        "colab": {
          "base_uri": "https://localhost:8080/"
        },
        "id": "CV2szs1Fotw-",
        "outputId": "2b968e7e-ee3d-444a-e819-4e10625b122b"
      },
      "execution_count": 26,
      "outputs": [
        {
          "output_type": "stream",
          "name": "stdout",
          "text": [
            "<class 'pandas.core.frame.DataFrame'>\n",
            "RangeIndex: 10886 entries, 0 to 10885\n",
            "Data columns (total 10 columns):\n",
            " #   Column      Non-Null Count  Dtype         \n",
            "---  ------      --------------  -----         \n",
            " 0   datetime    10886 non-null  datetime64[ns]\n",
            " 1   season      10886 non-null  int64         \n",
            " 2   holiday     10886 non-null  int64         \n",
            " 3   workingday  10886 non-null  int64         \n",
            " 4   weather     10886 non-null  int64         \n",
            " 5   temp        10886 non-null  float64       \n",
            " 6   atemp       10886 non-null  float64       \n",
            " 7   humidity    10886 non-null  int64         \n",
            " 8   windspeed   10886 non-null  float64       \n",
            " 9   count       10886 non-null  int64         \n",
            "dtypes: datetime64[ns](1), float64(3), int64(6)\n",
            "memory usage: 850.6 KB\n"
          ]
        }
      ]
    },
    {
      "cell_type": "code",
      "execution_count": 29,
      "metadata": {
        "id": "Mw73B6LfsZL4"
      },
      "outputs": [],
      "source": [
        "# create a new feature\n",
        "train['year'] = train['datetime'].dt.year\n",
        "\n",
        "#test[?] = ?"
      ]
    },
    {
      "cell_type": "code",
      "source": [
        "train['month'] = train['datetime'].dt.month\n",
        "train['day'] = train['datetime'].dt.day"
      ],
      "metadata": {
        "id": "DEbMDYu4pdIJ"
      },
      "execution_count": 31,
      "outputs": []
    },
    {
      "cell_type": "code",
      "source": [
        "train['time'] = train['datetime'].dt.time\n"
      ],
      "metadata": {
        "id": "QIRyO-rCpfoK"
      },
      "execution_count": 33,
      "outputs": []
    },
    {
      "cell_type": "code",
      "source": [
        "train = train.drop(columns=['datetime']) "
      ],
      "metadata": {
        "id": "q2lAmjeXprKG"
      },
      "execution_count": 35,
      "outputs": []
    },
    {
      "cell_type": "code",
      "source": [
        "train.head()"
      ],
      "metadata": {
        "colab": {
          "base_uri": "https://localhost:8080/",
          "height": 250
        },
        "id": "kXB2jdwjpJQI",
        "outputId": "bfc511f3-ee25-416c-d266-5854f73b6e8d"
      },
      "execution_count": 40,
      "outputs": [
        {
          "output_type": "execute_result",
          "data": {
            "text/plain": [
              "   season  holiday  workingday  weather  temp   atemp  humidity  windspeed  \\\n",
              "0       1        0           0        1  9.84  14.395        81        0.0   \n",
              "1       1        0           0        1  9.02  13.635        80        0.0   \n",
              "2       1        0           0        1  9.02  13.635        80        0.0   \n",
              "3       1        0           0        1  9.84  14.395        75        0.0   \n",
              "4       1        0           0        1  9.84  14.395        75        0.0   \n",
              "\n",
              "   count  year  month  day      time  \n",
              "0     16  2011      1    1  00:00:00  \n",
              "1     40  2011      1    1  01:00:00  \n",
              "2     32  2011      1    1  02:00:00  \n",
              "3     13  2011      1    1  03:00:00  \n",
              "4      1  2011      1    1  04:00:00  "
            ],
            "text/html": [
              "\n",
              "  <div id=\"df-222fc1a7-8650-42ea-9d7d-9bafda936955\">\n",
              "    <div class=\"colab-df-container\">\n",
              "      <div>\n",
              "<style scoped>\n",
              "    .dataframe tbody tr th:only-of-type {\n",
              "        vertical-align: middle;\n",
              "    }\n",
              "\n",
              "    .dataframe tbody tr th {\n",
              "        vertical-align: top;\n",
              "    }\n",
              "\n",
              "    .dataframe thead th {\n",
              "        text-align: right;\n",
              "    }\n",
              "</style>\n",
              "<table border=\"1\" class=\"dataframe\">\n",
              "  <thead>\n",
              "    <tr style=\"text-align: right;\">\n",
              "      <th></th>\n",
              "      <th>season</th>\n",
              "      <th>holiday</th>\n",
              "      <th>workingday</th>\n",
              "      <th>weather</th>\n",
              "      <th>temp</th>\n",
              "      <th>atemp</th>\n",
              "      <th>humidity</th>\n",
              "      <th>windspeed</th>\n",
              "      <th>count</th>\n",
              "      <th>year</th>\n",
              "      <th>month</th>\n",
              "      <th>day</th>\n",
              "      <th>time</th>\n",
              "    </tr>\n",
              "  </thead>\n",
              "  <tbody>\n",
              "    <tr>\n",
              "      <th>0</th>\n",
              "      <td>1</td>\n",
              "      <td>0</td>\n",
              "      <td>0</td>\n",
              "      <td>1</td>\n",
              "      <td>9.84</td>\n",
              "      <td>14.395</td>\n",
              "      <td>81</td>\n",
              "      <td>0.0</td>\n",
              "      <td>16</td>\n",
              "      <td>2011</td>\n",
              "      <td>1</td>\n",
              "      <td>1</td>\n",
              "      <td>00:00:00</td>\n",
              "    </tr>\n",
              "    <tr>\n",
              "      <th>1</th>\n",
              "      <td>1</td>\n",
              "      <td>0</td>\n",
              "      <td>0</td>\n",
              "      <td>1</td>\n",
              "      <td>9.02</td>\n",
              "      <td>13.635</td>\n",
              "      <td>80</td>\n",
              "      <td>0.0</td>\n",
              "      <td>40</td>\n",
              "      <td>2011</td>\n",
              "      <td>1</td>\n",
              "      <td>1</td>\n",
              "      <td>01:00:00</td>\n",
              "    </tr>\n",
              "    <tr>\n",
              "      <th>2</th>\n",
              "      <td>1</td>\n",
              "      <td>0</td>\n",
              "      <td>0</td>\n",
              "      <td>1</td>\n",
              "      <td>9.02</td>\n",
              "      <td>13.635</td>\n",
              "      <td>80</td>\n",
              "      <td>0.0</td>\n",
              "      <td>32</td>\n",
              "      <td>2011</td>\n",
              "      <td>1</td>\n",
              "      <td>1</td>\n",
              "      <td>02:00:00</td>\n",
              "    </tr>\n",
              "    <tr>\n",
              "      <th>3</th>\n",
              "      <td>1</td>\n",
              "      <td>0</td>\n",
              "      <td>0</td>\n",
              "      <td>1</td>\n",
              "      <td>9.84</td>\n",
              "      <td>14.395</td>\n",
              "      <td>75</td>\n",
              "      <td>0.0</td>\n",
              "      <td>13</td>\n",
              "      <td>2011</td>\n",
              "      <td>1</td>\n",
              "      <td>1</td>\n",
              "      <td>03:00:00</td>\n",
              "    </tr>\n",
              "    <tr>\n",
              "      <th>4</th>\n",
              "      <td>1</td>\n",
              "      <td>0</td>\n",
              "      <td>0</td>\n",
              "      <td>1</td>\n",
              "      <td>9.84</td>\n",
              "      <td>14.395</td>\n",
              "      <td>75</td>\n",
              "      <td>0.0</td>\n",
              "      <td>1</td>\n",
              "      <td>2011</td>\n",
              "      <td>1</td>\n",
              "      <td>1</td>\n",
              "      <td>04:00:00</td>\n",
              "    </tr>\n",
              "  </tbody>\n",
              "</table>\n",
              "</div>\n",
              "      <button class=\"colab-df-convert\" onclick=\"convertToInteractive('df-222fc1a7-8650-42ea-9d7d-9bafda936955')\"\n",
              "              title=\"Convert this dataframe to an interactive table.\"\n",
              "              style=\"display:none;\">\n",
              "        \n",
              "  <svg xmlns=\"http://www.w3.org/2000/svg\" height=\"24px\"viewBox=\"0 0 24 24\"\n",
              "       width=\"24px\">\n",
              "    <path d=\"M0 0h24v24H0V0z\" fill=\"none\"/>\n",
              "    <path d=\"M18.56 5.44l.94 2.06.94-2.06 2.06-.94-2.06-.94-.94-2.06-.94 2.06-2.06.94zm-11 1L8.5 8.5l.94-2.06 2.06-.94-2.06-.94L8.5 2.5l-.94 2.06-2.06.94zm10 10l.94 2.06.94-2.06 2.06-.94-2.06-.94-.94-2.06-.94 2.06-2.06.94z\"/><path d=\"M17.41 7.96l-1.37-1.37c-.4-.4-.92-.59-1.43-.59-.52 0-1.04.2-1.43.59L10.3 9.45l-7.72 7.72c-.78.78-.78 2.05 0 2.83L4 21.41c.39.39.9.59 1.41.59.51 0 1.02-.2 1.41-.59l7.78-7.78 2.81-2.81c.8-.78.8-2.07 0-2.86zM5.41 20L4 18.59l7.72-7.72 1.47 1.35L5.41 20z\"/>\n",
              "  </svg>\n",
              "      </button>\n",
              "      \n",
              "  <style>\n",
              "    .colab-df-container {\n",
              "      display:flex;\n",
              "      flex-wrap:wrap;\n",
              "      gap: 12px;\n",
              "    }\n",
              "\n",
              "    .colab-df-convert {\n",
              "      background-color: #E8F0FE;\n",
              "      border: none;\n",
              "      border-radius: 50%;\n",
              "      cursor: pointer;\n",
              "      display: none;\n",
              "      fill: #1967D2;\n",
              "      height: 32px;\n",
              "      padding: 0 0 0 0;\n",
              "      width: 32px;\n",
              "    }\n",
              "\n",
              "    .colab-df-convert:hover {\n",
              "      background-color: #E2EBFA;\n",
              "      box-shadow: 0px 1px 2px rgba(60, 64, 67, 0.3), 0px 1px 3px 1px rgba(60, 64, 67, 0.15);\n",
              "      fill: #174EA6;\n",
              "    }\n",
              "\n",
              "    [theme=dark] .colab-df-convert {\n",
              "      background-color: #3B4455;\n",
              "      fill: #D2E3FC;\n",
              "    }\n",
              "\n",
              "    [theme=dark] .colab-df-convert:hover {\n",
              "      background-color: #434B5C;\n",
              "      box-shadow: 0px 1px 3px 1px rgba(0, 0, 0, 0.15);\n",
              "      filter: drop-shadow(0px 1px 2px rgba(0, 0, 0, 0.3));\n",
              "      fill: #FFFFFF;\n",
              "    }\n",
              "  </style>\n",
              "\n",
              "      <script>\n",
              "        const buttonEl =\n",
              "          document.querySelector('#df-222fc1a7-8650-42ea-9d7d-9bafda936955 button.colab-df-convert');\n",
              "        buttonEl.style.display =\n",
              "          google.colab.kernel.accessAllowed ? 'block' : 'none';\n",
              "\n",
              "        async function convertToInteractive(key) {\n",
              "          const element = document.querySelector('#df-222fc1a7-8650-42ea-9d7d-9bafda936955');\n",
              "          const dataTable =\n",
              "            await google.colab.kernel.invokeFunction('convertToInteractive',\n",
              "                                                     [key], {});\n",
              "          if (!dataTable) return;\n",
              "\n",
              "          const docLinkHtml = 'Like what you see? Visit the ' +\n",
              "            '<a target=\"_blank\" href=https://colab.research.google.com/notebooks/data_table.ipynb>data table notebook</a>'\n",
              "            + ' to learn more about interactive tables.';\n",
              "          element.innerHTML = '';\n",
              "          dataTable['output_type'] = 'display_data';\n",
              "          await google.colab.output.renderOutput(dataTable, element);\n",
              "          const docLink = document.createElement('div');\n",
              "          docLink.innerHTML = docLinkHtml;\n",
              "          element.appendChild(docLink);\n",
              "        }\n",
              "      </script>\n",
              "    </div>\n",
              "  </div>\n",
              "  "
            ]
          },
          "metadata": {},
          "execution_count": 40
        }
      ]
    },
    {
      "cell_type": "code",
      "source": [
        "test['year'] = test['datetime'].dt.year\n",
        "test['month'] = test['datetime'].dt.month\n",
        "test['day'] = test['datetime'].dt.day\n",
        "test['time'] = test['datetime'].dt.time\n",
        "test = test.drop(columns=['datetime']) \n",
        "test.head()"
      ],
      "metadata": {
        "id": "ynxGiYXVp1f_"
      },
      "execution_count": null,
      "outputs": []
    },
    {
      "cell_type": "markdown",
      "metadata": {
        "id": "b1mTSD_YsZL5"
      },
      "source": [
        "## Make category types for these so models know they are not just numbers\n",
        "* AutoGluon originally sees these as ints, but in reality they are int representations of a category.\n",
        "* Setting the dtype to category will classify these as categories in AutoGluon."
      ]
    },
    {
      "cell_type": "code",
      "execution_count": 41,
      "metadata": {
        "id": "u5hcZy4FsZL5"
      },
      "outputs": [],
      "source": [
        "train[\"season\"] = train[\"season\"].astype(\"category\")\n",
        "train[\"weather\"] = train[\"weather\"].astype(\"category\")\n",
        "test[\"season\"] = test[\"season\"].astype(\"category\")\n",
        "test[\"weather\"] = test[\"weather\"].astype(\"category\")"
      ]
    },
    {
      "cell_type": "code",
      "execution_count": null,
      "metadata": {
        "id": "FDL4KTrjsZL5"
      },
      "outputs": [],
      "source": [
        "# View are new feature\n",
        "train.head()"
      ]
    },
    {
      "cell_type": "code",
      "source": [
        "train.info()"
      ],
      "metadata": {
        "id": "22eohd5ysKLZ"
      },
      "execution_count": null,
      "outputs": []
    },
    {
      "cell_type": "code",
      "execution_count": 44,
      "metadata": {
        "id": "8oC99J1tsZL5",
        "colab": {
          "base_uri": "https://localhost:8080/",
          "height": 507
        },
        "outputId": "4c7e6508-f1f1-4ce9-fc80-60b5731686a3"
      },
      "outputs": [
        {
          "output_type": "execute_result",
          "data": {
            "text/plain": [
              "array([[<matplotlib.axes._subplots.AxesSubplot object at 0x7fe1efafb650>,\n",
              "        <matplotlib.axes._subplots.AxesSubplot object at 0x7fe1efabc3d0>,\n",
              "        <matplotlib.axes._subplots.AxesSubplot object at 0x7fe1ee4610d0>],\n",
              "       [<matplotlib.axes._subplots.AxesSubplot object at 0x7fe1ee257a10>,\n",
              "        <matplotlib.axes._subplots.AxesSubplot object at 0x7fe1ee28afd0>,\n",
              "        <matplotlib.axes._subplots.AxesSubplot object at 0x7fe1ee24b650>],\n",
              "       [<matplotlib.axes._subplots.AxesSubplot object at 0x7fe1ee20bc90>,\n",
              "        <matplotlib.axes._subplots.AxesSubplot object at 0x7fe1ee1cd250>,\n",
              "        <matplotlib.axes._subplots.AxesSubplot object at 0x7fe1ee1cd290>],\n",
              "       [<matplotlib.axes._subplots.AxesSubplot object at 0x7fe1ee183990>,\n",
              "        <matplotlib.axes._subplots.AxesSubplot object at 0x7fe1ee0fd4d0>,\n",
              "        <matplotlib.axes._subplots.AxesSubplot object at 0x7fe1ee0b4a90>]],\n",
              "      dtype=object)"
            ]
          },
          "metadata": {},
          "execution_count": 44
        },
        {
          "output_type": "display_data",
          "data": {
            "text/plain": [
              "<Figure size 432x288 with 12 Axes>"
            ],
            "image/png": "[encoded data removed]"
          },
          "metadata": {
            "needs_background": "light"
          }
        }
      ],
      "source": [
        "# View histogram of all features again now with the hour feature\n",
        "train.hist()"
      ]
    },
    {
      "cell_type": "markdown",
      "metadata": {
        "id": "eBXilNiJsZL5"
      },
      "source": [
        "## Step 5: Rerun the model with the same settings as before, just with more features"
      ]
    },
    {
      "cell_type": "code",
      "execution_count": 45,
      "metadata": {
        "id": "oWLAUWOGsZL6",
        "colab": {
          "base_uri": "https://localhost:8080/"
        },
        "outputId": "a35f0ff1-338d-4173-db64-80beacd84251"
      },
      "outputs": [
        {
          "output_type": "stream",
          "name": "stderr",
          "text": [
            "Level 25:autogluon.common.utils.utils:No path specified. Models will be saved in: \"AutogluonModels/ag-20220823_123411/\"\n",
            "INFO:autogluon.tabular.predictor.predictor:Presets specified: ['best_quality']\n",
            "INFO:autogluon.tabular.predictor.predictor:Stack configuration (auto_stack=True): num_stack_levels=1, num_bag_folds=8, num_bag_sets=20\n",
            "INFO:autogluon.tabular.learner.default_learner:Beginning AutoGluon training ... Time limit = 600s\n",
            "INFO:autogluon.tabular.learner.default_learner:AutoGluon will save models to \"AutogluonModels/ag-20220823_123411/\"\n",
            "INFO:autogluon.tabular.learner.default_learner:AutoGluon Version:  0.5.2\n",
            "INFO:autogluon.tabular.learner.default_learner:Python Version:     3.7.13\n",
            "INFO:autogluon.tabular.learner.default_learner:Operating System:   Linux\n",
            "INFO:autogluon.tabular.learner.default_learner:Train Data Rows:    10886\n",
            "INFO:autogluon.tabular.learner.default_learner:Train Data Columns: 12\n",
            "INFO:autogluon.tabular.learner.default_learner:Label Column: count\n",
            "INFO:autogluon.tabular.learner.default_learner:Preprocessing data ...\n",
            "Level 25:autogluon.core.utils.utils:AutoGluon infers your prediction problem is: 'regression' (because dtype of label-column == int and many unique label-values observed).\n",
            "INFO:autogluon.core.utils.utils:\tLabel info (max, min, mean, stddev): (977, 1, 191.57413, 181.14445)\n",
            "Level 25:autogluon.core.utils.utils:\tIf 'regression' is not the correct problem_type, please manually specify the problem_type parameter during predictor init (You may specify problem_type as one of: ['binary', 'multiclass', 'regression'])\n",
            "INFO:autogluon.tabular.learner.default_learner:Using Feature Generators to preprocess the data ...\n",
            "INFO:autogluon.features.generators.abstract:Fitting AutoMLPipelineFeatureGenerator...\n",
            "INFO:autogluon.features.generators.abstract:\tAvailable Memory:                    11486.5 MB\n",
            "INFO:autogluon.features.generators.abstract:\tTrain Data (Original)  Memory Usage: 1.33 MB (0.0% of available memory)\n",
            "INFO:autogluon.features.generators.abstract:\tInferring data type of each feature based on column values. Set feature_metadata_in to manually specify special dtypes of the features.\n",
            "INFO:autogluon.features.generators.abstract:\tStage 1 Generators:\n",
            "INFO:autogluon.features.generators.abstract:\t\tFitting AsTypeFeatureGenerator...\n",
            "INFO:autogluon.features.generators.abstract:\t\t\tNote: Converting 3 features to boolean dtype as they only contain 2 unique values.\n",
            "INFO:autogluon.features.generators.abstract:\tStage 2 Generators:\n",
            "INFO:autogluon.features.generators.abstract:\t\tFitting FillNaFeatureGenerator...\n",
            "INFO:autogluon.features.generators.abstract:\tStage 3 Generators:\n",
            "INFO:autogluon.features.generators.abstract:\t\tFitting IdentityFeatureGenerator...\n",
            "INFO:autogluon.features.generators.abstract:\t\tFitting CategoryFeatureGenerator...\n",
            "INFO:autogluon.features.generators.abstract:\t\t\tFitting CategoryMemoryMinimizeFeatureGenerator...\n",
            "INFO:autogluon.features.generators.abstract:\tStage 4 Generators:\n",
            "INFO:autogluon.features.generators.abstract:\t\tFitting DropUniqueFeatureGenerator...\n",
            "INFO:autogluon.features.generators.abstract:\tTypes of features in original data (raw dtype, special dtypes):\n",
            "INFO:autogluon.common.features.feature_metadata:\t\t('category', []) : 2 | ['season', 'weather']\n",
            "INFO:autogluon.common.features.feature_metadata:\t\t('float', [])    : 3 | ['temp', 'atemp', 'windspeed']\n",
            "INFO:autogluon.common.features.feature_metadata:\t\t('int', [])      : 6 | ['holiday', 'workingday', 'humidity', 'year', 'month', ...]\n",
            "INFO:autogluon.common.features.feature_metadata:\t\t('object', [])   : 1 | ['time']\n",
            "INFO:autogluon.features.generators.abstract:\tTypes of features in processed data (raw dtype, special dtypes):\n",
            "INFO:autogluon.common.features.feature_metadata:\t\t('category', [])  : 3 | ['season', 'weather', 'time']\n",
            "INFO:autogluon.common.features.feature_metadata:\t\t('float', [])     : 3 | ['temp', 'atemp', 'windspeed']\n",
            "INFO:autogluon.common.features.feature_metadata:\t\t('int', [])       : 3 | ['humidity', 'month', 'day']\n",
            "INFO:autogluon.common.features.feature_metadata:\t\t('int', ['bool']) : 3 | ['holiday', 'workingday', 'year']\n",
            "INFO:autogluon.features.generators.abstract:\t0.2s = Fit runtime\n",
            "INFO:autogluon.features.generators.abstract:\t12 features in original data used to generate 12 features in processed data.\n",
            "INFO:autogluon.features.generators.abstract:\tTrain Data (Processed) Memory Usage: 0.59 MB (0.0% of available memory)\n",
            "INFO:autogluon.tabular.learner.default_learner:Data preprocessing and feature engineering runtime = 0.24s ...\n",
            "Level 25:autogluon.core.trainer.abstract_trainer:AutoGluon will gauge predictive performance using evaluation metric: 'root_mean_squared_error'\n",
            "Level 25:autogluon.core.trainer.abstract_trainer:\tThis metric's sign has been flipped to adhere to being higher_is_better. The metric score can be multiplied by -1 to get the metric value.\n",
            "INFO:autogluon.core.trainer.abstract_trainer:\tTo change this, specify the eval_metric parameter of Predictor()\n",
            "INFO:autogluon.core.trainer.abstract_trainer:AutoGluon will fit 2 stack levels (L1 to L2) ...\n",
            "INFO:autogluon.core.trainer.abstract_trainer:Fitting 11 L1 models ...\n",
            "INFO:autogluon.core.trainer.abstract_trainer:Fitting model: KNeighborsUnif_BAG_L1 ... Training model for up to 399.74s of the 599.75s of remaining time.\n",
            "INFO:autogluon.core.trainer.abstract_trainer:\t-154.0311\t = Validation score   (-root_mean_squared_error)\n",
            "INFO:autogluon.core.trainer.abstract_trainer:\t0.05s\t = Training   runtime\n",
            "INFO:autogluon.core.trainer.abstract_trainer:\t0.1s\t = Validation runtime\n",
            "INFO:autogluon.core.trainer.abstract_trainer:Fitting model: KNeighborsDist_BAG_L1 ... Training model for up to 399.44s of the 599.45s of remaining time.\n",
            "INFO:autogluon.core.trainer.abstract_trainer:\t-154.1834\t = Validation score   (-root_mean_squared_error)\n",
            "INFO:autogluon.core.trainer.abstract_trainer:\t0.03s\t = Training   runtime\n",
            "INFO:autogluon.core.trainer.abstract_trainer:\t0.11s\t = Validation runtime\n",
            "INFO:autogluon.core.trainer.abstract_trainer:Fitting model: LightGBMXT_BAG_L1 ... Training model for up to 399.17s of the 599.18s of remaining time.\n",
            "INFO:autogluon.core.models.ensemble.bagged_ensemble_model:\tFitting 8 child models (S1F1 - S1F8) | Fitting with ParallelLocalFoldFittingStrategy\n",
            "INFO:autogluon.core.trainer.abstract_trainer:\t-39.4525\t = Validation score   (-root_mean_squared_error)\n",
            "INFO:autogluon.core.trainer.abstract_trainer:\t36.8s\t = Training   runtime\n",
            "INFO:autogluon.core.trainer.abstract_trainer:\t3.04s\t = Validation runtime\n",
            "INFO:autogluon.core.trainer.abstract_trainer:Fitting model: LightGBM_BAG_L1 ... Training model for up to 358.98s of the 558.99s of remaining time.\n",
            "INFO:autogluon.core.models.ensemble.bagged_ensemble_model:\tFitting 8 child models (S1F1 - S1F8) | Fitting with ParallelLocalFoldFittingStrategy\n",
            "INFO:autogluon.core.trainer.abstract_trainer:\t-39.9439\t = Validation score   (-root_mean_squared_error)\n",
            "INFO:autogluon.core.trainer.abstract_trainer:\t26.69s\t = Training   runtime\n",
            "INFO:autogluon.core.trainer.abstract_trainer:\t1.5s\t = Validation runtime\n",
            "INFO:autogluon.core.trainer.abstract_trainer:Fitting model: RandomForestMSE_BAG_L1 ... Training model for up to 328.37s of the 528.38s of remaining time.\n",
            "INFO:autogluon.core.trainer.abstract_trainer:\t-42.1666\t = Validation score   (-root_mean_squared_error)\n",
            "INFO:autogluon.core.trainer.abstract_trainer:\t10.84s\t = Training   runtime\n",
            "INFO:autogluon.core.trainer.abstract_trainer:\t0.66s\t = Validation runtime\n",
            "INFO:autogluon.core.trainer.abstract_trainer:Fitting model: CatBoost_BAG_L1 ... Training model for up to 316.07s of the 516.09s of remaining time.\n",
            "INFO:autogluon.core.models.ensemble.bagged_ensemble_model:\tFitting 8 child models (S1F1 - S1F8) | Fitting with ParallelLocalFoldFittingStrategy\n",
            "INFO:autogluon.core.trainer.abstract_trainer:\t-40.8237\t = Validation score   (-root_mean_squared_error)\n",
            "INFO:autogluon.core.trainer.abstract_trainer:\t265.76s\t = Training   runtime\n",
            "INFO:autogluon.core.trainer.abstract_trainer:\t0.41s\t = Validation runtime\n",
            "INFO:autogluon.core.trainer.abstract_trainer:Fitting model: ExtraTreesMSE_BAG_L1 ... Training model for up to 46.86s of the 246.87s of remaining time.\n",
            "INFO:autogluon.core.trainer.abstract_trainer:\t-41.739\t = Validation score   (-root_mean_squared_error)\n",
            "INFO:autogluon.core.trainer.abstract_trainer:\t5.97s\t = Training   runtime\n",
            "INFO:autogluon.core.trainer.abstract_trainer:\t0.66s\t = Validation runtime\n",
            "INFO:autogluon.core.trainer.abstract_trainer:Fitting model: NeuralNetFastAI_BAG_L1 ... Training model for up to 39.5s of the 239.51s of remaining time.\n",
            "INFO:autogluon.core.models.ensemble.bagged_ensemble_model:\tFitting 8 child models (S1F1 - S1F8) | Fitting with ParallelLocalFoldFittingStrategy\n",
            "INFO:autogluon.core.trainer.abstract_trainer:\t-43.336\t = Validation score   (-root_mean_squared_error)\n",
            "INFO:autogluon.core.trainer.abstract_trainer:\t49.68s\t = Training   runtime\n",
            "INFO:autogluon.core.trainer.abstract_trainer:\t0.46s\t = Validation runtime\n",
            "INFO:autogluon.core.trainer.abstract_trainer:Completed 1/20 k-fold bagging repeats ...\n",
            "INFO:autogluon.core.trainer.abstract_trainer:Fitting model: WeightedEnsemble_L2 ... Training model for up to 360.0s of the 186.51s of remaining time.\n",
            "INFO:autogluon.core.trainer.abstract_trainer:\t-38.2814\t = Validation score   (-root_mean_squared_error)\n",
            "INFO:autogluon.core.trainer.abstract_trainer:\t0.44s\t = Training   runtime\n",
            "INFO:autogluon.core.trainer.abstract_trainer:\t0.0s\t = Validation runtime\n",
            "INFO:autogluon.core.trainer.abstract_trainer:Fitting 9 L2 models ...\n",
            "INFO:autogluon.core.trainer.abstract_trainer:Fitting model: LightGBMXT_BAG_L2 ... Training model for up to 186.03s of the 186.01s of remaining time.\n",
            "INFO:autogluon.core.models.ensemble.bagged_ensemble_model:\tFitting 8 child models (S1F1 - S1F8) | Fitting with ParallelLocalFoldFittingStrategy\n",
            "INFO:autogluon.core.trainer.abstract_trainer:\t-39.3556\t = Validation score   (-root_mean_squared_error)\n",
            "INFO:autogluon.core.trainer.abstract_trainer:\t21.93s\t = Training   runtime\n",
            "INFO:autogluon.core.trainer.abstract_trainer:\t0.28s\t = Validation runtime\n",
            "INFO:autogluon.core.trainer.abstract_trainer:Fitting model: LightGBM_BAG_L2 ... Training model for up to 160.11s of the 160.09s of remaining time.\n",
            "INFO:autogluon.core.models.ensemble.bagged_ensemble_model:\tFitting 8 child models (S1F1 - S1F8) | Fitting with ParallelLocalFoldFittingStrategy\n",
            "INFO:autogluon.core.trainer.abstract_trainer:\t-39.2043\t = Validation score   (-root_mean_squared_error)\n",
            "INFO:autogluon.core.trainer.abstract_trainer:\t21.32s\t = Training   runtime\n",
            "INFO:autogluon.core.trainer.abstract_trainer:\t0.15s\t = Validation runtime\n",
            "INFO:autogluon.core.trainer.abstract_trainer:Fitting model: RandomForestMSE_BAG_L2 ... Training model for up to 133.76s of the 133.73s of remaining time.\n",
            "INFO:autogluon.core.trainer.abstract_trainer:\t-39.4522\t = Validation score   (-root_mean_squared_error)\n",
            "INFO:autogluon.core.trainer.abstract_trainer:\t31.21s\t = Training   runtime\n",
            "INFO:autogluon.core.trainer.abstract_trainer:\t0.76s\t = Validation runtime\n",
            "INFO:autogluon.core.trainer.abstract_trainer:Fitting model: CatBoost_BAG_L2 ... Training model for up to 100.99s of the 100.97s of remaining time.\n",
            "INFO:autogluon.core.models.ensemble.bagged_ensemble_model:\tFitting 8 child models (S1F1 - S1F8) | Fitting with ParallelLocalFoldFittingStrategy\n",
            "INFO:autogluon.core.trainer.abstract_trainer:\t-38.6601\t = Validation score   (-root_mean_squared_error)\n",
            "INFO:autogluon.core.trainer.abstract_trainer:\t62.89s\t = Training   runtime\n",
            "INFO:autogluon.core.trainer.abstract_trainer:\t0.12s\t = Validation runtime\n",
            "INFO:autogluon.core.trainer.abstract_trainer:Fitting model: ExtraTreesMSE_BAG_L2 ... Training model for up to 34.87s of the 34.85s of remaining time.\n",
            "INFO:autogluon.core.trainer.abstract_trainer:\t-38.5301\t = Validation score   (-root_mean_squared_error)\n",
            "INFO:autogluon.core.trainer.abstract_trainer:\t8.96s\t = Training   runtime\n",
            "INFO:autogluon.core.trainer.abstract_trainer:\t0.72s\t = Validation runtime\n",
            "INFO:autogluon.core.trainer.abstract_trainer:Fitting model: NeuralNetFastAI_BAG_L2 ... Training model for up to 24.45s of the 24.44s of remaining time.\n",
            "INFO:autogluon.core.models.ensemble.bagged_ensemble_model:\tFitting 8 child models (S1F1 - S1F8) | Fitting with ParallelLocalFoldFittingStrategy\n",
            "INFO:autogluon.core.trainer.abstract_trainer:\t-38.9575\t = Validation score   (-root_mean_squared_error)\n",
            "INFO:autogluon.core.trainer.abstract_trainer:\t40.18s\t = Training   runtime\n",
            "INFO:autogluon.core.trainer.abstract_trainer:\t0.5s\t = Validation runtime\n",
            "INFO:autogluon.core.trainer.abstract_trainer:Completed 1/20 k-fold bagging repeats ...\n",
            "INFO:autogluon.core.trainer.abstract_trainer:Fitting model: WeightedEnsemble_L3 ... Training model for up to 360.0s of the -19.04s of remaining time.\n",
            "INFO:autogluon.core.trainer.abstract_trainer:\t-38.2443\t = Validation score   (-root_mean_squared_error)\n",
            "INFO:autogluon.core.trainer.abstract_trainer:\t0.34s\t = Training   runtime\n",
            "INFO:autogluon.core.trainer.abstract_trainer:\t0.0s\t = Validation runtime\n",
            "INFO:autogluon.tabular.learner.default_learner:AutoGluon training complete, total runtime = 619.42s ... Best model: \"WeightedEnsemble_L3\"\n",
            "INFO:autogluon.tabular.predictor.predictor:TabularPredictor saved. To load, use: predictor = TabularPredictor.load(\"AutogluonModels/ag-20220823_123411/\")\n"
          ]
        }
      ],
      "source": [
        "predictor_new_features = TabularPredictor(label='count', eval_metric='root_mean_squared_error').fit(\n",
        "    train, presets='best_quality', time_limit=600)"
      ]
    },
    {
      "cell_type": "code",
      "execution_count": 78,
      "metadata": {
        "id": "26wO8mLwsZL6",
        "colab": {
          "base_uri": "https://localhost:8080/"
        },
        "outputId": "94a25f56-e7ed-479f-bb13-a8e3c43ca265"
      },
      "outputs": [
        {
          "output_type": "stream",
          "name": "stdout",
          "text": [
            "*** Summary of fit() ***\n",
            "Estimated performance of each model:\n",
            "                     model   score_val  pred_time_val    fit_time  pred_time_val_marginal  fit_time_marginal  stack_level  can_infer  fit_order\n",
            "0      WeightedEnsemble_L3  -38.244314       8.277411  508.175276                0.000887           0.340366            3       True         16\n",
            "1      WeightedEnsemble_L2  -38.281406       6.727602  396.168288                0.000853           0.441779            2       True          9\n",
            "2     ExtraTreesMSE_BAG_L2  -38.530059       7.656073  404.767686                0.718210           8.961002            2       True         14\n",
            "3          CatBoost_BAG_L2  -38.660081       7.062793  458.698672                0.124930          62.891988            2       True         13\n",
            "4   NeuralNetFastAI_BAG_L2  -38.957476       7.433383  435.981920                0.495520          40.175236            2       True         15\n",
            "5          LightGBM_BAG_L2  -39.204305       7.086102  417.124938                0.148239          21.318254            2       True         11\n",
            "6        LightGBMXT_BAG_L2  -39.355636       7.214040  417.737100                0.276176          21.930416            2       True         10\n",
            "7   RandomForestMSE_BAG_L2  -39.452174       7.698208  427.019377                0.760345          31.212693            2       True         12\n",
            "8        LightGBMXT_BAG_L1  -39.452460       3.040306   36.795026                3.040306          36.795026            1       True          3\n",
            "9          LightGBM_BAG_L1  -39.943883       1.500784   26.687087                1.500784          26.687087            1       True          4\n",
            "10         CatBoost_BAG_L1  -40.823717       0.412921  265.764294                0.412921         265.764294            1       True          6\n",
            "11    ExtraTreesMSE_BAG_L1  -41.738999       0.655992    5.965976                0.655992           5.965976            1       True          7\n",
            "12  RandomForestMSE_BAG_L1  -42.166645       0.660211   10.835980                0.660211          10.835980            1       True          5\n",
            "13  NeuralNetFastAI_BAG_L1  -43.336033       0.456537   49.678146                0.456537          49.678146            1       True          8\n",
            "14   KNeighborsUnif_BAG_L1 -154.031089       0.104389    0.051816                0.104389           0.051816            1       True          1\n",
            "15   KNeighborsDist_BAG_L1 -154.183366       0.106724    0.028359                0.106724           0.028359            1       True          2\n",
            "Number of models trained: 16\n",
            "Types of models trained:\n",
            "{'WeightedEnsembleModel', 'StackerEnsembleModel_RF', 'StackerEnsembleModel_XT', 'StackerEnsembleModel_CatBoost', 'StackerEnsembleModel_KNN', 'StackerEnsembleModel_NNFastAiTabular', 'StackerEnsembleModel_LGB'}\n",
            "Bagging used: True  (with 8 folds)\n",
            "Multi-layer stack-ensembling used: True  (with 3 levels)\n",
            "Feature Metadata (Processed):\n",
            "(raw dtype, special dtypes):\n",
            "('category', [])  : 3 | ['season', 'weather', 'time']\n",
            "('float', [])     : 3 | ['temp', 'atemp', 'windspeed']\n",
            "('int', [])       : 3 | ['humidity', 'month', 'day']\n",
            "('int', ['bool']) : 3 | ['holiday', 'workingday', 'year']\n",
            "Plot summary of models saved to file: AutogluonModels/ag-20220823_123411/SummaryOfModels.html\n",
            "*** End of fit() summary ***\n"
          ]
        },
        {
          "output_type": "execute_result",
          "data": {
            "text/plain": [
              "{'model_types': {'KNeighborsUnif_BAG_L1': 'StackerEnsembleModel_KNN',\n",
              "  'KNeighborsDist_BAG_L1': 'StackerEnsembleModel_KNN',\n",
              "  'LightGBMXT_BAG_L1': 'StackerEnsembleModel_LGB',\n",
              "  'LightGBM_BAG_L1': 'StackerEnsembleModel_LGB',\n",
              "  'RandomForestMSE_BAG_L1': 'StackerEnsembleModel_RF',\n",
              "  'CatBoost_BAG_L1': 'StackerEnsembleModel_CatBoost',\n",
              "  'ExtraTreesMSE_BAG_L1': 'StackerEnsembleModel_XT',\n",
              "  'NeuralNetFastAI_BAG_L1': 'StackerEnsembleModel_NNFastAiTabular',\n",
              "  'WeightedEnsemble_L2': 'WeightedEnsembleModel',\n",
              "  'LightGBMXT_BAG_L2': 'StackerEnsembleModel_LGB',\n",
              "  'LightGBM_BAG_L2': 'StackerEnsembleModel_LGB',\n",
              "  'RandomForestMSE_BAG_L2': 'StackerEnsembleModel_RF',\n",
              "  'CatBoost_BAG_L2': 'StackerEnsembleModel_CatBoost',\n",
              "  'ExtraTreesMSE_BAG_L2': 'StackerEnsembleModel_XT',\n",
              "  'NeuralNetFastAI_BAG_L2': 'StackerEnsembleModel_NNFastAiTabular',\n",
              "  'WeightedEnsemble_L3': 'WeightedEnsembleModel'},\n",
              " 'model_performance': {'KNeighborsUnif_BAG_L1': -154.03108914279713,\n",
              "  'KNeighborsDist_BAG_L1': -154.18336588381544,\n",
              "  'LightGBMXT_BAG_L1': -39.4524595802218,\n",
              "  'LightGBM_BAG_L1': -39.94388307670509,\n",
              "  'RandomForestMSE_BAG_L1': -42.16664469717835,\n",
              "  'CatBoost_BAG_L1': -40.823717346557274,\n",
              "  'ExtraTreesMSE_BAG_L1': -41.73899938720713,\n",
              "  'NeuralNetFastAI_BAG_L1': -43.336032692670834,\n",
              "  'WeightedEnsemble_L2': -38.28140640900179,\n",
              "  'LightGBMXT_BAG_L2': -39.35563610367465,\n",
              "  'LightGBM_BAG_L2': -39.20430546887005,\n",
              "  'RandomForestMSE_BAG_L2': -39.45217397461466,\n",
              "  'CatBoost_BAG_L2': -38.66008138449213,\n",
              "  'ExtraTreesMSE_BAG_L2': -38.53005910155611,\n",
              "  'NeuralNetFastAI_BAG_L2': -38.95747606351609,\n",
              "  'WeightedEnsemble_L3': -38.24431394085401},\n",
              " 'model_best': 'WeightedEnsemble_L3',\n",
              " 'model_paths': {'KNeighborsUnif_BAG_L1': 'AutogluonModels/ag-20220823_123411/models/KNeighborsUnif_BAG_L1/',\n",
              "  'KNeighborsDist_BAG_L1': 'AutogluonModels/ag-20220823_123411/models/KNeighborsDist_BAG_L1/',\n",
              "  'LightGBMXT_BAG_L1': 'AutogluonModels/ag-20220823_123411/models/LightGBMXT_BAG_L1/',\n",
              "  'LightGBM_BAG_L1': 'AutogluonModels/ag-20220823_123411/models/LightGBM_BAG_L1/',\n",
              "  'RandomForestMSE_BAG_L1': 'AutogluonModels/ag-20220823_123411/models/RandomForestMSE_BAG_L1/',\n",
              "  'CatBoost_BAG_L1': 'AutogluonModels/ag-20220823_123411/models/CatBoost_BAG_L1/',\n",
              "  'ExtraTreesMSE_BAG_L1': 'AutogluonModels/ag-20220823_123411/models/ExtraTreesMSE_BAG_L1/',\n",
              "  'NeuralNetFastAI_BAG_L1': 'AutogluonModels/ag-20220823_123411/models/NeuralNetFastAI_BAG_L1/',\n",
              "  'WeightedEnsemble_L2': 'AutogluonModels/ag-20220823_123411/models/WeightedEnsemble_L2/',\n",
              "  'LightGBMXT_BAG_L2': 'AutogluonModels/ag-20220823_123411/models/LightGBMXT_BAG_L2/',\n",
              "  'LightGBM_BAG_L2': 'AutogluonModels/ag-20220823_123411/models/LightGBM_BAG_L2/',\n",
              "  'RandomForestMSE_BAG_L2': 'AutogluonModels/ag-20220823_123411/models/RandomForestMSE_BAG_L2/',\n",
              "  'CatBoost_BAG_L2': 'AutogluonModels/ag-20220823_123411/models/CatBoost_BAG_L2/',\n",
              "  'ExtraTreesMSE_BAG_L2': 'AutogluonModels/ag-20220823_123411/models/ExtraTreesMSE_BAG_L2/',\n",
              "  'NeuralNetFastAI_BAG_L2': 'AutogluonModels/ag-20220823_123411/models/NeuralNetFastAI_BAG_L2/',\n",
              "  'WeightedEnsemble_L3': 'AutogluonModels/ag-20220823_123411/models/WeightedEnsemble_L3/'},\n",
              " 'model_fit_times': {'KNeighborsUnif_BAG_L1': 0.05181550979614258,\n",
              "  'KNeighborsDist_BAG_L1': 0.028359413146972656,\n",
              "  'LightGBMXT_BAG_L1': 36.79502606391907,\n",
              "  'LightGBM_BAG_L1': 26.687086582183838,\n",
              "  'RandomForestMSE_BAG_L1': 10.83598017692566,\n",
              "  'CatBoost_BAG_L1': 265.76429438591003,\n",
              "  'ExtraTreesMSE_BAG_L1': 5.965975999832153,\n",
              "  'NeuralNetFastAI_BAG_L1': 49.67814564704895,\n",
              "  'WeightedEnsemble_L2': 0.44177889823913574,\n",
              "  'LightGBMXT_BAG_L2': 21.930416107177734,\n",
              "  'LightGBM_BAG_L2': 21.318254232406616,\n",
              "  'RandomForestMSE_BAG_L2': 31.212692975997925,\n",
              "  'CatBoost_BAG_L2': 62.891988039016724,\n",
              "  'ExtraTreesMSE_BAG_L2': 8.961002111434937,\n",
              "  'NeuralNetFastAI_BAG_L2': 40.17523646354675,\n",
              "  'WeightedEnsemble_L3': 0.3403656482696533},\n",
              " 'model_pred_times': {'KNeighborsUnif_BAG_L1': 0.10438942909240723,\n",
              "  'KNeighborsDist_BAG_L1': 0.10672402381896973,\n",
              "  'LightGBMXT_BAG_L1': 3.0403056144714355,\n",
              "  'LightGBM_BAG_L1': 1.5007836818695068,\n",
              "  'RandomForestMSE_BAG_L1': 0.6602110862731934,\n",
              "  'CatBoost_BAG_L1': 0.4129209518432617,\n",
              "  'ExtraTreesMSE_BAG_L1': 0.6559915542602539,\n",
              "  'NeuralNetFastAI_BAG_L1': 0.45653676986694336,\n",
              "  'WeightedEnsemble_L2': 0.0008525848388671875,\n",
              "  'LightGBMXT_BAG_L2': 0.27617645263671875,\n",
              "  'LightGBM_BAG_L2': 0.1482393741607666,\n",
              "  'RandomForestMSE_BAG_L2': 0.7603447437286377,\n",
              "  'CatBoost_BAG_L2': 0.12493038177490234,\n",
              "  'ExtraTreesMSE_BAG_L2': 0.7182097434997559,\n",
              "  'NeuralNetFastAI_BAG_L2': 0.49552011489868164,\n",
              "  'WeightedEnsemble_L3': 0.0008873939514160156},\n",
              " 'num_bag_folds': 8,\n",
              " 'max_stack_level': 3,\n",
              " 'model_hyperparams': {'KNeighborsUnif_BAG_L1': {'use_orig_features': True,\n",
              "   'max_base_models': 25,\n",
              "   'max_base_models_per_type': 5,\n",
              "   'save_bag_folds': True,\n",
              "   'use_child_oof': True},\n",
              "  'KNeighborsDist_BAG_L1': {'use_orig_features': True,\n",
              "   'max_base_models': 25,\n",
              "   'max_base_models_per_type': 5,\n",
              "   'save_bag_folds': True,\n",
              "   'use_child_oof': True},\n",
              "  'LightGBMXT_BAG_L1': {'use_orig_features': True,\n",
              "   'max_base_models': 25,\n",
              "   'max_base_models_per_type': 5,\n",
              "   'save_bag_folds': True},\n",
              "  'LightGBM_BAG_L1': {'use_orig_features': True,\n",
              "   'max_base_models': 25,\n",
              "   'max_base_models_per_type': 5,\n",
              "   'save_bag_folds': True},\n",
              "  'RandomForestMSE_BAG_L1': {'use_orig_features': True,\n",
              "   'max_base_models': 25,\n",
              "   'max_base_models_per_type': 5,\n",
              "   'save_bag_folds': True,\n",
              "   'use_child_oof': True},\n",
              "  'CatBoost_BAG_L1': {'use_orig_features': True,\n",
              "   'max_base_models': 25,\n",
              "   'max_base_models_per_type': 5,\n",
              "   'save_bag_folds': True},\n",
              "  'ExtraTreesMSE_BAG_L1': {'use_orig_features': True,\n",
              "   'max_base_models': 25,\n",
              "   'max_base_models_per_type': 5,\n",
              "   'save_bag_folds': True,\n",
              "   'use_child_oof': True},\n",
              "  'NeuralNetFastAI_BAG_L1': {'use_orig_features': True,\n",
              "   'max_base_models': 25,\n",
              "   'max_base_models_per_type': 5,\n",
              "   'save_bag_folds': True},\n",
              "  'WeightedEnsemble_L2': {'use_orig_features': False,\n",
              "   'max_base_models': 25,\n",
              "   'max_base_models_per_type': 5,\n",
              "   'save_bag_folds': True},\n",
              "  'LightGBMXT_BAG_L2': {'use_orig_features': True,\n",
              "   'max_base_models': 25,\n",
              "   'max_base_models_per_type': 5,\n",
              "   'save_bag_folds': True},\n",
              "  'LightGBM_BAG_L2': {'use_orig_features': True,\n",
              "   'max_base_models': 25,\n",
              "   'max_base_models_per_type': 5,\n",
              "   'save_bag_folds': True},\n",
              "  'RandomForestMSE_BAG_L2': {'use_orig_features': True,\n",
              "   'max_base_models': 25,\n",
              "   'max_base_models_per_type': 5,\n",
              "   'save_bag_folds': True,\n",
              "   'use_child_oof': True},\n",
              "  'CatBoost_BAG_L2': {'use_orig_features': True,\n",
              "   'max_base_models': 25,\n",
              "   'max_base_models_per_type': 5,\n",
              "   'save_bag_folds': True},\n",
              "  'ExtraTreesMSE_BAG_L2': {'use_orig_features': True,\n",
              "   'max_base_models': 25,\n",
              "   'max_base_models_per_type': 5,\n",
              "   'save_bag_folds': True,\n",
              "   'use_child_oof': True},\n",
              "  'NeuralNetFastAI_BAG_L2': {'use_orig_features': True,\n",
              "   'max_base_models': 25,\n",
              "   'max_base_models_per_type': 5,\n",
              "   'save_bag_folds': True},\n",
              "  'WeightedEnsemble_L3': {'use_orig_features': False,\n",
              "   'max_base_models': 25,\n",
              "   'max_base_models_per_type': 5,\n",
              "   'save_bag_folds': True}},\n",
              " 'leaderboard':                      model   score_val  pred_time_val    fit_time  \\\n",
              " 0      WeightedEnsemble_L3  -38.244314       8.277411  508.175276   \n",
              " 1      WeightedEnsemble_L2  -38.281406       6.727602  396.168288   \n",
              " 2     ExtraTreesMSE_BAG_L2  -38.530059       7.656073  404.767686   \n",
              " 3          CatBoost_BAG_L2  -38.660081       7.062793  458.698672   \n",
              " 4   NeuralNetFastAI_BAG_L2  -38.957476       7.433383  435.981920   \n",
              " 5          LightGBM_BAG_L2  -39.204305       7.086102  417.124938   \n",
              " 6        LightGBMXT_BAG_L2  -39.355636       7.214040  417.737100   \n",
              " 7   RandomForestMSE_BAG_L2  -39.452174       7.698208  427.019377   \n",
              " 8        LightGBMXT_BAG_L1  -39.452460       3.040306   36.795026   \n",
              " 9          LightGBM_BAG_L1  -39.943883       1.500784   26.687087   \n",
              " 10         CatBoost_BAG_L1  -40.823717       0.412921  265.764294   \n",
              " 11    ExtraTreesMSE_BAG_L1  -41.738999       0.655992    5.965976   \n",
              " 12  RandomForestMSE_BAG_L1  -42.166645       0.660211   10.835980   \n",
              " 13  NeuralNetFastAI_BAG_L1  -43.336033       0.456537   49.678146   \n",
              " 14   KNeighborsUnif_BAG_L1 -154.031089       0.104389    0.051816   \n",
              " 15   KNeighborsDist_BAG_L1 -154.183366       0.106724    0.028359   \n",
              " \n",
              "     pred_time_val_marginal  fit_time_marginal  stack_level  can_infer  \\\n",
              " 0                 0.000887           0.340366            3       True   \n",
              " 1                 0.000853           0.441779            2       True   \n",
              " 2                 0.718210           8.961002            2       True   \n",
              " 3                 0.124930          62.891988            2       True   \n",
              " 4                 0.495520          40.175236            2       True   \n",
              " 5                 0.148239          21.318254            2       True   \n",
              " 6                 0.276176          21.930416            2       True   \n",
              " 7                 0.760345          31.212693            2       True   \n",
              " 8                 3.040306          36.795026            1       True   \n",
              " 9                 1.500784          26.687087            1       True   \n",
              " 10                0.412921         265.764294            1       True   \n",
              " 11                0.655992           5.965976            1       True   \n",
              " 12                0.660211          10.835980            1       True   \n",
              " 13                0.456537          49.678146            1       True   \n",
              " 14                0.104389           0.051816            1       True   \n",
              " 15                0.106724           0.028359            1       True   \n",
              " \n",
              "     fit_order  \n",
              " 0          16  \n",
              " 1           9  \n",
              " 2          14  \n",
              " 3          13  \n",
              " 4          15  \n",
              " 5          11  \n",
              " 6          10  \n",
              " 7          12  \n",
              " 8           3  \n",
              " 9           4  \n",
              " 10          6  \n",
              " 11          7  \n",
              " 12          5  \n",
              " 13          8  \n",
              " 14          1  \n",
              " 15          2  }"
            ]
          },
          "metadata": {},
          "execution_count": 78
        }
      ],
      "source": [
        "predictor_new_features.fit_summary()"
      ]
    },
    {
      "cell_type": "code",
      "execution_count": null,
      "metadata": {
        "id": "A8k5exFfsZL6"
      },
      "outputs": [],
      "source": [
        "# Remember to set all negative values to zero\n",
        "predictions2=predictor_new_features.predict(test)\n"
      ]
    },
    {
      "cell_type": "code",
      "source": [
        "num = predictions2._get_numeric_data()\n",
        "\n",
        "num[num < 0] = 0"
      ],
      "metadata": {
        "id": "K-CX4F0IwNjV"
      },
      "execution_count": 53,
      "outputs": []
    },
    {
      "cell_type": "code",
      "source": [
        "predictions2.head()"
      ],
      "metadata": {
        "colab": {
          "base_uri": "https://localhost:8080/"
        },
        "id": "lo0wOFqSxJS2",
        "outputId": "f0e420be-eb3a-47c9-a79a-7774e00367b1"
      },
      "execution_count": 56,
      "outputs": [
        {
          "output_type": "execute_result",
          "data": {
            "text/plain": [
              "0    14.033154\n",
              "1     4.659222\n",
              "2     3.539883\n",
              "3     3.559190\n",
              "4     3.009579\n",
              "Name: count, dtype: float32"
            ]
          },
          "metadata": {},
          "execution_count": 56
        }
      ]
    },
    {
      "cell_type": "code",
      "source": [
        "predictions2.describe()"
      ],
      "metadata": {
        "colab": {
          "base_uri": "https://localhost:8080/"
        },
        "id": "I_EQZm_vviZK",
        "outputId": "9b60b138-82cb-4428-dd13-e20279d190a9"
      },
      "execution_count": 54,
      "outputs": [
        {
          "output_type": "execute_result",
          "data": {
            "text/plain": [
              "count    6493.000000\n",
              "mean      188.487717\n",
              "std       172.267151\n",
              "min         0.000000\n",
              "25%        45.204777\n",
              "50%       146.300079\n",
              "75%       280.765686\n",
              "max       882.096863\n",
              "Name: count, dtype: float64"
            ]
          },
          "metadata": {},
          "execution_count": 54
        }
      ]
    },
    {
      "cell_type": "code",
      "execution_count": null,
      "metadata": {
        "id": "Nx5pKWtusZL6"
      },
      "outputs": [],
      "source": [
        "# Same submitting predictions\n",
        "submission_new_features = pd.read_csv('/content/sampleSubmission.csv')\n",
        "submission_new_features['datetime']=pd.to_datetime(submission_new_features.loc[:, \"datetime\"])\n"
      ]
    },
    {
      "cell_type": "code",
      "source": [
        "submission_new_features[\"count\"] = predictions2\n",
        "submission_new_features.to_csv(\"submission_new_features.csv\", index=False)"
      ],
      "metadata": {
        "id": "t-x56I1GxOIO"
      },
      "execution_count": 57,
      "outputs": []
    },
    {
      "cell_type": "code",
      "execution_count": 58,
      "metadata": {
        "id": "5PmMNItcsZL6",
        "colab": {
          "base_uri": "https://localhost:8080/"
        },
        "outputId": "ea5bcb69-7928-47f4-84cb-24ccdb6b5a10"
      },
      "outputs": [
        {
          "output_type": "stream",
          "name": "stdout",
          "text": [
            "100% 188k/188k [00:00<00:00, 304kB/s]\n",
            "Successfully submitted to Bike Sharing Demand"
          ]
        }
      ],
      "source": [
        "!kaggle competitions submit -c bike-sharing-demand -f submission_new_features.csv -m \"new features\""
      ]
    },
    {
      "cell_type": "code",
      "execution_count": 100,
      "metadata": {
        "id": "D0q01l8KsZL7",
        "colab": {
          "base_uri": "https://localhost:8080/"
        },
        "outputId": "389c8ea6-12f9-4700-c946-5de7467793c5"
      },
      "outputs": [
        {
          "output_type": "stream",
          "name": "stdout",
          "text": [
            "fileName                     date                 description                          status    publicScore  privateScore  \n",
            "---------------------------  -------------------  -----------------------------------  --------  -----------  ------------  \n",
            "submission.csv               2022-08-23 15:44:47  submission highquality               complete  0.51568      0.51568       \n",
            "submission_new_hpo.csv       2022-08-23 15:18:54  new features with hyperparameters 2  complete  0.72254      0.72254       \n",
            "submission_new_hpo.csv       2022-08-23 14:19:29  new features with hyperparameters    complete  0.53131      0.53131       \n",
            "submission_new_features.csv  2022-08-23 12:54:52  new features                         complete  0.44182      0.44182       \n"
          ]
        }
      ],
      "source": [
        "!kaggle competitions submissions -c bike-sharing-demand | tail -n +1 | head -n 6"
      ]
    },
    {
      "cell_type": "markdown",
      "metadata": {
        "id": "2NiAv-uTsZL7"
      },
      "source": [
        "#### New Score of `0.44182 `"
      ]
    },
    {
      "cell_type": "markdown",
      "metadata": {
        "id": "-C0VJ_W1sZL7"
      },
      "source": [
        "## Step 6: Hyper parameter optimization\n",
        "* There are many options for hyper parameter optimization.\n",
        "* Options are to change the AutoGluon higher level parameters or the individual model hyperparameters.\n",
        "* The hyperparameters of the models themselves that are in AutoGluon. Those need the `hyperparameter` and `hyperparameter_tune_kwargs` arguments."
      ]
    },
    {
      "cell_type": "code",
      "source": [
        "hyperparameters={'model': 'GBM', 'batch_size': 16, 'lr': 0.001, 'epochs': 10}"
      ],
      "metadata": {
        "id": "Wv0MlphJ1K2M"
      },
      "execution_count": 65,
      "outputs": []
    },
    {
      "cell_type": "code",
      "source": [
        "predictor_hpo = TabularPredictor(label='count', eval_metric='root_mean_squared_error').fit(\n",
        "    train, presets='best_quality', time_limit=600, hyperparameters = {'NN_TORCH': {'num_epochs': 2}, 'GBM': {'num_boost_round': 20}})\n"
      ],
      "metadata": {
        "colab": {
          "base_uri": "https://localhost:8080/"
        },
        "id": "Zo1Kk9aFOMJb",
        "outputId": "05a3afd0-1d20-4260-a301-5cd8fbedf6f7"
      },
      "execution_count": 82,
      "outputs": [
        {
          "output_type": "stream",
          "name": "stderr",
          "text": [
            "Level 25:autogluon.common.utils.utils:No path specified. Models will be saved in: \"AutogluonModels/ag-20220823_150146/\"\n",
            "INFO:autogluon.tabular.predictor.predictor:Presets specified: ['best_quality']\n",
            "INFO:autogluon.tabular.predictor.predictor:Stack configuration (auto_stack=True): num_stack_levels=1, num_bag_folds=8, num_bag_sets=20\n",
            "INFO:autogluon.tabular.learner.default_learner:Beginning AutoGluon training ... Time limit = 600s\n",
            "INFO:autogluon.tabular.learner.default_learner:AutoGluon will save models to \"AutogluonModels/ag-20220823_150146/\"\n",
            "INFO:autogluon.tabular.learner.default_learner:AutoGluon Version:  0.5.2\n",
            "INFO:autogluon.tabular.learner.default_learner:Python Version:     3.7.13\n",
            "INFO:autogluon.tabular.learner.default_learner:Operating System:   Linux\n",
            "INFO:autogluon.tabular.learner.default_learner:Train Data Rows:    10886\n",
            "INFO:autogluon.tabular.learner.default_learner:Train Data Columns: 12\n",
            "INFO:autogluon.tabular.learner.default_learner:Label Column: count\n",
            "INFO:autogluon.tabular.learner.default_learner:Preprocessing data ...\n",
            "Level 25:autogluon.core.utils.utils:AutoGluon infers your prediction problem is: 'regression' (because dtype of label-column == int and many unique label-values observed).\n",
            "INFO:autogluon.core.utils.utils:\tLabel info (max, min, mean, stddev): (977, 1, 191.57413, 181.14445)\n",
            "Level 25:autogluon.core.utils.utils:\tIf 'regression' is not the correct problem_type, please manually specify the problem_type parameter during predictor init (You may specify problem_type as one of: ['binary', 'multiclass', 'regression'])\n",
            "INFO:autogluon.tabular.learner.default_learner:Using Feature Generators to preprocess the data ...\n",
            "INFO:autogluon.features.generators.abstract:Fitting AutoMLPipelineFeatureGenerator...\n",
            "INFO:autogluon.features.generators.abstract:\tAvailable Memory:                    11672.22 MB\n",
            "INFO:autogluon.features.generators.abstract:\tTrain Data (Original)  Memory Usage: 1.33 MB (0.0% of available memory)\n",
            "INFO:autogluon.features.generators.abstract:\tInferring data type of each feature based on column values. Set feature_metadata_in to manually specify special dtypes of the features.\n",
            "INFO:autogluon.features.generators.abstract:\tStage 1 Generators:\n",
            "INFO:autogluon.features.generators.abstract:\t\tFitting AsTypeFeatureGenerator...\n",
            "INFO:autogluon.features.generators.abstract:\t\t\tNote: Converting 3 features to boolean dtype as they only contain 2 unique values.\n",
            "INFO:autogluon.features.generators.abstract:\tStage 2 Generators:\n",
            "INFO:autogluon.features.generators.abstract:\t\tFitting FillNaFeatureGenerator...\n",
            "INFO:autogluon.features.generators.abstract:\tStage 3 Generators:\n",
            "INFO:autogluon.features.generators.abstract:\t\tFitting IdentityFeatureGenerator...\n",
            "INFO:autogluon.features.generators.abstract:\t\tFitting CategoryFeatureGenerator...\n",
            "INFO:autogluon.features.generators.abstract:\t\t\tFitting CategoryMemoryMinimizeFeatureGenerator...\n",
            "INFO:autogluon.features.generators.abstract:\tStage 4 Generators:\n",
            "INFO:autogluon.features.generators.abstract:\t\tFitting DropUniqueFeatureGenerator...\n",
            "INFO:autogluon.features.generators.abstract:\tTypes of features in original data (raw dtype, special dtypes):\n",
            "INFO:autogluon.common.features.feature_metadata:\t\t('category', []) : 2 | ['season', 'weather']\n",
            "INFO:autogluon.common.features.feature_metadata:\t\t('float', [])    : 3 | ['temp', 'atemp', 'windspeed']\n",
            "INFO:autogluon.common.features.feature_metadata:\t\t('int', [])      : 6 | ['holiday', 'workingday', 'humidity', 'year', 'month', ...]\n",
            "INFO:autogluon.common.features.feature_metadata:\t\t('object', [])   : 1 | ['time']\n",
            "INFO:autogluon.features.generators.abstract:\tTypes of features in processed data (raw dtype, special dtypes):\n",
            "INFO:autogluon.common.features.feature_metadata:\t\t('category', [])  : 3 | ['season', 'weather', 'time']\n",
            "INFO:autogluon.common.features.feature_metadata:\t\t('float', [])     : 3 | ['temp', 'atemp', 'windspeed']\n",
            "INFO:autogluon.common.features.feature_metadata:\t\t('int', [])       : 3 | ['humidity', 'month', 'day']\n",
            "INFO:autogluon.common.features.feature_metadata:\t\t('int', ['bool']) : 3 | ['holiday', 'workingday', 'year']\n",
            "INFO:autogluon.features.generators.abstract:\t0.2s = Fit runtime\n",
            "INFO:autogluon.features.generators.abstract:\t12 features in original data used to generate 12 features in processed data.\n",
            "INFO:autogluon.features.generators.abstract:\tTrain Data (Processed) Memory Usage: 0.59 MB (0.0% of available memory)\n",
            "INFO:autogluon.tabular.learner.default_learner:Data preprocessing and feature engineering runtime = 0.28s ...\n",
            "Level 25:autogluon.core.trainer.abstract_trainer:AutoGluon will gauge predictive performance using evaluation metric: 'root_mean_squared_error'\n",
            "Level 25:autogluon.core.trainer.abstract_trainer:\tThis metric's sign has been flipped to adhere to being higher_is_better. The metric score can be multiplied by -1 to get the metric value.\n",
            "INFO:autogluon.core.trainer.abstract_trainer:\tTo change this, specify the eval_metric parameter of Predictor()\n",
            "INFO:autogluon.core.trainer.abstract_trainer:AutoGluon will fit 2 stack levels (L1 to L2) ...\n",
            "INFO:autogluon.core.trainer.abstract_trainer:Fitting 2 L1 models ...\n",
            "INFO:autogluon.core.trainer.abstract_trainer:Fitting model: LightGBM_BAG_L1 ... Training model for up to 399.71s of the 599.72s of remaining time.\n",
            "INFO:autogluon.core.models.ensemble.bagged_ensemble_model:\tFitting 8 child models (S1F1 - S1F8) | Fitting with ParallelLocalFoldFittingStrategy\n",
            "INFO:autogluon.core.trainer.abstract_trainer:\t-92.6508\t = Validation score   (-root_mean_squared_error)\n",
            "INFO:autogluon.core.trainer.abstract_trainer:\t17.38s\t = Training   runtime\n",
            "INFO:autogluon.core.trainer.abstract_trainer:\t0.1s\t = Validation runtime\n",
            "INFO:autogluon.core.trainer.abstract_trainer:Fitting model: NeuralNetTorch_BAG_L1 ... Training model for up to 378.96s of the 578.96s of remaining time.\n",
            "INFO:autogluon.core.models.ensemble.bagged_ensemble_model:\tFitting 8 child models (S1F1 - S1F8) | Fitting with ParallelLocalFoldFittingStrategy\n",
            "INFO:autogluon.core.trainer.abstract_trainer:\t-100.7449\t = Validation score   (-root_mean_squared_error)\n",
            "INFO:autogluon.core.trainer.abstract_trainer:\t26.05s\t = Training   runtime\n",
            "INFO:autogluon.core.trainer.abstract_trainer:\t0.33s\t = Validation runtime\n",
            "INFO:autogluon.core.trainer.abstract_trainer:Repeating k-fold bagging: 2/20\n",
            "INFO:autogluon.core.trainer.abstract_trainer:Fitting model: LightGBM_BAG_L1 ... Training model for up to 348.88s of the 548.88s of remaining time.\n",
            "INFO:autogluon.core.models.ensemble.bagged_ensemble_model:\tFitting 8 child models (S2F1 - S2F8) | Fitting with ParallelLocalFoldFittingStrategy\n",
            "INFO:autogluon.core.trainer.abstract_trainer:\t-92.3808\t = Validation score   (-root_mean_squared_error)\n",
            "INFO:autogluon.core.trainer.abstract_trainer:\t34.54s\t = Training   runtime\n",
            "INFO:autogluon.core.trainer.abstract_trainer:\t0.18s\t = Validation runtime\n",
            "INFO:autogluon.core.trainer.abstract_trainer:Fitting model: NeuralNetTorch_BAG_L1 ... Training model for up to 327.73s of the 527.74s of remaining time.\n",
            "INFO:autogluon.core.models.ensemble.bagged_ensemble_model:\tFitting 8 child models (S2F1 - S2F8) | Fitting with ParallelLocalFoldFittingStrategy\n",
            "INFO:autogluon.core.trainer.abstract_trainer:\t-99.2662\t = Validation score   (-root_mean_squared_error)\n",
            "INFO:autogluon.core.trainer.abstract_trainer:\t51.46s\t = Training   runtime\n",
            "INFO:autogluon.core.trainer.abstract_trainer:\t0.69s\t = Validation runtime\n",
            "INFO:autogluon.core.trainer.abstract_trainer:Repeating k-fold bagging: 3/20\n",
            "INFO:autogluon.core.trainer.abstract_trainer:Fitting model: LightGBM_BAG_L1 ... Training model for up to 298.31s of the 498.32s of remaining time.\n",
            "INFO:autogluon.core.models.ensemble.bagged_ensemble_model:\tFitting 8 child models (S3F1 - S3F8) | Fitting with ParallelLocalFoldFittingStrategy\n",
            "INFO:autogluon.core.trainer.abstract_trainer:\t-92.4292\t = Validation score   (-root_mean_squared_error)\n",
            "INFO:autogluon.core.trainer.abstract_trainer:\t51.85s\t = Training   runtime\n",
            "INFO:autogluon.core.trainer.abstract_trainer:\t0.27s\t = Validation runtime\n",
            "INFO:autogluon.core.trainer.abstract_trainer:Fitting model: NeuralNetTorch_BAG_L1 ... Training model for up to 276.79s of the 476.79s of remaining time.\n",
            "INFO:autogluon.core.models.ensemble.bagged_ensemble_model:\tFitting 8 child models (S3F1 - S3F8) | Fitting with ParallelLocalFoldFittingStrategy\n",
            "INFO:autogluon.core.trainer.abstract_trainer:\t-98.9444\t = Validation score   (-root_mean_squared_error)\n",
            "INFO:autogluon.core.trainer.abstract_trainer:\t76.69s\t = Training   runtime\n",
            "INFO:autogluon.core.trainer.abstract_trainer:\t1.12s\t = Validation runtime\n",
            "INFO:autogluon.core.trainer.abstract_trainer:Repeating k-fold bagging: 4/20\n",
            "INFO:autogluon.core.trainer.abstract_trainer:Fitting model: LightGBM_BAG_L1 ... Training model for up to 247.38s of the 447.38s of remaining time.\n",
            "INFO:autogluon.core.models.ensemble.bagged_ensemble_model:\tFitting 8 child models (S4F1 - S4F8) | Fitting with ParallelLocalFoldFittingStrategy\n",
            "INFO:autogluon.core.trainer.abstract_trainer:\t-92.3419\t = Validation score   (-root_mean_squared_error)\n",
            "INFO:autogluon.core.trainer.abstract_trainer:\t68.08s\t = Training   runtime\n",
            "INFO:autogluon.core.trainer.abstract_trainer:\t0.35s\t = Validation runtime\n",
            "INFO:autogluon.core.trainer.abstract_trainer:Fitting model: NeuralNetTorch_BAG_L1 ... Training model for up to 227.46s of the 427.46s of remaining time.\n",
            "INFO:autogluon.core.models.ensemble.bagged_ensemble_model:\tFitting 8 child models (S4F1 - S4F8) | Fitting with ParallelLocalFoldFittingStrategy\n",
            "INFO:autogluon.core.trainer.abstract_trainer:\t-98.3163\t = Validation score   (-root_mean_squared_error)\n",
            "INFO:autogluon.core.trainer.abstract_trainer:\t101.65s\t = Training   runtime\n",
            "INFO:autogluon.core.trainer.abstract_trainer:\t1.48s\t = Validation runtime\n",
            "INFO:autogluon.core.trainer.abstract_trainer:Repeating k-fold bagging: 5/20\n",
            "INFO:autogluon.core.trainer.abstract_trainer:Fitting model: LightGBM_BAG_L1 ... Training model for up to 198.64s of the 398.65s of remaining time.\n",
            "INFO:autogluon.core.models.ensemble.bagged_ensemble_model:\tFitting 8 child models (S5F1 - S5F8) | Fitting with ParallelLocalFoldFittingStrategy\n",
            "INFO:autogluon.core.trainer.abstract_trainer:\t-92.3083\t = Validation score   (-root_mean_squared_error)\n",
            "INFO:autogluon.core.trainer.abstract_trainer:\t84.81s\t = Training   runtime\n",
            "INFO:autogluon.core.trainer.abstract_trainer:\t0.44s\t = Validation runtime\n",
            "INFO:autogluon.core.trainer.abstract_trainer:Fitting model: NeuralNetTorch_BAG_L1 ... Training model for up to 178.21s of the 378.21s of remaining time.\n",
            "INFO:autogluon.core.models.ensemble.bagged_ensemble_model:\tFitting 8 child models (S5F1 - S5F8) | Fitting with ParallelLocalFoldFittingStrategy\n",
            "INFO:autogluon.core.trainer.abstract_trainer:\t-98.0272\t = Validation score   (-root_mean_squared_error)\n",
            "INFO:autogluon.core.trainer.abstract_trainer:\t126.24s\t = Training   runtime\n",
            "INFO:autogluon.core.trainer.abstract_trainer:\t1.83s\t = Validation runtime\n",
            "INFO:autogluon.core.trainer.abstract_trainer:Repeating k-fold bagging: 6/20\n",
            "INFO:autogluon.core.trainer.abstract_trainer:Fitting model: LightGBM_BAG_L1 ... Training model for up to 148.77s of the 348.77s of remaining time.\n",
            "INFO:autogluon.core.models.ensemble.bagged_ensemble_model:\tFitting 8 child models (S6F1 - S6F8) | Fitting with ParallelLocalFoldFittingStrategy\n",
            "INFO:autogluon.core.trainer.abstract_trainer:\t-92.2806\t = Validation score   (-root_mean_squared_error)\n",
            "INFO:autogluon.core.trainer.abstract_trainer:\t101.21s\t = Training   runtime\n",
            "INFO:autogluon.core.trainer.abstract_trainer:\t0.54s\t = Validation runtime\n",
            "INFO:autogluon.core.trainer.abstract_trainer:Fitting model: NeuralNetTorch_BAG_L1 ... Training model for up to 128.48s of the 328.48s of remaining time.\n",
            "INFO:autogluon.core.models.ensemble.bagged_ensemble_model:\tFitting 8 child models (S6F1 - S6F8) | Fitting with ParallelLocalFoldFittingStrategy\n",
            "INFO:autogluon.core.trainer.abstract_trainer:\t-97.8305\t = Validation score   (-root_mean_squared_error)\n",
            "INFO:autogluon.core.trainer.abstract_trainer:\t151.04s\t = Training   runtime\n",
            "INFO:autogluon.core.trainer.abstract_trainer:\t2.21s\t = Validation runtime\n",
            "INFO:autogluon.core.trainer.abstract_trainer:Repeating k-fold bagging: 7/20\n",
            "INFO:autogluon.core.trainer.abstract_trainer:Fitting model: LightGBM_BAG_L1 ... Training model for up to 99.47s of the 299.47s of remaining time.\n",
            "INFO:autogluon.core.models.ensemble.bagged_ensemble_model:\tFitting 8 child models (S7F1 - S7F8) | Fitting with ParallelLocalFoldFittingStrategy\n",
            "INFO:autogluon.core.trainer.abstract_trainer:\t-92.3059\t = Validation score   (-root_mean_squared_error)\n",
            "INFO:autogluon.core.trainer.abstract_trainer:\t117.55s\t = Training   runtime\n",
            "INFO:autogluon.core.trainer.abstract_trainer:\t0.62s\t = Validation runtime\n",
            "INFO:autogluon.core.trainer.abstract_trainer:Fitting model: NeuralNetTorch_BAG_L1 ... Training model for up to 79.07s of the 279.07s of remaining time.\n",
            "INFO:autogluon.core.models.ensemble.bagged_ensemble_model:\tFitting 8 child models (S7F1 - S7F8) | Fitting with ParallelLocalFoldFittingStrategy\n",
            "INFO:autogluon.core.trainer.abstract_trainer:\t-97.8438\t = Validation score   (-root_mean_squared_error)\n",
            "INFO:autogluon.core.trainer.abstract_trainer:\t175.72s\t = Training   runtime\n",
            "INFO:autogluon.core.trainer.abstract_trainer:\t2.58s\t = Validation runtime\n",
            "INFO:autogluon.core.trainer.abstract_trainer:Completed 7/20 k-fold bagging repeats ...\n",
            "INFO:autogluon.core.trainer.abstract_trainer:Fitting model: WeightedEnsemble_L2 ... Training model for up to 360.0s of the 250.79s of remaining time.\n",
            "INFO:autogluon.core.trainer.abstract_trainer:\t-88.4511\t = Validation score   (-root_mean_squared_error)\n",
            "INFO:autogluon.core.trainer.abstract_trainer:\t0.17s\t = Training   runtime\n",
            "INFO:autogluon.core.trainer.abstract_trainer:\t0.0s\t = Validation runtime\n",
            "INFO:autogluon.core.trainer.abstract_trainer:Fitting 2 L2 models ...\n",
            "INFO:autogluon.core.trainer.abstract_trainer:Fitting model: LightGBM_BAG_L2 ... Training model for up to 250.59s of the 250.58s of remaining time.\n",
            "INFO:autogluon.core.models.ensemble.bagged_ensemble_model:\tFitting 8 child models (S1F1 - S1F8) | Fitting with ParallelLocalFoldFittingStrategy\n",
            "INFO:autogluon.core.trainer.abstract_trainer:\t-84.3771\t = Validation score   (-root_mean_squared_error)\n",
            "INFO:autogluon.core.trainer.abstract_trainer:\t16.7s\t = Training   runtime\n",
            "INFO:autogluon.core.trainer.abstract_trainer:\t0.1s\t = Validation runtime\n",
            "INFO:autogluon.core.trainer.abstract_trainer:Fitting model: NeuralNetTorch_BAG_L2 ... Training model for up to 229.99s of the 229.98s of remaining time.\n",
            "INFO:autogluon.core.models.ensemble.bagged_ensemble_model:\tFitting 8 child models (S1F1 - S1F8) | Fitting with ParallelLocalFoldFittingStrategy\n",
            "INFO:autogluon.core.trainer.abstract_trainer:\t-68.1454\t = Validation score   (-root_mean_squared_error)\n",
            "INFO:autogluon.core.trainer.abstract_trainer:\t25.53s\t = Training   runtime\n",
            "INFO:autogluon.core.trainer.abstract_trainer:\t0.4s\t = Validation runtime\n",
            "INFO:autogluon.core.trainer.abstract_trainer:Repeating k-fold bagging: 2/20\n",
            "INFO:autogluon.core.trainer.abstract_trainer:Fitting model: LightGBM_BAG_L2 ... Training model for up to 200.67s of the 200.66s of remaining time.\n",
            "INFO:autogluon.core.models.ensemble.bagged_ensemble_model:\tFitting 8 child models (S2F1 - S2F8) | Fitting with ParallelLocalFoldFittingStrategy\n",
            "INFO:autogluon.core.trainer.abstract_trainer:\t-84.2879\t = Validation score   (-root_mean_squared_error)\n",
            "INFO:autogluon.core.trainer.abstract_trainer:\t35.48s\t = Training   runtime\n",
            "INFO:autogluon.core.trainer.abstract_trainer:\t0.22s\t = Validation runtime\n",
            "INFO:autogluon.core.trainer.abstract_trainer:Fitting model: NeuralNetTorch_BAG_L2 ... Training model for up to 177.85s of the 177.84s of remaining time.\n",
            "INFO:autogluon.core.models.ensemble.bagged_ensemble_model:\tFitting 8 child models (S2F1 - S2F8) | Fitting with ParallelLocalFoldFittingStrategy\n",
            "INFO:autogluon.core.trainer.abstract_trainer:\t-67.3761\t = Validation score   (-root_mean_squared_error)\n",
            "INFO:autogluon.core.trainer.abstract_trainer:\t50.56s\t = Training   runtime\n",
            "INFO:autogluon.core.trainer.abstract_trainer:\t0.79s\t = Validation runtime\n",
            "INFO:autogluon.core.trainer.abstract_trainer:Repeating k-fold bagging: 3/20\n",
            "INFO:autogluon.core.trainer.abstract_trainer:Fitting model: LightGBM_BAG_L2 ... Training model for up to 149.09s of the 149.08s of remaining time.\n",
            "INFO:autogluon.core.models.ensemble.bagged_ensemble_model:\tFitting 8 child models (S3F1 - S3F8) | Fitting with ParallelLocalFoldFittingStrategy\n",
            "INFO:autogluon.core.trainer.abstract_trainer:\t-84.2995\t = Validation score   (-root_mean_squared_error)\n",
            "INFO:autogluon.core.trainer.abstract_trainer:\t52.69s\t = Training   runtime\n",
            "INFO:autogluon.core.trainer.abstract_trainer:\t0.31s\t = Validation runtime\n",
            "INFO:autogluon.core.trainer.abstract_trainer:Fitting model: NeuralNetTorch_BAG_L2 ... Training model for up to 127.93s of the 127.92s of remaining time.\n",
            "INFO:autogluon.core.models.ensemble.bagged_ensemble_model:\tFitting 8 child models (S3F1 - S3F8) | Fitting with ParallelLocalFoldFittingStrategy\n",
            "INFO:autogluon.core.trainer.abstract_trainer:\t-67.1187\t = Validation score   (-root_mean_squared_error)\n",
            "INFO:autogluon.core.trainer.abstract_trainer:\t76.14s\t = Training   runtime\n",
            "INFO:autogluon.core.trainer.abstract_trainer:\t1.2s\t = Validation runtime\n",
            "INFO:autogluon.core.trainer.abstract_trainer:Repeating k-fold bagging: 4/20\n",
            "INFO:autogluon.core.trainer.abstract_trainer:Fitting model: LightGBM_BAG_L2 ... Training model for up to 98.37s of the 98.36s of remaining time.\n",
            "INFO:autogluon.core.models.ensemble.bagged_ensemble_model:\tFitting 8 child models (S4F1 - S4F8) | Fitting with ParallelLocalFoldFittingStrategy\n",
            "INFO:autogluon.core.trainer.abstract_trainer:\t-84.2878\t = Validation score   (-root_mean_squared_error)\n",
            "INFO:autogluon.core.trainer.abstract_trainer:\t69.18s\t = Training   runtime\n",
            "INFO:autogluon.core.trainer.abstract_trainer:\t0.39s\t = Validation runtime\n",
            "INFO:autogluon.core.trainer.abstract_trainer:Fitting model: NeuralNetTorch_BAG_L2 ... Training model for up to 78.14s of the 78.12s of remaining time.\n",
            "INFO:autogluon.core.models.ensemble.bagged_ensemble_model:\tFitting 8 child models (S4F1 - S4F8) | Fitting with ParallelLocalFoldFittingStrategy\n",
            "INFO:autogluon.core.trainer.abstract_trainer:\t-67.1116\t = Validation score   (-root_mean_squared_error)\n",
            "INFO:autogluon.core.trainer.abstract_trainer:\t101.1s\t = Training   runtime\n",
            "INFO:autogluon.core.trainer.abstract_trainer:\t1.59s\t = Validation runtime\n",
            "INFO:autogluon.core.trainer.abstract_trainer:Completed 4/20 k-fold bagging repeats ...\n",
            "INFO:autogluon.core.trainer.abstract_trainer:Fitting model: WeightedEnsemble_L3 ... Training model for up to 360.0s of the 49.65s of remaining time.\n",
            "INFO:autogluon.core.trainer.abstract_trainer:\t-65.8323\t = Validation score   (-root_mean_squared_error)\n",
            "INFO:autogluon.core.trainer.abstract_trainer:\t0.19s\t = Training   runtime\n",
            "INFO:autogluon.core.trainer.abstract_trainer:\t0.0s\t = Validation runtime\n",
            "INFO:autogluon.tabular.learner.default_learner:AutoGluon training complete, total runtime = 550.59s ... Best model: \"WeightedEnsemble_L3\"\n",
            "INFO:autogluon.tabular.predictor.predictor:TabularPredictor saved. To load, use: predictor = TabularPredictor.load(\"AutogluonModels/ag-20220823_150146/\")\n"
          ]
        }
      ]
    },
    {
      "cell_type": "code",
      "execution_count": null,
      "metadata": {
        "id": "i2DYyz9nsZL7"
      },
      "outputs": [],
      "source": [
        "predictor_new_hpo = TabularPredictor(label='count', eval_metric='root_mean_squared_error').fit(\n",
        "    train, presets='best_quality', time_limit=600,hyperparameters='default' , hyperparameter_tune_kwargs={'num_trials': 2})"
      ]
    },
    {
      "cell_type": "code",
      "execution_count": null,
      "metadata": {
        "id": "Ayp0KkWYsZL7"
      },
      "outputs": [],
      "source": [
        "predictor_hpo.fit_summary()"
      ]
    },
    {
      "cell_type": "code",
      "source": [
        "predictor3=predictor_hpo.predict(test)\n",
        "predictor3.describe()"
      ],
      "metadata": {
        "id": "azFf_0A4Cgus"
      },
      "execution_count": null,
      "outputs": []
    },
    {
      "cell_type": "code",
      "execution_count": 72,
      "metadata": {
        "id": "r79X160PsZL7"
      },
      "outputs": [],
      "source": [
        "# Remember to set all negative values to zero\n",
        "#num = predictor3._get_numeric_data()\n",
        "\n",
        "#num[num < 0] = 0"
      ]
    },
    {
      "cell_type": "code",
      "execution_count": 85,
      "metadata": {
        "id": "bB9TeXeusZL7"
      },
      "outputs": [],
      "source": [
        "# Same submitting predictions\n",
        "submission_new_hpo = pd.read_csv('/content/sampleSubmission.csv')\n",
        "submission_new_hpo['datetime']=pd.to_datetime(submission_new_hpo.loc[:, \"datetime\"])\n",
        "\n",
        "submission_new_hpo[\"count\"] = predictor3\n",
        "submission_new_hpo.to_csv(\"submission_new_hpo.csv\", index=False)"
      ]
    },
    {
      "cell_type": "code",
      "execution_count": 86,
      "metadata": {
        "id": "66S_QEy3sZL8",
        "colab": {
          "base_uri": "https://localhost:8080/"
        },
        "outputId": "5af7b9ec-5261-465d-b18d-d370a7ced75a"
      },
      "outputs": [
        {
          "output_type": "stream",
          "name": "stdout",
          "text": [
            "100% 188k/188k [00:00<00:00, 344kB/s]\n",
            "Successfully submitted to Bike Sharing Demand"
          ]
        }
      ],
      "source": [
        "!kaggle competitions submit -c bike-sharing-demand -f submission_new_hpo.csv -m \"new features with hyperparameters 2\""
      ]
    },
    {
      "cell_type": "code",
      "execution_count": 87,
      "metadata": {
        "id": "fM3Odxd-sZL8",
        "colab": {
          "base_uri": "https://localhost:8080/"
        },
        "outputId": "3ccdba22-da65-4811-ebe6-155dc3b19ac6"
      },
      "outputs": [
        {
          "output_type": "stream",
          "name": "stdout",
          "text": [
            "fileName                     date                 description                          status    publicScore  privateScore  \n",
            "---------------------------  -------------------  -----------------------------------  --------  -----------  ------------  \n",
            "submission_new_hpo.csv       2022-08-23 15:18:54  new features with hyperparameters 2  complete  0.72254      0.72254       \n",
            "submission_new_hpo.csv       2022-08-23 14:19:29  new features with hyperparameters    complete  0.53131      0.53131       \n",
            "submission_new_features.csv  2022-08-23 12:54:52  new features                         complete  0.44182      0.44182       \n",
            "submission.csv               2022-08-23 11:54:43  first raw submission                 complete  1.80394      1.80394       \n"
          ]
        }
      ],
      "source": [
        "!kaggle competitions submissions -c bike-sharing-demand | tail -n +1 | head -n 6"
      ]
    },
    {
      "cell_type": "markdown",
      "metadata": {
        "id": "T4r7fQJJsZL8"
      },
      "source": [
        "#### New Score of `0.72254 `"
      ]
    },
    {
      "cell_type": "markdown",
      "source": [
        "**Testing Hyperparameters**"
      ],
      "metadata": {
        "id": "j74YINBGZNFw"
      }
    },
    {
      "cell_type": "code",
      "source": [
        "redictor_new_hpo_2 = TabularPredictor(label='count', eval_metric='root_mean_squared_error').fit(\n",
        "    train, presets='best_quality', time_limit=800 ,num_bag_folds=5)"
      ],
      "metadata": {
        "colab": {
          "base_uri": "https://localhost:8080/"
        },
        "id": "Cbc36zlSZSFC",
        "outputId": "7fd57ba9-5e1e-4890-e817-76bb2d8d4e5b"
      },
      "execution_count": 107,
      "outputs": [
        {
          "output_type": "stream",
          "name": "stderr",
          "text": [
            "Level 25:autogluon.common.utils.utils:No path specified. Models will be saved in: \"AutogluonModels/ag-20220823_160530/\"\n",
            "INFO:autogluon.tabular.predictor.predictor:Presets specified: ['best_quality']\n",
            "INFO:autogluon.tabular.predictor.predictor:Stack configuration (auto_stack=True): num_stack_levels=1, num_bag_folds=5, num_bag_sets=20\n",
            "INFO:autogluon.tabular.learner.default_learner:Beginning AutoGluon training ... Time limit = 800s\n",
            "INFO:autogluon.tabular.learner.default_learner:AutoGluon will save models to \"AutogluonModels/ag-20220823_160530/\"\n",
            "INFO:autogluon.tabular.learner.default_learner:AutoGluon Version:  0.5.2\n",
            "INFO:autogluon.tabular.learner.default_learner:Python Version:     3.7.13\n",
            "INFO:autogluon.tabular.learner.default_learner:Operating System:   Linux\n",
            "INFO:autogluon.tabular.learner.default_learner:Train Data Rows:    10886\n",
            "INFO:autogluon.tabular.learner.default_learner:Train Data Columns: 12\n",
            "INFO:autogluon.tabular.learner.default_learner:Label Column: count\n",
            "INFO:autogluon.tabular.learner.default_learner:Preprocessing data ...\n",
            "Level 25:autogluon.core.utils.utils:AutoGluon infers your prediction problem is: 'regression' (because dtype of label-column == int and many unique label-values observed).\n",
            "INFO:autogluon.core.utils.utils:\tLabel info (max, min, mean, stddev): (977, 1, 191.57413, 181.14445)\n",
            "Level 25:autogluon.core.utils.utils:\tIf 'regression' is not the correct problem_type, please manually specify the problem_type parameter during predictor init (You may specify problem_type as one of: ['binary', 'multiclass', 'regression'])\n",
            "INFO:autogluon.tabular.learner.default_learner:Using Feature Generators to preprocess the data ...\n",
            "INFO:autogluon.features.generators.abstract:Fitting AutoMLPipelineFeatureGenerator...\n",
            "INFO:autogluon.features.generators.abstract:\tAvailable Memory:                    11772.9 MB\n",
            "INFO:autogluon.features.generators.abstract:\tTrain Data (Original)  Memory Usage: 1.33 MB (0.0% of available memory)\n",
            "INFO:autogluon.features.generators.abstract:\tInferring data type of each feature based on column values. Set feature_metadata_in to manually specify special dtypes of the features.\n",
            "INFO:autogluon.features.generators.abstract:\tStage 1 Generators:\n",
            "INFO:autogluon.features.generators.abstract:\t\tFitting AsTypeFeatureGenerator...\n",
            "INFO:autogluon.features.generators.abstract:\t\t\tNote: Converting 3 features to boolean dtype as they only contain 2 unique values.\n",
            "INFO:autogluon.features.generators.abstract:\tStage 2 Generators:\n",
            "INFO:autogluon.features.generators.abstract:\t\tFitting FillNaFeatureGenerator...\n",
            "INFO:autogluon.features.generators.abstract:\tStage 3 Generators:\n",
            "INFO:autogluon.features.generators.abstract:\t\tFitting IdentityFeatureGenerator...\n",
            "INFO:autogluon.features.generators.abstract:\t\tFitting CategoryFeatureGenerator...\n",
            "INFO:autogluon.features.generators.abstract:\t\t\tFitting CategoryMemoryMinimizeFeatureGenerator...\n",
            "INFO:autogluon.features.generators.abstract:\tStage 4 Generators:\n",
            "INFO:autogluon.features.generators.abstract:\t\tFitting DropUniqueFeatureGenerator...\n",
            "INFO:autogluon.features.generators.abstract:\tTypes of features in original data (raw dtype, special dtypes):\n",
            "INFO:autogluon.common.features.feature_metadata:\t\t('category', []) : 2 | ['season', 'weather']\n",
            "INFO:autogluon.common.features.feature_metadata:\t\t('float', [])    : 3 | ['temp', 'atemp', 'windspeed']\n",
            "INFO:autogluon.common.features.feature_metadata:\t\t('int', [])      : 6 | ['holiday', 'workingday', 'humidity', 'year', 'month', ...]\n",
            "INFO:autogluon.common.features.feature_metadata:\t\t('object', [])   : 1 | ['time']\n",
            "INFO:autogluon.features.generators.abstract:\tTypes of features in processed data (raw dtype, special dtypes):\n",
            "INFO:autogluon.common.features.feature_metadata:\t\t('category', [])  : 3 | ['season', 'weather', 'time']\n",
            "INFO:autogluon.common.features.feature_metadata:\t\t('float', [])     : 3 | ['temp', 'atemp', 'windspeed']\n",
            "INFO:autogluon.common.features.feature_metadata:\t\t('int', [])       : 3 | ['humidity', 'month', 'day']\n",
            "INFO:autogluon.common.features.feature_metadata:\t\t('int', ['bool']) : 3 | ['holiday', 'workingday', 'year']\n",
            "INFO:autogluon.features.generators.abstract:\t0.2s = Fit runtime\n",
            "INFO:autogluon.features.generators.abstract:\t12 features in original data used to generate 12 features in processed data.\n",
            "INFO:autogluon.features.generators.abstract:\tTrain Data (Processed) Memory Usage: 0.59 MB (0.0% of available memory)\n",
            "INFO:autogluon.tabular.learner.default_learner:Data preprocessing and feature engineering runtime = 0.26s ...\n",
            "Level 25:autogluon.core.trainer.abstract_trainer:AutoGluon will gauge predictive performance using evaluation metric: 'root_mean_squared_error'\n",
            "Level 25:autogluon.core.trainer.abstract_trainer:\tThis metric's sign has been flipped to adhere to being higher_is_better. The metric score can be multiplied by -1 to get the metric value.\n",
            "INFO:autogluon.core.trainer.abstract_trainer:\tTo change this, specify the eval_metric parameter of Predictor()\n",
            "INFO:autogluon.core.trainer.abstract_trainer:AutoGluon will fit 2 stack levels (L1 to L2) ...\n",
            "INFO:autogluon.core.trainer.abstract_trainer:Fitting 11 L1 models ...\n",
            "INFO:autogluon.core.trainer.abstract_trainer:Fitting model: KNeighborsUnif_BAG_L1 ... Training model for up to 533.02s of the 799.73s of remaining time.\n",
            "INFO:autogluon.core.trainer.abstract_trainer:\t-154.0311\t = Validation score   (-root_mean_squared_error)\n",
            "INFO:autogluon.core.trainer.abstract_trainer:\t0.04s\t = Training   runtime\n",
            "INFO:autogluon.core.trainer.abstract_trainer:\t0.21s\t = Validation runtime\n",
            "INFO:autogluon.core.trainer.abstract_trainer:Fitting model: KNeighborsDist_BAG_L1 ... Training model for up to 532.64s of the 799.34s of remaining time.\n",
            "INFO:autogluon.core.trainer.abstract_trainer:\t-154.1834\t = Validation score   (-root_mean_squared_error)\n",
            "INFO:autogluon.core.trainer.abstract_trainer:\t0.02s\t = Training   runtime\n",
            "INFO:autogluon.core.trainer.abstract_trainer:\t0.11s\t = Validation runtime\n",
            "INFO:autogluon.core.trainer.abstract_trainer:Fitting model: LightGBMXT_BAG_L1 ... Training model for up to 532.38s of the 799.08s of remaining time.\n",
            "INFO:autogluon.core.models.ensemble.bagged_ensemble_model:\tFitting 5 child models (S1F1 - S1F5) | Fitting with ParallelLocalFoldFittingStrategy\n",
            "INFO:autogluon.core.trainer.abstract_trainer:\t-39.6314\t = Validation score   (-root_mean_squared_error)\n",
            "INFO:autogluon.core.trainer.abstract_trainer:\t22.36s\t = Training   runtime\n",
            "INFO:autogluon.core.trainer.abstract_trainer:\t2.75s\t = Validation runtime\n",
            "INFO:autogluon.core.trainer.abstract_trainer:Fitting model: LightGBM_BAG_L1 ... Training model for up to 505.87s of the 772.58s of remaining time.\n",
            "INFO:autogluon.core.models.ensemble.bagged_ensemble_model:\tFitting 5 child models (S1F1 - S1F5) | Fitting with ParallelLocalFoldFittingStrategy\n",
            "INFO:autogluon.core.trainer.abstract_trainer:\t-40.1991\t = Validation score   (-root_mean_squared_error)\n",
            "INFO:autogluon.core.trainer.abstract_trainer:\t17.41s\t = Training   runtime\n",
            "INFO:autogluon.core.trainer.abstract_trainer:\t1.36s\t = Validation runtime\n",
            "INFO:autogluon.core.trainer.abstract_trainer:Fitting model: RandomForestMSE_BAG_L1 ... Training model for up to 482.94s of the 749.64s of remaining time.\n",
            "INFO:autogluon.core.trainer.abstract_trainer:\t-42.1666\t = Validation score   (-root_mean_squared_error)\n",
            "INFO:autogluon.core.trainer.abstract_trainer:\t11.77s\t = Training   runtime\n",
            "INFO:autogluon.core.trainer.abstract_trainer:\t0.67s\t = Validation runtime\n",
            "INFO:autogluon.core.trainer.abstract_trainer:Fitting model: CatBoost_BAG_L1 ... Training model for up to 469.56s of the 736.27s of remaining time.\n",
            "INFO:autogluon.core.models.ensemble.bagged_ensemble_model:\tFitting 5 child models (S1F1 - S1F5) | Fitting with ParallelLocalFoldFittingStrategy\n",
            "INFO:autogluon.core.trainer.abstract_trainer:\t-40.5012\t = Validation score   (-root_mean_squared_error)\n",
            "INFO:autogluon.core.trainer.abstract_trainer:\t384.08s\t = Training   runtime\n",
            "INFO:autogluon.core.trainer.abstract_trainer:\t0.58s\t = Validation runtime\n",
            "INFO:autogluon.core.trainer.abstract_trainer:Fitting model: ExtraTreesMSE_BAG_L1 ... Training model for up to 81.98s of the 348.69s of remaining time.\n",
            "INFO:autogluon.core.trainer.abstract_trainer:\t-41.739\t = Validation score   (-root_mean_squared_error)\n",
            "INFO:autogluon.core.trainer.abstract_trainer:\t5.95s\t = Training   runtime\n",
            "INFO:autogluon.core.trainer.abstract_trainer:\t0.66s\t = Validation runtime\n",
            "INFO:autogluon.core.trainer.abstract_trainer:Fitting model: NeuralNetFastAI_BAG_L1 ... Training model for up to 74.58s of the 341.29s of remaining time.\n",
            "INFO:autogluon.core.models.ensemble.bagged_ensemble_model:\tFitting 5 child models (S1F1 - S1F5) | Fitting with ParallelLocalFoldFittingStrategy\n",
            "INFO:autogluon.core.trainer.abstract_trainer:\t-39.9633\t = Validation score   (-root_mean_squared_error)\n",
            "INFO:autogluon.core.trainer.abstract_trainer:\t61.34s\t = Training   runtime\n",
            "INFO:autogluon.core.trainer.abstract_trainer:\t0.38s\t = Validation runtime\n",
            "INFO:autogluon.core.trainer.abstract_trainer:Fitting model: XGBoost_BAG_L1 ... Training model for up to 9.93s of the 276.64s of remaining time.\n",
            "INFO:autogluon.core.models.ensemble.bagged_ensemble_model:\tFitting 5 child models (S1F1 - S1F5) | Fitting with ParallelLocalFoldFittingStrategy\n",
            "INFO:autogluon.core.trainer.abstract_trainer:\t-45.182\t = Validation score   (-root_mean_squared_error)\n",
            "INFO:autogluon.core.trainer.abstract_trainer:\t15.89s\t = Training   runtime\n",
            "INFO:autogluon.core.trainer.abstract_trainer:\t0.4s\t = Validation runtime\n",
            "INFO:autogluon.core.trainer.abstract_trainer:Completed 1/20 k-fold bagging repeats ...\n",
            "INFO:autogluon.core.trainer.abstract_trainer:Fitting model: WeightedEnsemble_L2 ... Training model for up to 360.0s of the 257.0s of remaining time.\n",
            "INFO:autogluon.core.trainer.abstract_trainer:\t-37.9486\t = Validation score   (-root_mean_squared_error)\n",
            "INFO:autogluon.core.trainer.abstract_trainer:\t0.51s\t = Training   runtime\n",
            "INFO:autogluon.core.trainer.abstract_trainer:\t0.0s\t = Validation runtime\n",
            "INFO:autogluon.core.trainer.abstract_trainer:Fitting 9 L2 models ...\n",
            "INFO:autogluon.core.trainer.abstract_trainer:Fitting model: LightGBMXT_BAG_L2 ... Training model for up to 256.46s of the 256.44s of remaining time.\n",
            "INFO:autogluon.core.models.ensemble.bagged_ensemble_model:\tFitting 5 child models (S1F1 - S1F5) | Fitting with ParallelLocalFoldFittingStrategy\n",
            "INFO:autogluon.core.trainer.abstract_trainer:\t-39.1313\t = Validation score   (-root_mean_squared_error)\n",
            "INFO:autogluon.core.trainer.abstract_trainer:\t14.93s\t = Training   runtime\n",
            "INFO:autogluon.core.trainer.abstract_trainer:\t0.22s\t = Validation runtime\n",
            "INFO:autogluon.core.trainer.abstract_trainer:Fitting model: LightGBM_BAG_L2 ... Training model for up to 237.91s of the 237.9s of remaining time.\n",
            "INFO:autogluon.core.models.ensemble.bagged_ensemble_model:\tFitting 5 child models (S1F1 - S1F5) | Fitting with ParallelLocalFoldFittingStrategy\n",
            "INFO:autogluon.core.trainer.abstract_trainer:\t-38.8343\t = Validation score   (-root_mean_squared_error)\n",
            "INFO:autogluon.core.trainer.abstract_trainer:\t13.55s\t = Training   runtime\n",
            "INFO:autogluon.core.trainer.abstract_trainer:\t0.15s\t = Validation runtime\n",
            "INFO:autogluon.core.trainer.abstract_trainer:Fitting model: RandomForestMSE_BAG_L2 ... Training model for up to 220.75s of the 220.73s of remaining time.\n",
            "INFO:autogluon.core.trainer.abstract_trainer:\t-39.0453\t = Validation score   (-root_mean_squared_error)\n",
            "INFO:autogluon.core.trainer.abstract_trainer:\t34.64s\t = Training   runtime\n",
            "INFO:autogluon.core.trainer.abstract_trainer:\t0.69s\t = Validation runtime\n",
            "INFO:autogluon.core.trainer.abstract_trainer:Fitting model: CatBoost_BAG_L2 ... Training model for up to 184.69s of the 184.66s of remaining time.\n",
            "INFO:autogluon.core.models.ensemble.bagged_ensemble_model:\tFitting 5 child models (S1F1 - S1F5) | Fitting with ParallelLocalFoldFittingStrategy\n",
            "INFO:autogluon.core.trainer.abstract_trainer:\t-38.4453\t = Validation score   (-root_mean_squared_error)\n",
            "INFO:autogluon.core.trainer.abstract_trainer:\t37.28s\t = Training   runtime\n",
            "INFO:autogluon.core.trainer.abstract_trainer:\t0.08s\t = Validation runtime\n",
            "INFO:autogluon.core.trainer.abstract_trainer:Fitting model: ExtraTreesMSE_BAG_L2 ... Training model for up to 144.22s of the 144.21s of remaining time.\n",
            "INFO:autogluon.core.trainer.abstract_trainer:\t-38.2777\t = Validation score   (-root_mean_squared_error)\n",
            "INFO:autogluon.core.trainer.abstract_trainer:\t9.97s\t = Training   runtime\n",
            "INFO:autogluon.core.trainer.abstract_trainer:\t0.74s\t = Validation runtime\n",
            "INFO:autogluon.core.trainer.abstract_trainer:Fitting model: NeuralNetFastAI_BAG_L2 ... Training model for up to 132.63s of the 132.61s of remaining time.\n",
            "INFO:autogluon.core.models.ensemble.bagged_ensemble_model:\tFitting 5 child models (S1F1 - S1F5) | Fitting with ParallelLocalFoldFittingStrategy\n",
            "INFO:autogluon.core.trainer.abstract_trainer:\t-39.0202\t = Validation score   (-root_mean_squared_error)\n",
            "INFO:autogluon.core.trainer.abstract_trainer:\t67.15s\t = Training   runtime\n",
            "INFO:autogluon.core.trainer.abstract_trainer:\t0.47s\t = Validation runtime\n",
            "INFO:autogluon.core.trainer.abstract_trainer:Fitting model: XGBoost_BAG_L2 ... Training model for up to 62.07s of the 62.05s of remaining time.\n",
            "INFO:autogluon.core.models.ensemble.bagged_ensemble_model:\tFitting 5 child models (S1F1 - S1F5) | Fitting with ParallelLocalFoldFittingStrategy\n",
            "INFO:autogluon.core.trainer.abstract_trainer:\t-39.3283\t = Validation score   (-root_mean_squared_error)\n",
            "INFO:autogluon.core.trainer.abstract_trainer:\t18.06s\t = Training   runtime\n",
            "INFO:autogluon.core.trainer.abstract_trainer:\t0.18s\t = Validation runtime\n",
            "INFO:autogluon.core.trainer.abstract_trainer:Fitting model: NeuralNetTorch_BAG_L2 ... Training model for up to 40.23s of the 40.21s of remaining time.\n",
            "INFO:autogluon.core.models.ensemble.bagged_ensemble_model:\tFitting 5 child models (S1F1 - S1F5) | Fitting with ParallelLocalFoldFittingStrategy\n",
            "INFO:autogluon.core.trainer.abstract_trainer:\t-40.2472\t = Validation score   (-root_mean_squared_error)\n",
            "INFO:autogluon.core.trainer.abstract_trainer:\t44.56s\t = Training   runtime\n",
            "INFO:autogluon.core.trainer.abstract_trainer:\t0.42s\t = Validation runtime\n",
            "INFO:autogluon.core.trainer.abstract_trainer:Completed 1/20 k-fold bagging repeats ...\n",
            "INFO:autogluon.core.trainer.abstract_trainer:Fitting model: WeightedEnsemble_L3 ... Training model for up to 360.0s of the -8.18s of remaining time.\n",
            "INFO:autogluon.core.trainer.abstract_trainer:\t-38.0089\t = Validation score   (-root_mean_squared_error)\n",
            "INFO:autogluon.core.trainer.abstract_trainer:\t1.21s\t = Training   runtime\n",
            "INFO:autogluon.core.trainer.abstract_trainer:\t0.0s\t = Validation runtime\n",
            "INFO:autogluon.tabular.learner.default_learner:AutoGluon training complete, total runtime = 809.47s ... Best model: \"WeightedEnsemble_L2\"\n",
            "INFO:autogluon.tabular.predictor.predictor:TabularPredictor saved. To load, use: predictor = TabularPredictor.load(\"AutogluonModels/ag-20220823_160530/\")\n"
          ]
        }
      ]
    },
    {
      "cell_type": "code",
      "source": [
        "predictor3=redictor_new_hpo_2.predict(test)\n",
        "predictor3.describe()"
      ],
      "metadata": {
        "id": "XVTfVCNIcMbj"
      },
      "execution_count": null,
      "outputs": []
    },
    {
      "cell_type": "code",
      "source": [
        "num = predictor3._get_numeric_data()\n",
        "\n",
        "num[num < 0] = 0"
      ],
      "metadata": {
        "id": "uUC4G9-sge-z"
      },
      "execution_count": 109,
      "outputs": []
    },
    {
      "cell_type": "code",
      "source": [
        "submission_new_hpo[\"count\"] = predictor3\n",
        "submission_new_hpo.to_csv(\"submission_new_hpo.csv\", index=False)"
      ],
      "metadata": {
        "id": "puussTWocenV"
      },
      "execution_count": 110,
      "outputs": []
    },
    {
      "cell_type": "code",
      "source": [
        "!kaggle competitions submit -c bike-sharing-demand -f submission_new_hpo.csv -m \"new features with hyperparameters 4\""
      ],
      "metadata": {
        "id": "cg0zD2WmcgGj"
      },
      "execution_count": null,
      "outputs": []
    },
    {
      "cell_type": "code",
      "source": [
        "!kaggle competitions submissions -c bike-sharing-demand | tail -n +1 | head -n 6"
      ],
      "metadata": {
        "colab": {
          "base_uri": "https://localhost:8080/"
        },
        "id": "VYGfnL_ycn6Y",
        "outputId": "a8e6feeb-5cfb-4913-c193-1f03b1dd2bc2"
      },
      "execution_count": 112,
      "outputs": [
        {
          "output_type": "stream",
          "name": "stdout",
          "text": [
            "fileName                     date                 description                          status    publicScore  privateScore  \n",
            "---------------------------  -------------------  -----------------------------------  --------  -----------  ------------  \n",
            "submission_new_hpo.csv       2022-08-23 16:21:36  new features with hyperparameters 4  complete  0.49897      0.49897       \n",
            "submission_new_hpo.csv       2022-08-23 16:04:02  new features with hyperparameters 3  complete  0.44475      0.44475       \n",
            "submission.csv               2022-08-23 15:44:47  submission highquality               complete  0.51568      0.51568       \n",
            "submission_new_hpo.csv       2022-08-23 15:18:54  new features with hyperparameters 2  complete  0.72254      0.72254       \n"
          ]
        }
      ]
    },
    {
      "cell_type": "markdown",
      "metadata": {
        "id": "LX9tE7XSsZL8"
      },
      "source": [
        "## Step 7: Write a Report\n",
        "### Refer to the markdown file for the full report\n",
        "### Creating plots and table for report"
      ]
    },
    {
      "cell_type": "code",
      "execution_count": 89,
      "metadata": {
        "jupyter": {
          "source_hidden": true
        },
        "id": "GXMGaV1AsZL8",
        "colab": {
          "base_uri": "https://localhost:8080/",
          "height": 392
        },
        "outputId": "fea1b448-48ab-4a06-beac-62ef341bf04f"
      },
      "outputs": [
        {
          "output_type": "display_data",
          "data": {
            "text/plain": [
              "<Figure size 576x432 with 1 Axes>"
            ],
            "image/png": "[encoded data removed]"
          },
          "metadata": {
            "needs_background": "light"
          }
        }
      ],
      "source": [
        "# Taking the top model score from each training run and creating a line plot to show improvement\n",
        "# You can create these in the notebook and save them to PNG or use some other tool (e.g. google sheets, excel)\n",
        "fig = pd.DataFrame({\n",
        "        \"model\": [\"initial\", \"add_features\", \"hpo\"],\n",
        "        \"score\": [ 12.644489, 8.277411 , 5.178482]\n",
        "    }).plot(x=\"model\", y=\"score\", figsize=(8, 6)).get_figure()\n",
        "fig.savefig('model_train_score.png')"
      ]
    },
    {
      "cell_type": "code",
      "execution_count": 88,
      "metadata": {
        "id": "TRAXXjs9sZL9",
        "colab": {
          "base_uri": "https://localhost:8080/",
          "height": 390
        },
        "outputId": "1331d8b2-d6f4-4f9e-f47b-816a346183fa"
      },
      "outputs": [
        {
          "output_type": "display_data",
          "data": {
            "text/plain": [
              "<Figure size 576x432 with 1 Axes>"
            ],
            "image/png": "[encoded data removed]"
          },
          "metadata": {
            "needs_background": "light"
          }
        }
      ],
      "source": [
        "# Take the 3 kaggle scores and creating a line plot to show improvement\n",
        "fig = pd.DataFrame(\n",
        "    {\n",
        "        \"test_eval\": [\"initial\", \"add_features\", \"hpo\"],\n",
        "        \"score\": [1.77783,0.44182, 0.72254]\n",
        "    }\n",
        ").plot(x=\"test_eval\", y=\"score\", figsize=(8, 6)).get_figure()\n",
        "fig.savefig('model_test_score.png')"
      ]
    },
    {
      "cell_type": "markdown",
      "metadata": {
        "id": "xpVxtS3usZL9"
      },
      "source": [
        "### Hyperparameter table"
      ]
    },
    {
      "cell_type": "code",
      "execution_count": 113,
      "metadata": {
        "id": "-sYUG4uGsZL9",
        "colab": {
          "base_uri": "https://localhost:8080/",
          "height": 143
        },
        "outputId": "d632cf0f-c461-47a2-91b3-9ccabef71ec0"
      },
      "outputs": [
        {
          "output_type": "execute_result",
          "data": {
            "text/plain": [
              "          model       presets  time_limit num_bag_folds    score\n",
              "0       initial  high_quality         600             -  0.51568\n",
              "1  add_features  best_quality         600             5  0.44475\n",
              "2           hpo  best_quality         800             5  0.49897"
            ],
            "text/html": [
              "\n",
              "  <div id=\"df-e2c10bd8-d5a0-4fbe-9d06-e5707ffbb9e1\">\n",
              "    <div class=\"colab-df-container\">\n",
              "      <div>\n",
              "<style scoped>\n",
              "    .dataframe tbody tr th:only-of-type {\n",
              "        vertical-align: middle;\n",
              "    }\n",
              "\n",
              "    .dataframe tbody tr th {\n",
              "        vertical-align: top;\n",
              "    }\n",
              "\n",
              "    .dataframe thead th {\n",
              "        text-align: right;\n",
              "    }\n",
              "</style>\n",
              "<table border=\"1\" class=\"dataframe\">\n",
              "  <thead>\n",
              "    <tr style=\"text-align: right;\">\n",
              "      <th></th>\n",
              "      <th>model</th>\n",
              "      <th>presets</th>\n",
              "      <th>time_limit</th>\n",
              "      <th>num_bag_folds</th>\n",
              "      <th>score</th>\n",
              "    </tr>\n",
              "  </thead>\n",
              "  <tbody>\n",
              "    <tr>\n",
              "      <th>0</th>\n",
              "      <td>initial</td>\n",
              "      <td>high_quality</td>\n",
              "      <td>600</td>\n",
              "      <td>-</td>\n",
              "      <td>0.51568</td>\n",
              "    </tr>\n",
              "    <tr>\n",
              "      <th>1</th>\n",
              "      <td>add_features</td>\n",
              "      <td>best_quality</td>\n",
              "      <td>600</td>\n",
              "      <td>5</td>\n",
              "      <td>0.44475</td>\n",
              "    </tr>\n",
              "    <tr>\n",
              "      <th>2</th>\n",
              "      <td>hpo</td>\n",
              "      <td>best_quality</td>\n",
              "      <td>800</td>\n",
              "      <td>5</td>\n",
              "      <td>0.49897</td>\n",
              "    </tr>\n",
              "  </tbody>\n",
              "</table>\n",
              "</div>\n",
              "      <button class=\"colab-df-convert\" onclick=\"convertToInteractive('df-e2c10bd8-d5a0-4fbe-9d06-e5707ffbb9e1')\"\n",
              "              title=\"Convert this dataframe to an interactive table.\"\n",
              "              style=\"display:none;\">\n",
              "        \n",
              "  <svg xmlns=\"http://www.w3.org/2000/svg\" height=\"24px\"viewBox=\"0 0 24 24\"\n",
              "       width=\"24px\">\n",
              "    <path d=\"M0 0h24v24H0V0z\" fill=\"none\"/>\n",
              "    <path d=\"M18.56 5.44l.94 2.06.94-2.06 2.06-.94-2.06-.94-.94-2.06-.94 2.06-2.06.94zm-11 1L8.5 8.5l.94-2.06 2.06-.94-2.06-.94L8.5 2.5l-.94 2.06-2.06.94zm10 10l.94 2.06.94-2.06 2.06-.94-2.06-.94-.94-2.06-.94 2.06-2.06.94z\"/><path d=\"M17.41 7.96l-1.37-1.37c-.4-.4-.92-.59-1.43-.59-.52 0-1.04.2-1.43.59L10.3 9.45l-7.72 7.72c-.78.78-.78 2.05 0 2.83L4 21.41c.39.39.9.59 1.41.59.51 0 1.02-.2 1.41-.59l7.78-7.78 2.81-2.81c.8-.78.8-2.07 0-2.86zM5.41 20L4 18.59l7.72-7.72 1.47 1.35L5.41 20z\"/>\n",
              "  </svg>\n",
              "      </button>\n",
              "      \n",
              "  <style>\n",
              "    .colab-df-container {\n",
              "      display:flex;\n",
              "      flex-wrap:wrap;\n",
              "      gap: 12px;\n",
              "    }\n",
              "\n",
              "    .colab-df-convert {\n",
              "      background-color: #E8F0FE;\n",
              "      border: none;\n",
              "      border-radius: 50%;\n",
              "      cursor: pointer;\n",
              "      display: none;\n",
              "      fill: #1967D2;\n",
              "      height: 32px;\n",
              "      padding: 0 0 0 0;\n",
              "      width: 32px;\n",
              "    }\n",
              "\n",
              "    .colab-df-convert:hover {\n",
              "      background-color: #E2EBFA;\n",
              "      box-shadow: 0px 1px 2px rgba(60, 64, 67, 0.3), 0px 1px 3px 1px rgba(60, 64, 67, 0.15);\n",
              "      fill: #174EA6;\n",
              "    }\n",
              "\n",
              "    [theme=dark] .colab-df-convert {\n",
              "      background-color: #3B4455;\n",
              "      fill: #D2E3FC;\n",
              "    }\n",
              "\n",
              "    [theme=dark] .colab-df-convert:hover {\n",
              "      background-color: #434B5C;\n",
              "      box-shadow: 0px 1px 3px 1px rgba(0, 0, 0, 0.15);\n",
              "      filter: drop-shadow(0px 1px 2px rgba(0, 0, 0, 0.3));\n",
              "      fill: #FFFFFF;\n",
              "    }\n",
              "  </style>\n",
              "\n",
              "      <script>\n",
              "        const buttonEl =\n",
              "          document.querySelector('#df-e2c10bd8-d5a0-4fbe-9d06-e5707ffbb9e1 button.colab-df-convert');\n",
              "        buttonEl.style.display =\n",
              "          google.colab.kernel.accessAllowed ? 'block' : 'none';\n",
              "\n",
              "        async function convertToInteractive(key) {\n",
              "          const element = document.querySelector('#df-e2c10bd8-d5a0-4fbe-9d06-e5707ffbb9e1');\n",
              "          const dataTable =\n",
              "            await google.colab.kernel.invokeFunction('convertToInteractive',\n",
              "                                                     [key], {});\n",
              "          if (!dataTable) return;\n",
              "\n",
              "          const docLinkHtml = 'Like what you see? Visit the ' +\n",
              "            '<a target=\"_blank\" href=https://colab.research.google.com/notebooks/data_table.ipynb>data table notebook</a>'\n",
              "            + ' to learn more about interactive tables.';\n",
              "          element.innerHTML = '';\n",
              "          dataTable['output_type'] = 'display_data';\n",
              "          await google.colab.output.renderOutput(dataTable, element);\n",
              "          const docLink = document.createElement('div');\n",
              "          docLink.innerHTML = docLinkHtml;\n",
              "          element.appendChild(docLink);\n",
              "        }\n",
              "      </script>\n",
              "    </div>\n",
              "  </div>\n",
              "  "
            ]
          },
          "metadata": {},
          "execution_count": 113
        }
      ],
      "source": [
        "# The 3 hyperparameters we tuned with the kaggle score as the result\n",
        "pd.DataFrame({\n",
        "    \"model\": [\"initial\", \"add_features\", \"hpo\"],\n",
        "    \"presets\":['high_quality','best_quality', 'best_quality'],\n",
        "    \"time_limit\": [600, 600, 800],\n",
        "    \"num_bag_folds\": ['-', 5, 5],\n",
        "    \"score\": [0.51568, 0.44475 , 0.49897]\n",
        "})"
      ]
    }
  ],
  "metadata": {
    "kernelspec": {
      "display_name": "Python 3",
      "language": "python",
      "name": "python3"
    },
    "language_info": {
      "codemirror_mode": {
        "name": "ipython",
        "version": 3
      },
      "file_extension": ".py",
      "mimetype": "text/x-python",
      "name": "python",
      "nbconvert_exporter": "python",
      "pygments_lexer": "ipython3",
      "version": "3.7.9"
    },
    "colab": {
      "provenance": [],
      "name": "project1Autogluon].ipynb",
      "collapsed_sections": [
        "w2VfJbDWsZL1",
        "ipekDzVlsZL1",
        "MGnqSpMysZL1",
        "jmnwzMjKsZL2",
        "15WNqojCsZL3",
        "PjER-eF0sZL4",
        "2NiAv-uTsZL7",
        "T4r7fQJJsZL8",
        "xpVxtS3usZL9"
      ],
      "include_colab_link": true
    }
  },
  "nbformat": 4,
  "nbformat_minor": 0
}